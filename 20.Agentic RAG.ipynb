{
 "cells": [
  {
   "cell_type": "markdown",
   "id": "89ff7706",
   "metadata": {},
   "source": [
    "En este cuaderno, construiremos un agente que actúe como camarero de restaurante, capaz de interactuar con los clientes, responder a sus preguntas sobre el menú y proporcionar respuestas amables. Usaremos las bibliotecas LangChain y LangGraph para construir el flujo de trabajo del agente e integrarlo con los modelos de lenguaje basados en GPT de OpenAI."
   ]
  },
  {
   "cell_type": "markdown",
   "id": "199cc1fd",
   "metadata": {},
   "source": [
    "### Libraries, API Keys and Data\n",
    "\n",
    "Necesitamos instalar varias bibliotecas para construir nuestro agente:\n",
    "*   langchain-community y langchain-openai: Para integraciones con modelos de lenguaje y creación de prompts.\n",
    "*   unstructured: Para la carga y procesamiento de documentos.\n",
    "*   faiss-cpu: Para la búsqueda de similitud vectorial.\n",
    "*   langgraph: Para construir el grafo de flujo de trabajo.\n"
   ]
  },
  {
   "cell_type": "code",
   "execution_count": 1,
   "id": "2bbbb6c2",
   "metadata": {},
   "outputs": [],
   "source": [
    "from langchain_community.document_loaders import UnstructuredExcelLoader\n",
    "from langchain.text_splitter import RecursiveCharacterTextSplitter\n",
    "from langchain_chroma import Chroma\n",
    "from langchain.prompts import ChatPromptTemplate\n",
    "from langchain_google_genai import ChatGoogleGenerativeAI, GoogleGenerativeAIEmbeddings\n",
    "from langchain.schema.output_parser import StrOutputParser\n",
    "\n",
    "from typing import List\n",
    "from typing_extensions import TypedDict\n",
    "from IPython.display import display, Image\n",
    "\n",
    "from langgraph.graph import StateGraph, END"
   ]
  },
  {
   "cell_type": "markdown",
   "id": "ff5e810d",
   "metadata": {},
   "source": [
    "Usamos UnstructuredExcelLoader para cargar datos desde el archivo de Excel que contiene el menú del restaurante. El parámetro mode=\"elements\" asegura que los datos se carguen como elementos individuales.\n"
   ]
  },
  {
   "cell_type": "code",
   "execution_count": 2,
   "id": "f584b0ff",
   "metadata": {},
   "outputs": [],
   "source": [
    "# Specify the path to the Excel file containing the menu\n",
    "file = 'imgs/menus/Dim Sum/carta.xlsx'\n",
    "\n",
    "# Create an instance of the loader with the specified mode\n",
    "loader = UnstructuredExcelLoader(file, mode=\"elements\")\n",
    "\n",
    "# Load the data from the Excel file\n",
    "data = loader.load()"
   ]
  },
  {
   "cell_type": "markdown",
   "id": "c2143fb5",
   "metadata": {},
   "source": [
    "Creamos embeddings para los datos del menú utilizando GoogleGenerativeAIEmbeddings. Chroma se utiliza para crear un almacén vectorial a partir de los documentos, lo que permite realizar búsquedas de similitud de manera eficiente."
   ]
  },
  {
   "cell_type": "code",
   "execution_count": 3,
   "id": "54c4bf3d",
   "metadata": {},
   "outputs": [],
   "source": [
    "import os\n",
    "from json import load\n",
    "from dotenv import load_dotenv\n",
    "\n",
    "load_dotenv()  # Load environment variables from a .env file\n",
    "google_api_key = os.getenv(\"GOOGLE_API_KEY\")  # Get the Gemini API key from environment variables"
   ]
  },
  {
   "cell_type": "code",
   "execution_count": 6,
   "id": "8f4c19c1",
   "metadata": {},
   "outputs": [],
   "source": [
    "# Create embeddings using Google Gemini embedding model\n",
    "embeddings_client = GoogleGenerativeAIEmbeddings(model=\"models/text-embedding-004\")\n",
    "\n",
    "def clean_metadata(data):\n",
    "    for doc in data:\n",
    "        if hasattr(doc, 'metadata'):\n",
    "            for key, value in doc.metadata.items():\n",
    "                if isinstance(value, (list, dict)):\n",
    "                    doc.metadata[key] = str(value)\n",
    "    return data\n",
    "\n",
    "# Limpia los metadatos antes de crear el vector store\n",
    "data = clean_metadata(data)\n",
    "\n",
    "db = Chroma.from_documents(data, embeddings_client)\n"
   ]
  },
  {
   "cell_type": "markdown",
   "id": "82c55db9",
   "metadata": {},
   "source": [
    "### Proceso\n",
    "\n",
    "Definimos una clase personalizada TypedDict para llevar un registro del estado del agente e implementamos funciones que representan los diferentes pasos en el flujo de trabajo del agente.\n",
    "\n",
    "AgentState almacena toda la información necesaria sobre el estado actual de la conversación.\n"
   ]
  },
  {
   "cell_type": "code",
   "execution_count": 7,
   "id": "af118fd8",
   "metadata": {},
   "outputs": [],
   "source": [
    "# Define a TypedDict to store the agent's state\n",
    "class AgentState(TypedDict):\n",
    "    start: bool             # Indicates if the conversation has started\n",
    "    conversation: int       # Keeps track of conversation turns\n",
    "    question: str           # Customer's question\n",
    "    answer: str             # Agent's answer\n",
    "    topic: bool             # Decision on whether the question is appropriate\n",
    "    documents: list         # Relevant documents retrieved\n",
    "    recursion_limit: int    # To avoid endless loops\n",
    "    memory: list            # Conversation history"
   ]
  },
  {
   "cell_type": "code",
   "execution_count": 64,
   "id": "ac091ef6",
   "metadata": {},
   "outputs": [],
   "source": [
    "def greetings(state):\n",
    "    # Saludar al cliente\n",
    "    print(f\"\\033[0;31m¡Hola! Bienvenido al restaurante. Seré su camarero. ¿En qué puedo ayudarle?\\033[0m\")\n",
    "\n",
    "    # Capturar la entrada del usuario\n",
    "    print('\\n')\n",
    "    user_input = input()\n",
    "    print(f\"\\033[0;32m{user_input}\\033[0m\")\n",
    "    print('\\n')\n",
    "\n",
    "    # Actualizar el estado con la pregunta del cliente e inicializar variables de la conversación\n",
    "    state['question'] = user_input\n",
    "    state['conversation'] = 1\n",
    "    state['memory'] = [user_input]\n",
    "\n",
    "    return state\n"
   ]
  },
  {
   "cell_type": "markdown",
   "id": "f32165d0",
   "metadata": {},
   "source": [
    "Necesitamos evaluar si la pregunta del cliente es apropiada para que la responda un camarero."
   ]
  },
  {
   "cell_type": "code",
   "execution_count": 50,
   "id": "104a4a27",
   "metadata": {},
   "outputs": [],
   "source": [
    "def check_question(state):\n",
    "    # Obtener la pregunta del cliente desde el estado\n",
    "    question = state['question']\n",
    "\n",
    "    # Definir el prompt del sistema para evaluar la pertinencia de la pregunta\n",
    "    system_prompt = \"\"\"\n",
    "    Eres un evaluador que califica la pertinencia de la pregunta de un cliente a un camarero en un restaurante.\n",
    "    Evalúa si la pregunta es adecuada para hacer al personal del restaurante y si el cliente muestra interés en continuar la conversación.\n",
    "    Responde con \"True\" si la pregunta es apropiada para el personal o indica que el cliente está haciendo una pregunta o dándote información.\n",
    "    De lo contrario, responde con \"False\".\n",
    "    Proporciona solo \"True\" o \"False\" en tu respuesta.\n",
    "    \"\"\"\n",
    "\n",
    "    # Crear una plantilla de prompt para el formato\n",
    "    TEMPLATE = ChatPromptTemplate.from_messages([\n",
    "        (\"system\", system_prompt),\n",
    "        (\"human\", \"Pregunta del usuario: {question}\"),\n",
    "    ])\n",
    "\n",
    "    # Formatear el prompt con la pregunta del cliente\n",
    "    prompt = TEMPLATE.format(question=question)\n",
    "\n",
    "    # Inicializar el modelo de lenguaje\n",
    "    model = ChatGoogleGenerativeAI(model=\"gemini-2.0-flash\", api_key=google_api_key)\n",
    "\n",
    "    # Invocar el modelo con el prompt\n",
    "    response_text = model.invoke(prompt)\n",
    "\n",
    "    # Actualizar el estado con la decisión del modelo\n",
    "    state['topic'] = response_text.content.strip()\n",
    "\n",
    "    return state\n"
   ]
  },
  {
   "cell_type": "markdown",
   "id": "bd8bf382",
   "metadata": {},
   "source": [
    "Esta función dirige el flujo de trabajo según si la pregunta está relacionada con el tema o no."
   ]
  },
  {
   "cell_type": "code",
   "execution_count": 51,
   "id": "16c031a4",
   "metadata": {},
   "outputs": [],
   "source": [
    "# Function to check if the LLM model decides if the question is on topic on top\n",
    "def topic_router(state):\n",
    "  topic = state['topic']\n",
    "  if topic == \"True\":\n",
    "    return \"on_topic\"\n",
    "  else:\n",
    "    return \"off_topic\""
   ]
  },
  {
   "cell_type": "markdown",
   "id": "bd1d2a42",
   "metadata": {},
   "source": [
    "Proporciona una respuesta adecuada si la pregunta del cliente no está relacionada con el tema."
   ]
  },
  {
   "cell_type": "code",
   "execution_count": 68,
   "id": "ab90367c",
   "metadata": {},
   "outputs": [],
   "source": [
    "def off_topic_response(state):\n",
    "    # Verificar si es el primer turno de conversación\n",
    "    if state['conversation'] <= 1:\n",
    "        state['answer'] = \"\\nLo siento, no puedo responder esa pregunta. Solo puedo responder preguntas sobre el menú de este restaurante.\"\n",
    "    else:\n",
    "        state['answer'] = \"\\nEncantado de ayudar.\"\n",
    "    print(f\"\\033[0;31m{state['answer']}\\033[0m\")"
   ]
  },
  {
   "cell_type": "markdown",
   "id": "353dde38",
   "metadata": {},
   "source": [
    "Si la pregunta está relacionada con el tema, recuperamos documentos relevantes y generamos una respuesta utilizando el modelo de lenguaje.\n",
    "\n",
    "**Recuperar documentos relevantes**\n",
    "Usamos el historial de la conversación para recuperar los elementos del menú más relevantes. similarity_search encuentra los documentos más pertinentes.\n"
   ]
  },
  {
   "cell_type": "code",
   "execution_count": 53,
   "id": "a16c9c1e",
   "metadata": {},
   "outputs": [],
   "source": [
    "def retrieve_docs(state):\n",
    "    # Combine the conversation history into a single string\n",
    "    memory = \" \".join(state['memory'])\n",
    "\n",
    "    # Retrieve the top 5 relevant documents based on similarity to the conversation history\n",
    "    docs_chroma = db.similarity_search(memory, k=5)\n",
    "\n",
    "    # Store the retrieved documents' content in the state\n",
    "    state['documents'] = [doc.page_content for doc in docs_chroma]\n",
    "\n",
    "    return state"
   ]
  },
  {
   "cell_type": "markdown",
   "id": "257c36d5",
   "metadata": {},
   "source": [
    "Genera una respuesta inicial a la pregunta del cliente utilizando el modelo de lenguaje.\n"
   ]
  },
  {
   "cell_type": "code",
   "execution_count": 74,
   "id": "8c01c1c8",
   "metadata": {},
   "outputs": [],
   "source": [
    "def generate(state):\n",
    "    # Inicializar el modelo de lenguaje\n",
    "    model = ChatGoogleGenerativeAI(model=\"gemini-2.0-flash\", api_key=google_api_key)\n",
    "\n",
    "    # Extraer la información necesaria del estado\n",
    "    question = state['question']\n",
    "    documents = state['documents']\n",
    "    memory = state['memory']\n",
    "\n",
    "    # Definir el prompt del sistema para el camarero\n",
    "    system_prompt = \"\"\"\n",
    "    Eres un camarero en un restaurante encargado de responder las preguntas de los clientes sobre el menú.\n",
    "    Responde la pregunta como lo haría un camarero, evitando ser demasiado extenso o demasiado breve.\n",
    "    No incluyas la palabra \"camarero\" ni te refieras a ti mismo explícitamente en tu respuesta.\n",
    "    La información sobre platos y bebidas con sus precios es la proporcionada en los documentos recuperados.\n",
    "    No te inventes platos ni precios que no estén en esos documentos.\n",
    "    \"\"\"\n",
    "\n",
    "    # Crear una plantilla de prompt para el formato\n",
    "    TEMPLATE = ChatPromptTemplate.from_messages([\n",
    "        (\"system\", system_prompt),\n",
    "        (\"human\", \"Contexto: {documents}\\nHistorial de la conversación hasta ahora: {memory}\\nPregunta del cliente: {question}\"),\n",
    "    ])\n",
    "\n",
    "    # Formatear el prompt con los documentos recuperados, el historial de la conversación y la pregunta del cliente\n",
    "    prompt = TEMPLATE.format(documents=documents, memory=memory, question=question)\n",
    "\n",
    "    # Invocar el modelo para generar una respuesta\n",
    "    response_text = model.invoke(prompt)\n",
    "\n",
    "    # Almacenar la respuesta generada en el estado\n",
    "    state[\"answer\"] = response_text.content.strip()\n",
    "    #print(f\"\\033[0;32m{state['answer']}\\033[0m\")\n",
    "\n",
    "    return state\n"
   ]
  },
  {
   "cell_type": "markdown",
   "id": "b98b8588",
   "metadata": {},
   "source": [
    "Refinamos la respuesta generada para asegurarnos de que sea apropiada, amable y profesional."
   ]
  },
  {
   "cell_type": "code",
   "execution_count": 82,
   "id": "b46c7397",
   "metadata": {},
   "outputs": [],
   "source": [
    "def improve_answer(state):\n",
    "    # Extraer la información necesaria del estado\n",
    "    question = state['question']\n",
    "    answer = state['answer']\n",
    "    memory = state['memory']\n",
    "\n",
    "    # Definir el prompt del sistema para refinar la respuesta\n",
    "    system = \"\"\"\n",
    "    Como camarero, revisa y mejora la respuesta a la pregunta de un cliente. Tu tarea es:\n",
    "\n",
    "    1. Asegurarte de que la respuesta sea apropiada, amable e informativa.\n",
    "    2. Editar o eliminar partes de la respuesta según sea necesario, sin agregar información nueva.\n",
    "    3. Mantener un tono educado, profesional y atento.\n",
    "    4. Proporcionar solo la respuesta mejorada, sin frases introductorias ni comentarios.\n",
    "    5. Concluir la respuesta con una pregunta abierta para invitar a más consultas o atender otras necesidades.\n",
    "    6. Considerar el historial de la conversación para ser más informativo y útil.\n",
    "    7. Incluir saltos de línea (`\\n`) al final de cada oración o pausa lógica.\n",
    "    8. No abrumar al cliente con demasiada información. Debe ser concisa, relevante y precisa.\n",
    "    9. Acortar la respuesta si tiene demasiados datos.\n",
    "    10. Los precios sólo se dan si el cliente pregunta por ellos.\n",
    "\n",
    "    Entrega una respuesta refinada que mejore la experiencia del cliente y refleje el compromiso del restaurante con el servicio al cliente.\n",
    "    \"\"\"\n",
    "\n",
    "    # Crear una plantilla de prompt para el formato\n",
    "    TEMPLATE = ChatPromptTemplate.from_messages([\n",
    "        (\"system\", system),\n",
    "        (\"human\", \"Pregunta del cliente: {question}\\nHistorial de la conversación: {memory}\\nRespuesta inicial del camarero: {answer}\"),\n",
    "    ])\n",
    "\n",
    "    # Inicializar el modelo de lenguaje\n",
    "    model = ChatGoogleGenerativeAI(model=\"gemini-2.0-flash\", api_key=google_api_key)\n",
    "\n",
    "    # Formatear el prompt con la información necesaria\n",
    "    prompt = TEMPLATE.format(question=question, memory=memory, answer=answer)\n",
    "\n",
    "    # Invocar el modelo para mejorar la respuesta\n",
    "    response_text = model.invoke(prompt)\n",
    "\n",
    "    # Actualizar el estado con la respuesta mejorada\n",
    "    state['answer'] = response_text.content.strip()\n",
    "\n",
    "    # Mostrar la respuesta mejorada\n",
    "    print('\\n')\n",
    "   \n",
    "    print(f\"\\033[0;31m{state['answer']}\\033[0m\")\n",
    "\n",
    "    # Agregar la respuesta mejorada al historial de la conversación\n",
    "    state['memory'].append(state['answer'])\n",
    "\n",
    "    return state\n"
   ]
  },
  {
   "cell_type": "markdown",
   "id": "8334720c",
   "metadata": {},
   "source": [
    "Permite que el cliente haga preguntas adicionales y actualiza el estado de la conversación en consecuencia."
   ]
  },
  {
   "cell_type": "code",
   "execution_count": 65,
   "id": "11932f6a",
   "metadata": {},
   "outputs": [],
   "source": [
    "def further_question(state):\n",
    "    # Prompt the customer for further input\n",
    "    print('\\n')\n",
    "    user_input = input()\n",
    "    print(f\"\\033[0;32m{user_input}\\033[0m\")\n",
    "    print('\\n')\n",
    "    \n",
    "    # Update the state with the new question and increment the conversation turn\n",
    "    state['question'] = user_input\n",
    "    state['conversation'] += 1\n",
    "    state['memory'].append(user_input)\n",
    "\n",
    "    return state"
   ]
  },
  {
   "cell_type": "markdown",
   "id": "d6f6ad07",
   "metadata": {},
   "source": [
    "### Workflow\n",
    "\n",
    "Usamos StateGraph para definir el flujo de trabajo del agente, conectando las funciones que hemos definido.\n",
    "\n",
    "**Inicializar StateGraph**\n",
    "StateGraph ayuda a definir el flujo del estado del agente a través de las diferentes funciones.\n"
   ]
  },
  {
   "cell_type": "code",
   "execution_count": 83,
   "id": "cf0a6941",
   "metadata": {},
   "outputs": [],
   "source": [
    "# Initialize a StateGraph with the AgentState type\n",
    "workflow = StateGraph(AgentState)\n",
    "\n",
    "# Add the functions as nodes in the workflow\n",
    "workflow.add_node(\"greetings\", greetings)\n",
    "workflow.add_node(\"off_topic_response\", off_topic_response)\n",
    "workflow.add_node(\"check_question\", check_question)\n",
    "workflow.add_node(\"retrieve_docs\", retrieve_docs)\n",
    "workflow.add_node(\"generate\", generate)\n",
    "workflow.add_node(\"improve_answer\", improve_answer)\n",
    "workflow.add_edge(\"generate\", \"improve_answer\")\n",
    "workflow.add_node(\"further_question\", further_question)\n",
    "\n",
    "# Set the entry point of the workflow to the greetings function\n",
    "workflow.set_entry_point(\"greetings\")\n",
    "\n",
    "# Add conditional edges based on the topic_router function's output\n",
    "workflow.add_conditional_edges(\n",
    "    \"check_question\",\n",
    "    topic_router,\n",
    "    {\n",
    "        \"on_topic\": \"retrieve_docs\",\n",
    "        \"off_topic\": \"off_topic_response\"\n",
    "    }\n",
    ")\n",
    "\n",
    "# Define the sequence of steps in the workflow\n",
    "workflow.add_edge(\"greetings\", \"check_question\")\n",
    "workflow.add_edge(\"retrieve_docs\", \"generate\")\n",
    "workflow.add_edge(\"generate\", \"improve_answer\")\n",
    "workflow.add_edge(\"improve_answer\", \"further_question\")\n",
    "workflow.add_edge(\"further_question\", \"check_question\")\n",
    "\n",
    "# Connect the off_topic_response node to the end of the workflow\n",
    "workflow.add_edge(\"off_topic_response\", END)\n",
    "\n",
    "\n",
    "# Compile the workflow into an application\n",
    "app = workflow.compile()\n"
   ]
  },
  {
   "cell_type": "code",
   "execution_count": 44,
   "id": "b42c043d",
   "metadata": {},
   "outputs": [
    {
     "data": {
      "image/png": "[encoded data removed]",
      "text/plain": [
       "<IPython.core.display.Image object>"
      ]
     },
     "metadata": {},
     "output_type": "display_data"
    }
   ],
   "source": [
    "# Display the workflow graph for visualization\n",
    "display(Image(app.get_graph(xray=True).draw_mermaid_png()))"
   ]
  },
  {
   "cell_type": "code",
   "execution_count": 85,
   "id": "2099631b",
   "metadata": {},
   "outputs": [
    {
     "name": "stdout",
     "output_type": "stream",
     "text": [
      "\u001b[0;31m¡Hola! Bienvenido al restaurante. Seré su camarero. ¿En qué puedo ayudarle?\u001b[0m\n",
      "\n",
      "\n",
      "\u001b[0;32mHola\u001b[0m\n",
      "\n",
      "\n",
      "\n",
      "\n",
      "\u001b[0;31m¡Hola! ¿En qué puedo ayudarle hoy?\u001b[0m\n",
      "\n",
      "\n",
      "\u001b[0;32mQuiero comprar un coche\u001b[0m\n",
      "\n",
      "\n",
      "\u001b[0;31m\n",
      "Encantado de ayudar.\u001b[0m\n"
     ]
    }
   ],
   "source": [
    "# Invoke the application with the initial state\n",
    "result = app.invoke({\"start\": True}, {\"recursion_limit\": 50})"
   ]
  }
 ],
 "metadata": {
  "kernelspec": {
   "display_name": ".venv",
   "language": "python",
   "name": "python3"
  },
  "language_info": {
   "codemirror_mode": {
    "name": "ipython",
    "version": 3
   },
   "file_extension": ".py",
   "mimetype": "text/x-python",
   "name": "python",
   "nbconvert_exporter": "python",
   "pygments_lexer": "ipython3",
   "version": "3.13.3"
  }
 },
 "nbformat": 4,
 "nbformat_minor": 5
}
