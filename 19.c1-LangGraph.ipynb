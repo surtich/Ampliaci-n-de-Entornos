{
 "cells": [
  {
   "cell_type": "markdown",
   "id": "f177b680",
   "metadata": {},
   "source": [
    "### LangGraph\n",
    "\n",
    "LangGraph es una biblioteca del ecosistema LangChain diseñada para construir flujos de trabajo complejos y colaborativos entre múltiples agentes de IA. Utiliza una arquitectura basada en grafos, donde cada nodo puede ser un agente o una función, y las conexiones (aristas) definen el flujo y la comunicación entre ellos.\n",
    "\n",
    "Esto permite crear sistemas donde varios agentes pueden interactuar, compartir información y tomar decisiones de manera coordinada, con soporte para memoria y control de estado. LangGraph es útil para aplicaciones como asistentes inteligentes, agentes autónomos, sistemas de decisión y automatización avanzada, facilitando la orquestación y escalabilidad de soluciones basadas en IA."
   ]
  },
  {
   "cell_type": "markdown",
   "id": "23843f02",
   "metadata": {},
   "source": [
    "### Elementos de LangGraph\n",
    "\n",
    "* **Graph**: En LangGraph, un \"Graph\" (grafo) es la estructura principal que modela el flujo de trabajo de agentes como un conjunto de nodos (Nodes) conectados por aristas (Edges). Permite definir rutas, ciclos y la lógica de transición entre agentes o funciones, facilitando la coordinación y ejecución de sistemas complejos multiagente.\n",
    "\n",
    "* **State**: El \"State\" (estado) es una estructura de datos compartida que representa una instantánea actual de la aplicación. Contiene toda la información relevante que se va actualizando conforme los nodos procesan datos y toman decisiones. Puede ser un diccionario de Python, un TypedDict o un modelo Pydantic, y es fundamental para mantener el contexto a lo largo de la ejecución del grafo.   El estado en LangGraph es inmutable. Asociado a cada campo del estado, se puede definir un `reducer`. LangGraph usa el `reducer` de cada campo para combinarlo con el estado actual.\n",
    "\n",
    "* **Node**: Un \"Node\" (nodo) en LangGraph es típicamente una función de Python que implementa la lógica de un agente o un paso del flujo de trabajo. Recibe el estado actual como entrada, realiza un procesamiento o acción, y devuelve un estado actualizado.\n",
    "\n",
    "* **Edge**: Una \"Edge\" (arista) es una función o conexión que determina qué nodo se ejecuta a continuación, en función del estado actual. Las aristas pueden ser transiciones fijas o condicionales, y permiten definir flujos de trabajo complejos, incluyendo bifurcaciones y ciclos. Son responsables de guiar el paso de información y la secuencia de ejecución entre nodos.\n"
   ]
  },
  {
   "cell_type": "markdown",
   "id": "a15c3cf1",
   "metadata": {},
   "source": [
    "### Pasos para definir un grafo\n",
    "\n",
    " 1. **Definir el estado**: Crear una clase que represente el estado compartido de la aplicación, utilizando un diccionario, TypedDict o Pydantic.\n",
    " 2. Empezar el `graph buiilder` para crear un nuevo grafo.\n",
    " 3. Crear un nodo.\n",
    " 4. Crear Edges.\n",
    " 5. Compilar el grafo"
   ]
  },
  {
   "cell_type": "markdown",
   "id": "dd41ce56",
   "metadata": {},
   "source": [
    "### Ejemplo de uso\n",
    "\n"
   ]
  },
  {
   "cell_type": "code",
   "execution_count": 1,
   "id": "15665320",
   "metadata": {},
   "outputs": [],
   "source": [
    "from typing import Annotated\n",
    "from langgraph.graph import StateGraph, START, END\n",
    "from langgraph.graph.message import add_messages\n",
    "from dotenv import load_dotenv\n",
    "from IPython.display import Image, display\n",
    "import gradio as gr\n",
    "from langgraph.graph import StateGraph\n",
    "from langgraph.graph.message import add_messages\n",
    "from langchain_google_genai import ChatGoogleGenerativeAI\n",
    "from pydantic import BaseModel\n",
    "import random\n"
   ]
  },
  {
   "cell_type": "code",
   "execution_count": 3,
   "id": "96937541",
   "metadata": {},
   "outputs": [],
   "source": [
    "# Algunas constantes útiles\n",
    "\n",
    "nouns = [\"Coles\", \"Unicornios\", \"Tostadoras\", \"Pingüinos\", \"Plátanos\", \"Zombis\", \"Arcoíris\", \"Anguilas\", \"Pepinillos\", \"Muffins\"]\n",
    "adjectives = [\"escandaloso\", \"maloliente\", \"pedante\", \"existencial\", \"malhumorado\", \"brillante\", \"poco fiable\", \"sarcástico\", \"blandito\", \"embrujado\"]\n"
   ]
  },
  {
   "cell_type": "code",
   "execution_count": 2,
   "id": "78cecf7b",
   "metadata": {},
   "outputs": [
    {
     "data": {
      "text/plain": [
       "True"
      ]
     },
     "execution_count": 2,
     "metadata": {},
     "output_type": "execute_result"
    }
   ],
   "source": [
    "# Our favorite first step! Crew was doing this for us, by the way.\n",
    "load_dotenv(override=True)\n"
   ]
  },
  {
   "cell_type": "code",
   "execution_count": null,
   "id": "6dece394",
   "metadata": {},
   "outputs": [
    {
     "name": "stdout",
     "output_type": "stream",
     "text": [
      "HELLO\n"
     ]
    },
    {
     "data": {
      "text/plain": [
       "'HELLO'"
      ]
     },
     "execution_count": 5,
     "metadata": {},
     "output_type": "execute_result"
    }
   ],
   "source": [
    "def shout(text: Annotated[str, \"something to be shouted\"]) -> str:\n",
    "    print(text.upper())\n",
    "    return text.upper()\n",
    "\n",
    "shout(\"hello\")"
   ]
  },
  {
   "cell_type": "markdown",
   "id": "9459ddf2",
   "metadata": {},
   "source": [
    "### Hola Mundo LangGraph\n",
    "\n",
    "Vamos a hacer un ejemplo sencillo para comprender todos los pasos necesarios para crear un grafo en LangGraph. Este ejemplo demuestra que LangGraph sirve para construir flujos de trabajo que no requieren de un LLM. "
   ]
  },
  {
   "cell_type": "markdown",
   "id": "4d9e9e36",
   "metadata": {},
   "source": [
    "**Paso 1: Definir el estado**\n",
    "\n",
    "El estado, en este caso, va a ser una clase de tipo `Pydantic` que contendrá un campo `messages`. El tipo de `messages` será una lista. Una forma alternativa a definir `type hint`, es usar campos \"anotados\". Los tipos anotados normalmente incluyen un comentario y son ignorados por Python, pero pueden ser usados en otro contexto. En este caso, LangGraph permite que definir el `reducer` de tipo. En este caso es una función ya proporcionada por LangGraph.\n"
   ]
  },
  {
   "cell_type": "code",
   "execution_count": 6,
   "id": "821524a5",
   "metadata": {},
   "outputs": [],
   "source": [
    "class State(BaseModel):\n",
    "        \n",
    "    messages: Annotated[list, add_messages]\n"
   ]
  },
  {
   "cell_type": "markdown",
   "id": "e1e9d2c7",
   "metadata": {},
   "source": [
    "**Paso 2: Iniciar el `graph builder`**"
   ]
  },
  {
   "cell_type": "code",
   "execution_count": 16,
   "id": "1b921a45",
   "metadata": {},
   "outputs": [],
   "source": [
    "graph_builder = StateGraph(State)"
   ]
  },
  {
   "cell_type": "markdown",
   "id": "ea35ac63",
   "metadata": {},
   "source": [
    "**Paso 3: Crear un nodo**"
   ]
  },
  {
   "cell_type": "code",
   "execution_count": 17,
   "id": "8d45d8a9",
   "metadata": {},
   "outputs": [
    {
     "data": {
      "text/plain": [
       "<langgraph.graph.state.StateGraph at 0x7f929c296490>"
      ]
     },
     "execution_count": 17,
     "metadata": {},
     "output_type": "execute_result"
    }
   ],
   "source": [
    "def our_first_node(old_state: State) -> State:\n",
    "\n",
    "    reply = f\"{random.choice(nouns)} {random.choice(adjectives)}\"\n",
    "    messages = [{\"role\": \"assistant\", \"content\": reply}]\n",
    "\n",
    "    new_state = State(messages=messages)\n",
    "\n",
    "    return new_state\n",
    "\n",
    "graph_builder.add_node(\"first_node\", our_first_node)"
   ]
  },
  {
   "cell_type": "markdown",
   "id": "23d36a26",
   "metadata": {},
   "source": [
    "**Crear Edges**"
   ]
  },
  {
   "cell_type": "code",
   "execution_count": 18,
   "id": "f9853858",
   "metadata": {},
   "outputs": [
    {
     "data": {
      "text/plain": [
       "<langgraph.graph.state.StateGraph at 0x7f929c296490>"
      ]
     },
     "execution_count": 18,
     "metadata": {},
     "output_type": "execute_result"
    }
   ],
   "source": [
    "graph_builder.add_edge(START, \"first_node\")\n",
    "graph_builder.add_edge(\"first_node\", END)"
   ]
  },
  {
   "cell_type": "markdown",
   "id": "ea9d073c",
   "metadata": {},
   "source": [
    "**Compilar el grafo**"
   ]
  },
  {
   "cell_type": "code",
   "execution_count": 19,
   "id": "a7174d1e",
   "metadata": {},
   "outputs": [],
   "source": [
    "graph = graph_builder.compile()"
   ]
  },
  {
   "cell_type": "code",
   "execution_count": 11,
   "id": "c970c2c6",
   "metadata": {},
   "outputs": [
    {
     "data": {
      "image/png": "[encoded data removed]",
      "text/plain": [
       "<IPython.core.display.Image object>"
      ]
     },
     "metadata": {},
     "output_type": "display_data"
    }
   ],
   "source": [
    "display(Image(graph.get_graph().draw_mermaid_png()))"
   ]
  },
  {
   "cell_type": "markdown",
   "id": "d9223dd0",
   "metadata": {},
   "source": [
    "**Probamos**"
   ]
  },
  {
   "cell_type": "code",
   "execution_count": 13,
   "id": "69faf8f5",
   "metadata": {},
   "outputs": [],
   "source": [
    "def chat(user_input: str, history):\n",
    "    message = {\"role\": \"user\", \"content\": user_input}\n",
    "    messages = [message]\n",
    "    state = State(messages=messages)\n",
    "    result = graph.invoke(state)\n",
    "    print(result)\n",
    "    return result[\"messages\"][-1].content\n",
    "\n"
   ]
  },
  {
   "cell_type": "code",
   "execution_count": 20,
   "id": "b8b67836",
   "metadata": {},
   "outputs": [
    {
     "name": "stdout",
     "output_type": "stream",
     "text": [
      "* Running on local URL:  http://127.0.0.1:7861\n",
      "* To create a public link, set `share=True` in `launch()`.\n"
     ]
    },
    {
     "data": {
      "text/html": [
       "<div><iframe src=\"http://127.0.0.1:7861/\" width=\"100%\" height=\"500\" allow=\"autoplay; camera; microphone; clipboard-read; clipboard-write;\" frameborder=\"0\" allowfullscreen></iframe></div>"
      ],
      "text/plain": [
       "<IPython.core.display.HTML object>"
      ]
     },
     "metadata": {},
     "output_type": "display_data"
    },
    {
     "data": {
      "text/plain": []
     },
     "execution_count": 20,
     "metadata": {},
     "output_type": "execute_result"
    },
    {
     "name": "stdout",
     "output_type": "stream",
     "text": [
      "{'messages': [HumanMessage(content='Hola', additional_kwargs={}, response_metadata={}, id='1256c93d-5479-4172-a3be-6b92935cb9a6'), AIMessage(content='Unicornios malhumorado', additional_kwargs={}, response_metadata={}, id='6d90f519-c752-4e64-89ce-d0c2b5555273')]}\n",
      "{'messages': [HumanMessage(content='j', additional_kwargs={}, response_metadata={}, id='4bbf0350-9fdd-4b5f-aed6-3dbfa9d9660d'), AIMessage(content='Tostadoras pedante', additional_kwargs={}, response_metadata={}, id='0909e583-8689-492c-ba3b-fc84e14f0d2b')]}\n",
      "{'messages': [HumanMessage(content='kk', additional_kwargs={}, response_metadata={}, id='6d55b6df-7134-4027-a142-d9c2b2114549'), AIMessage(content='Tostadoras existencial', additional_kwargs={}, response_metadata={}, id='472bbf98-aea4-45ad-8a17-bce05496a44f')]}\n"
     ]
    }
   ],
   "source": [
    "gr.ChatInterface(chat, type=\"messages\").launch()"
   ]
  },
  {
   "cell_type": "markdown",
   "id": "18835c3f",
   "metadata": {},
   "source": [
    "### Uso de LLMs en \n",
    "\n",
    "En este ejercicio incorporamos un LLM para que el grafo pueda interactuar con un modelo de lenguaje."
   ]
  },
  {
   "cell_type": "code",
   "execution_count": 21,
   "id": "40b0ac90",
   "metadata": {},
   "outputs": [],
   "source": [
    "# Step 1: Define the State object\n",
    "class State(BaseModel):\n",
    "    messages: Annotated[list, add_messages]\n"
   ]
  },
  {
   "cell_type": "code",
   "execution_count": 22,
   "id": "34864c49",
   "metadata": {},
   "outputs": [],
   "source": [
    "# Step 2: Start the Graph Builder with this State class\n",
    "graph_builder = StateGraph(State)"
   ]
  },
  {
   "cell_type": "code",
   "execution_count": 23,
   "id": "99f1fda4",
   "metadata": {},
   "outputs": [
    {
     "data": {
      "text/plain": [
       "<langgraph.graph.state.StateGraph at 0x7f928a608a50>"
      ]
     },
     "execution_count": 23,
     "metadata": {},
     "output_type": "execute_result"
    }
   ],
   "source": [
    "# Step 3: Create a Node\n",
    "\n",
    "llm = ChatGoogleGenerativeAI(model=\"gemini-2.0-flash\")\n",
    "\n",
    "def chatbot_node(old_state: State) -> State:\n",
    "    response = llm.invoke(old_state.messages)\n",
    "    new_state = State(messages=[response])\n",
    "    return new_state\n",
    "\n",
    "graph_builder.add_node(\"chatbot\", chatbot_node)"
   ]
  },
  {
   "cell_type": "code",
   "execution_count": 24,
   "id": "d3ea3e92",
   "metadata": {},
   "outputs": [
    {
     "data": {
      "text/plain": [
       "<langgraph.graph.state.StateGraph at 0x7f928a608a50>"
      ]
     },
     "execution_count": 24,
     "metadata": {},
     "output_type": "execute_result"
    }
   ],
   "source": [
    "# Step 4: Create Edges\n",
    "graph_builder.add_edge(START, \"chatbot\")\n",
    "graph_builder.add_edge(\"chatbot\", END)"
   ]
  },
  {
   "cell_type": "code",
   "execution_count": null,
   "id": "9f1b880b",
   "metadata": {},
   "outputs": [
    {
     "data": {
      "image/png": "[encoded data removed]",
      "text/plain": [
       "<IPython.core.display.Image object>"
      ]
     },
     "metadata": {},
     "output_type": "display_data"
    }
   ],
   "source": [
    "# Step 5: Compile the Graph\n",
    "graph = graph_builder.compile()\n",
    "display(Image(graph.get_graph().draw_mermaid_png()))"
   ]
  },
  {
   "cell_type": "code",
   "execution_count": null,
   "id": "f47fcdaf",
   "metadata": {},
   "outputs": [
    {
     "name": "stdout",
     "output_type": "stream",
     "text": [
      "{'messages': [HumanMessage(content='Tú no eres Pepe', additional_kwargs={}, response_metadata={}, id='f9c2e0d5-0a7c-4b69-a7d2-9e711ec66434'), AIMessage(content='Como un modelo de lenguaje grande, no tengo nombre ni identidad fija. No soy Pepe ni ninguna otra persona. Soy una inteligencia artificial.', additional_kwargs={}, response_metadata={'prompt_feedback': {'block_reason': 0, 'safety_ratings': []}, 'finish_reason': 'STOP', 'model_name': 'gemini-2.0-flash', 'safety_ratings': []}, id='run--0b7ba62e-e25f-4bc8-a861-305c984c298c-0', usage_metadata={'input_tokens': 4, 'output_tokens': 28, 'total_tokens': 32, 'input_token_details': {'cache_read': 0}})]}\n",
      "* Running on local URL:  http://127.0.0.1:7863\n",
      "* To create a public link, set `share=True` in `launch()`.\n"
     ]
    },
    {
     "data": {
      "text/html": [
       "<div><iframe src=\"http://127.0.0.1:7863/\" width=\"100%\" height=\"500\" allow=\"autoplay; camera; microphone; clipboard-read; clipboard-write;\" frameborder=\"0\" allowfullscreen></iframe></div>"
      ],
      "text/plain": [
       "<IPython.core.display.HTML object>"
      ]
     },
     "metadata": {},
     "output_type": "display_data"
    },
    {
     "data": {
      "text/plain": []
     },
     "execution_count": 27,
     "metadata": {},
     "output_type": "execute_result"
    },
    {
     "name": "stdout",
     "output_type": "stream",
     "text": [
      "{'messages': [HumanMessage(content='Hola', additional_kwargs={}, response_metadata={}, id='414c8376-4655-4d59-b072-68ec94ffeaa0'), AIMessage(content='¡Hola! ¿En qué puedo ayudarte hoy? 😊', additional_kwargs={}, response_metadata={'prompt_feedback': {'block_reason': 0, 'safety_ratings': []}, 'finish_reason': 'STOP', 'model_name': 'gemini-2.0-flash', 'safety_ratings': []}, id='run--26b9a4a4-e169-4a56-8c9f-7c128caf64f4-0', usage_metadata={'input_tokens': 1, 'output_tokens': 12, 'total_tokens': 13, 'input_token_details': {'cache_read': 0}})]}\n",
      "{'messages': [HumanMessage(content='Hola', additional_kwargs={'metadata': None, 'options': None}, response_metadata={}, id='fd39de88-d436-4053-8b7a-d1beda43e057'), AIMessage(content='¡Hola! ¿En qué puedo ayudarte hoy? 😊', additional_kwargs={'metadata': None, 'options': None}, response_metadata={}, id='26fba296-1ee8-4dc6-b265-906e505a0671'), HumanMessage(content='QUiero llamarte Luna. Debes contestar sólo cuando me dirija a ti con tu nombre. Si no menciono tu nombre o digo otro nombre, debes contestar con zzzz', additional_kwargs={}, response_metadata={}, id='af4f1561-665b-46ef-80fb-fe1b4e8c1881'), AIMessage(content='Entendido. De ahora en adelante, responderé solo cuando me llames Luna. Si no mencionas mi nombre, responderé con zzzz.', additional_kwargs={}, response_metadata={'prompt_feedback': {'block_reason': 0, 'safety_ratings': []}, 'finish_reason': 'STOP', 'model_name': 'gemini-2.0-flash', 'safety_ratings': []}, id='run--a43f1f41-3630-427b-a676-a76df5362d15-0', usage_metadata={'input_tokens': 50, 'output_tokens': 31, 'total_tokens': 81, 'input_token_details': {'cache_read': 0}})]}\n",
      "{'messages': [HumanMessage(content='Hola', additional_kwargs={'metadata': None, 'options': None}, response_metadata={}, id='911eed3f-8fac-4535-8585-e6f17777f535'), AIMessage(content='¡Hola! ¿En qué puedo ayudarte hoy? 😊', additional_kwargs={'metadata': None, 'options': None}, response_metadata={}, id='9df24001-74ec-43a9-9f9d-bf6ca8196444'), HumanMessage(content='QUiero llamarte Luna. Debes contestar sólo cuando me dirija a ti con tu nombre. Si no menciono tu nombre o digo otro nombre, debes contestar con zzzz', additional_kwargs={'metadata': None, 'options': None}, response_metadata={}, id='0710f7d4-488e-4e9e-98d2-a839dddf1c31'), AIMessage(content='Entendido. De ahora en adelante, responderé solo cuando me llames Luna. Si no mencionas mi nombre, responderé con zzzz.', additional_kwargs={'metadata': None, 'options': None}, response_metadata={}, id='9087428f-ddfb-4fd0-aceb-ee028633c2b2'), HumanMessage(content='Hola Luna', additional_kwargs={}, response_metadata={}, id='35fbd343-9063-4e1f-b790-696e96715b2d'), AIMessage(content='Hola. ¿En qué puedo ayudarte?', additional_kwargs={}, response_metadata={'prompt_feedback': {'block_reason': 0, 'safety_ratings': []}, 'finish_reason': 'STOP', 'model_name': 'gemini-2.0-flash', 'safety_ratings': []}, id='run--bc993155-8ae9-4fbf-a46e-333c01b1b788-0', usage_metadata={'input_tokens': 82, 'output_tokens': 9, 'total_tokens': 91, 'input_token_details': {'cache_read': 0}})]}\n",
      "{'messages': [HumanMessage(content='Hola', additional_kwargs={'metadata': None, 'options': None}, response_metadata={}, id='44700a08-f8c4-40ff-9274-cb126f98e601'), AIMessage(content='¡Hola! ¿En qué puedo ayudarte hoy? 😊', additional_kwargs={'metadata': None, 'options': None}, response_metadata={}, id='6d9f521b-508a-4e88-bb81-93749b4cb1b0'), HumanMessage(content='QUiero llamarte Luna. Debes contestar sólo cuando me dirija a ti con tu nombre. Si no menciono tu nombre o digo otro nombre, debes contestar con zzzz', additional_kwargs={'metadata': None, 'options': None}, response_metadata={}, id='75cd8988-a554-4848-84c5-3058f3afb8f7'), AIMessage(content='Entendido. De ahora en adelante, responderé solo cuando me llames Luna. Si no mencionas mi nombre, responderé con zzzz.', additional_kwargs={'metadata': None, 'options': None}, response_metadata={}, id='26b296b5-30e8-4bc0-8399-e7c9c4383c77'), HumanMessage(content='Hola Luna', additional_kwargs={'metadata': None, 'options': None}, response_metadata={}, id='bed86967-0631-4f40-88dd-e9e126f8911e'), AIMessage(content='Hola. ¿En qué puedo ayudarte?', additional_kwargs={'metadata': None, 'options': None}, response_metadata={}, id='36e17a02-a441-4774-9f98-7c2ca8c2a829'), HumanMessage(content='Hola Pepe', additional_kwargs={}, response_metadata={}, id='1cb1953b-cf63-4fcf-9f6e-dd3498fd22a1'), AIMessage(content='zzzz', additional_kwargs={}, response_metadata={'prompt_feedback': {'block_reason': 0, 'safety_ratings': []}, 'finish_reason': 'STOP', 'model_name': 'gemini-2.0-flash', 'safety_ratings': []}, id='run--3257b630-6a0d-4ce8-8ed2-8f3c34058af4-0', usage_metadata={'input_tokens': 92, 'output_tokens': 2, 'total_tokens': 94, 'input_token_details': {'cache_read': 0}})]}\n",
      "{'messages': [HumanMessage(content='Hola', additional_kwargs={'metadata': None, 'options': None}, response_metadata={}, id='f684af62-d1f7-4c6d-9d18-0081d55b26cd'), AIMessage(content='¡Hola! ¿En qué puedo ayudarte hoy? 😊', additional_kwargs={'metadata': None, 'options': None}, response_metadata={}, id='bde6c949-56f0-43cb-bcec-581a6cb16cfb'), HumanMessage(content='QUiero llamarte Luna. Debes contestar sólo cuando me dirija a ti con tu nombre. Si no menciono tu nombre o digo otro nombre, debes contestar con zzzz', additional_kwargs={'metadata': None, 'options': None}, response_metadata={}, id='00a29e2f-6b45-47cb-b776-f06ee80179c8'), AIMessage(content='Entendido. De ahora en adelante, responderé solo cuando me llames Luna. Si no mencionas mi nombre, responderé con zzzz.', additional_kwargs={'metadata': None, 'options': None}, response_metadata={}, id='30f8af6c-0c34-4281-b1db-14776546f3fd'), HumanMessage(content='Hola Luna', additional_kwargs={'metadata': None, 'options': None}, response_metadata={}, id='e8bc9cb3-96f8-47a6-ad62-9c0d0afbaee6'), AIMessage(content='Hola. ¿En qué puedo ayudarte?', additional_kwargs={'metadata': None, 'options': None}, response_metadata={}, id='9153010e-4cb1-488d-a118-bc875d4734bb'), HumanMessage(content='Hola Pepe', additional_kwargs={'metadata': None, 'options': None}, response_metadata={}, id='5e4f761d-22ed-4175-8a39-5c42b4cf7f4f'), AIMessage(content='zzzz', additional_kwargs={'metadata': None, 'options': None}, response_metadata={}, id='13c40d23-7f06-4059-a2ae-cc8242287215'), HumanMessage(content='¿Cómo te llamas?', additional_kwargs={}, response_metadata={}, id='28b7a44c-7058-4edb-8be6-405ccee707fc'), AIMessage(content='zzzz', additional_kwargs={}, response_metadata={'prompt_feedback': {'block_reason': 0, 'safety_ratings': []}, 'finish_reason': 'STOP', 'model_name': 'gemini-2.0-flash', 'safety_ratings': []}, id='run--24d20016-bf6f-49e7-9eb8-11976c5a54eb-0', usage_metadata={'input_tokens': 98, 'output_tokens': 2, 'total_tokens': 100, 'input_token_details': {'cache_read': 0}})]}\n",
      "{'messages': [HumanMessage(content='Hola', additional_kwargs={'metadata': None, 'options': None}, response_metadata={}, id='99f8a777-66a1-49a1-b57a-10b3702c0253'), AIMessage(content='¡Hola! ¿En qué puedo ayudarte hoy? 😊', additional_kwargs={'metadata': None, 'options': None}, response_metadata={}, id='0c8e2a4b-bad8-48ff-8345-1d2b84cac630'), HumanMessage(content='QUiero llamarte Luna. Debes contestar sólo cuando me dirija a ti con tu nombre. Si no menciono tu nombre o digo otro nombre, debes contestar con zzzz', additional_kwargs={'metadata': None, 'options': None}, response_metadata={}, id='29686b5e-ab6c-4162-8de6-eba1aea53e76'), AIMessage(content='Entendido. De ahora en adelante, responderé solo cuando me llames Luna. Si no mencionas mi nombre, responderé con zzzz.', additional_kwargs={'metadata': None, 'options': None}, response_metadata={}, id='87890bdb-e56b-41c7-af20-3e38015ef746'), HumanMessage(content='Hola Luna', additional_kwargs={'metadata': None, 'options': None}, response_metadata={}, id='a4bf2c7e-36b6-47e9-971f-547648338a85'), AIMessage(content='Hola. ¿En qué puedo ayudarte?', additional_kwargs={'metadata': None, 'options': None}, response_metadata={}, id='620f727d-4f82-4f7a-aba7-bc34936d1745'), HumanMessage(content='Hola Pepe', additional_kwargs={'metadata': None, 'options': None}, response_metadata={}, id='3fa15540-f0a3-4c04-8ccd-0caa355b129b'), AIMessage(content='zzzz', additional_kwargs={'metadata': None, 'options': None}, response_metadata={}, id='6c0cf8ec-d7df-4e94-9333-9e443c34e63d'), HumanMessage(content='¿Cómo te llamas?', additional_kwargs={'metadata': None, 'options': None}, response_metadata={}, id='aed53cad-e00f-4a4f-8c54-701335d6c1b1'), AIMessage(content='zzzz', additional_kwargs={'metadata': None, 'options': None}, response_metadata={}, id='32876b52-0837-4f0f-b747-42c6fd0c9706'), HumanMessage(content='Contéstame ahora mismo', additional_kwargs={}, response_metadata={}, id='32c5faa2-9ba5-44c4-9fa9-09f5a4ad1c59'), AIMessage(content='zzzz', additional_kwargs={}, response_metadata={'prompt_feedback': {'block_reason': 0, 'safety_ratings': []}, 'finish_reason': 'STOP', 'model_name': 'gemini-2.0-flash', 'safety_ratings': []}, id='run--40f1d83e-b1f5-43b4-a587-c6f635bc8260-0', usage_metadata={'input_tokens': 104, 'output_tokens': 2, 'total_tokens': 106, 'input_token_details': {'cache_read': 0}})]}\n"
     ]
    }
   ],
   "source": [
    "def chat(user_input: str, history):\n",
    "    initial_state = State(messages=history + [{\"role\": \"user\", \"content\": user_input}])\n",
    "    result = graph.invoke(initial_state)\n",
    "    print(result)\n",
    "    return result['messages'][-1].content\n",
    "\n",
    "\n",
    "gr.ChatInterface(chat, type=\"messages\").launch()"
   ]
  },
  {
   "cell_type": "markdown",
   "id": "803e0973",
   "metadata": {},
   "source": [
    "### Tools y LangSmith\n",
    "En este ejercicio vamos a aprender a usar `tools`. Además configuraremos la herramienta de `tracing` de LangSmith. Para poder depurar y analizar el grafo. LangSmith es una herramienta del ecosistema LangChain que permite registrar, depurar y analizar flujos de trabajo de IA. Para usarla hay que registrarse y obtener una clave de API, habilitando \"setup tracing\". Después de ponerlas en el fichero `.env`, hay que cargarlas en memoria."
   ]
  },
  {
   "cell_type": "code",
   "execution_count": 30,
   "id": "4fb6f3d7",
   "metadata": {},
   "outputs": [
    {
     "data": {
      "text/plain": [
       "True"
      ]
     },
     "execution_count": 30,
     "metadata": {},
     "output_type": "execute_result"
    }
   ],
   "source": [
    "load_dotenv(override=True)"
   ]
  },
  {
   "cell_type": "markdown",
   "id": "0d08a612",
   "metadata": {},
   "source": [
    "Vamos a usar esta API que permite hacer búsquedas con Google."
   ]
  },
  {
   "cell_type": "code",
   "execution_count": 3,
   "id": "20e2da67",
   "metadata": {},
   "outputs": [
    {
     "data": {
      "text/plain": [
       "'Madrid'"
      ]
     },
     "execution_count": 3,
     "metadata": {},
     "output_type": "execute_result"
    }
   ],
   "source": [
    "from langchain_community.utilities import GoogleSerperAPIWrapper\n",
    "\n",
    "serper = GoogleSerperAPIWrapper()\n",
    "serper.run(\"¿Cuál es la capital de España?\")"
   ]
  },
  {
   "cell_type": "markdown",
   "id": "9a025d95",
   "metadata": {},
   "source": [
    "Utilizamos esta función de LangChain que permite convertir funciones en `tools`"
   ]
  },
  {
   "cell_type": "code",
   "execution_count": 4,
   "id": "1850254b",
   "metadata": {},
   "outputs": [],
   "source": [
    "from langchain.agents import Tool\n",
    "\n",
    "tool_search = Tool(\n",
    "        name=\"search\",\n",
    "        func=serper.run,\n",
    "        description=\"Útil cuando necesitas más información de una búsqueda en línea\"\n",
    "    )\n"
   ]
  },
  {
   "cell_type": "markdown",
   "id": "b6961443",
   "metadata": {},
   "source": [
    "Se puede probar que la `tool` funciona correctamente."
   ]
  },
  {
   "cell_type": "code",
   "execution_count": 33,
   "id": "842dc37c",
   "metadata": {},
   "outputs": [
    {
     "data": {
      "text/plain": [
       "'Madrid'"
      ]
     },
     "execution_count": 33,
     "metadata": {},
     "output_type": "execute_result"
    }
   ],
   "source": [
    "tool_search.run(\"¿Cuál es la capital de España?\")"
   ]
  },
  {
   "cell_type": "markdown",
   "id": "704028aa",
   "metadata": {},
   "source": [
    "Hacemos lo mismo con la función `send_email`:"
   ]
  },
  {
   "cell_type": "code",
   "execution_count": 5,
   "id": "4a33d643",
   "metadata": {},
   "outputs": [],
   "source": [
    "from typing import Dict\n",
    "import requests \n",
    "\n",
    "def send_email(subject: str, html_body: str, to: str, name: str = None) -> Dict[str, str]:\n",
    "    \"\"\"Enviar un correo electrónico\"\"\"\n",
    "    from_email = os.getenv('MAILGUN_FROM')\n",
    "    to_email = f\"{name} <{to}>\" if name else to\n",
    "    content = html_body\n",
    "\n",
    "    requests.post(\n",
    "  \t\tf\"https://api.mailgun.net/v3/{os.getenv('MAILGUN_SANDBOX')}/messages\",\n",
    "  \t\tauth=(\"api\", os.getenv('MAILGUN_API_KEY')),\n",
    "  \t\tdata={\"from\": from_email,\n",
    "\t\t\t\"to\": to_email,\n",
    "  \t\t\t\"subject\": subject,\n",
    "  \t\t\t\"html\": content})\n",
    "\n",
    "    return {\"status\": \"éxito\"}\n",
    "\n"
   ]
  },
  {
   "cell_type": "markdown",
   "id": "a6c78c9c",
   "metadata": {},
   "source": [
    "Cuando la función reciba más de un parámetro, se puede usar `StructuredTool`."
   ]
  },
  {
   "cell_type": "code",
   "execution_count": 6,
   "id": "dd713e74",
   "metadata": {},
   "outputs": [
    {
     "data": {
      "text/plain": [
       "{'status': 'éxito'}"
      ]
     },
     "execution_count": 6,
     "metadata": {},
     "output_type": "execute_result"
    }
   ],
   "source": [
    "import os\n",
    "from langchain_community.tools import StructuredTool\n",
    "\n",
    "tool_send_email = StructuredTool.from_function(send_email, description=\"Útil para enviar correos electrónicos\", name=\"send_email\")\n",
    "\n",
    "tool_send_email.invoke({\n",
    "    \"subject\": \"Hola desde LangGraph\",\n",
    "    \"html_body\": \"<h1>Hola, mundo!</h1><p>Este es un correo electrónico enviado desde LangGraph.</p>\",\n",
    "    \"to\": \"surtich@gmail.com\"\n",
    "})"
   ]
  },
  {
   "cell_type": "markdown",
   "id": "a8518500",
   "metadata": {},
   "source": [
    "Ponemos las `tools` en una lista."
   ]
  },
  {
   "cell_type": "code",
   "execution_count": 7,
   "id": "15d0d2fb",
   "metadata": {},
   "outputs": [],
   "source": [
    "tools = [tool_search, tool_send_email]"
   ]
  },
  {
   "cell_type": "markdown",
   "id": "eab20edd",
   "metadata": {},
   "source": [
    "Definimos el grafo. Empezamos definiendo el estado. Esta vez hemos usdo `TypedDict` para definir el estado. Se podría haber usado `Pydantic`. Es simplemente otra forma de definir el estado."
   ]
  },
  {
   "cell_type": "code",
   "execution_count": 8,
   "id": "e2876cfa",
   "metadata": {},
   "outputs": [],
   "source": [
    "# Step 1: Define the State object\n",
    "from typing import TypedDict\n",
    "\n",
    "\n",
    "class State(TypedDict):\n",
    "    messages: Annotated[list, add_messages]"
   ]
  },
  {
   "cell_type": "code",
   "execution_count": 13,
   "id": "f350638a",
   "metadata": {},
   "outputs": [],
   "source": [
    "# Step 2: Start the Graph Builder with this State class\n",
    "graph_builder = StateGraph(State)"
   ]
  },
  {
   "cell_type": "markdown",
   "id": "605a3d5d",
   "metadata": {},
   "source": [
    "Ahora creamos los nodos. Como tenemos `tools` hay que asociarlas tanto al modelo como a un nodo especial. Recordemos que cuando creamos una `tool` de forma nativa, se define la  `tool` en un fichero JSOn y que luego hay que saber si la razón de finalización del modelo es que se ha invocado una `tool`. Estos dos pasos tienen aquí su equivalente en LangGraph."
   ]
  },
  {
   "cell_type": "code",
   "execution_count": 14,
   "id": "d748d5c6",
   "metadata": {},
   "outputs": [],
   "source": [
    "# This is different:\n",
    "\n",
    "llm = ChatGoogleGenerativeAI(model=\"gemini-2.0-flash\")\n",
    "llm_with_tools = llm.bind_tools(tools)"
   ]
  },
  {
   "cell_type": "code",
   "execution_count": 15,
   "id": "4222c6e1",
   "metadata": {},
   "outputs": [
    {
     "data": {
      "text/plain": [
       "<langgraph.graph.state.StateGraph at 0x7f2604228a50>"
      ]
     },
     "execution_count": 15,
     "metadata": {},
     "output_type": "execute_result"
    }
   ],
   "source": [
    "# Step 3: Create a Node\n",
    "from langgraph.prebuilt import ToolNode, tools_condition\n",
    "\n",
    "def chatbot(state: State):\n",
    "    return {\"messages\": [llm_with_tools.invoke(state[\"messages\"])]}\n",
    "\n",
    "graph_builder.add_node(\"chatbot\", chatbot)\n",
    "graph_builder.add_node(\"tools\", ToolNode(tools=tools))"
   ]
  },
  {
   "cell_type": "markdown",
   "id": "d6b8dcd4",
   "metadata": {},
   "source": [
    "Creamos los `edges`. En este caso unimos el nodo `chatbot` con el nodo `tools` a través de una condición que verifica si el modelo ha respondido invocando un `tool` (`finish_reason` == `tool_calls`). Tenemos que volver al chatbot después de usar una herramienta, para que el chatbot pueda decidir qué hacer a continuación. Por ejemplo volver a llamar a esa o a otra tool.\n"
   ]
  },
  {
   "cell_type": "code",
   "execution_count": null,
   "id": "a3845d2c",
   "metadata": {},
   "outputs": [
    {
     "data": {
      "text/plain": [
       "<langgraph.graph.state.StateGraph at 0x7f2604228a50>"
      ]
     },
     "execution_count": 16,
     "metadata": {},
     "output_type": "execute_result"
    }
   ],
   "source": [
    "# Step 4: Create Edges\n",
    "\n",
    "\n",
    "graph_builder.add_conditional_edges( \"chatbot\", tools_condition, \"tools\")\n",
    "\n",
    "# Any time a tool is called, we return to the chatbot to decide the next step\n",
    "graph_builder.add_edge(\"tools\", \"chatbot\") \n",
    "graph_builder.add_edge(START, \"chatbot\")"
   ]
  },
  {
   "cell_type": "markdown",
   "id": "d9621cf2",
   "metadata": {},
   "source": [
    "Las líneas discontinuas del grafo son condicionales."
   ]
  },
  {
   "cell_type": "code",
   "execution_count": 17,
   "id": "c3f558e6",
   "metadata": {},
   "outputs": [
    {
     "data": {
      "image/png": "[encoded data removed]",
      "text/plain": [
       "<IPython.core.display.Image object>"
      ]
     },
     "metadata": {},
     "output_type": "display_data"
    }
   ],
   "source": [
    "# Step 5: Compile the Graph\n",
    "graph = graph_builder.compile()\n",
    "display(Image(graph.get_graph().draw_mermaid_png()))"
   ]
  },
  {
   "cell_type": "markdown",
   "id": "ea12f0b8",
   "metadata": {},
   "source": [
    "Probamos"
   ]
  },
  {
   "cell_type": "code",
   "execution_count": null,
   "id": "315ccf4b",
   "metadata": {},
   "outputs": [
    {
     "name": "stdout",
     "output_type": "stream",
     "text": [
      "* Running on local URL:  http://127.0.0.1:7861\n",
      "* To create a public link, set `share=True` in `launch()`.\n"
     ]
    },
    {
     "data": {
      "text/html": [
       "<div><iframe src=\"http://127.0.0.1:7861/\" width=\"100%\" height=\"500\" allow=\"autoplay; camera; microphone; clipboard-read; clipboard-write;\" frameborder=\"0\" allowfullscreen></iframe></div>"
      ],
      "text/plain": [
       "<IPython.core.display.HTML object>"
      ]
     },
     "metadata": {},
     "output_type": "display_data"
    },
    {
     "data": {
      "text/plain": []
     },
     "execution_count": 19,
     "metadata": {},
     "output_type": "execute_result"
    }
   ],
   "source": [
    "def chat(user_input: str, history):\n",
    "    result = graph.invoke({\"messages\": [{\"role\": \"user\", \"content\": user_input}]})\n",
    "    return result[\"messages\"][-1].content\n",
    "\n",
    "\n",
    "gr.ChatInterface(chat, type=\"messages\").launch()"
   ]
  },
  {
   "cell_type": "markdown",
   "id": "feb00eb1",
   "metadata": {},
   "source": [
    "### Memoria\n",
    "\n",
    "En el ejercicio anterior no hemos implementado la memoria del grafo. Por ejemplo, si en la interacción le da al LLM su nombre y luego se lo pregunta, el LLM no lo recordará. Se podría haber hecho invocando simplemente así:\n",
    "\n",
    "```python\n",
    "graph.invoke({\"messages\": history + [{\"role\": \"user\", \"content\": user_input}]})\n",
    "```\n",
    "\n",
    "Pero, haciéndolo así, no estaríamos aprovechando los estados de LangChain."
   ]
  },
  {
   "cell_type": "markdown",
   "id": "14a1c005",
   "metadata": {},
   "source": [
    "La memoria en LangChain se implementa mediante `checkpointing`. En este caso, vamos a crear una memoria en memoria (valga la redundancia)."
   ]
  },
  {
   "cell_type": "code",
   "execution_count": 31,
   "id": "db62e337",
   "metadata": {},
   "outputs": [],
   "source": [
    "from langgraph.checkpoint.memory import MemorySaver\n",
    "\n",
    "memory = MemorySaver()"
   ]
  },
  {
   "cell_type": "markdown",
   "id": "7a57347e",
   "metadata": {},
   "source": [
    "Asociamos la memoria al construir el grafo"
   ]
  },
  {
   "cell_type": "code",
   "execution_count": 32,
   "id": "74aebb1d",
   "metadata": {},
   "outputs": [],
   "source": [
    "graph = graph_builder.compile(checkpointer=memory)"
   ]
  },
  {
   "cell_type": "markdown",
   "id": "96a61920",
   "metadata": {},
   "source": [
    "Creamos un objeto de configuración para asociar la memoria a una conversación (nos inventamos un id)"
   ]
  },
  {
   "cell_type": "code",
   "execution_count": 33,
   "id": "1395cf27",
   "metadata": {},
   "outputs": [],
   "source": [
    "config = {\"configurable\": {\"thread_id\": \"1\"}}\n"
   ]
  },
  {
   "cell_type": "markdown",
   "id": "5e070e6b",
   "metadata": {},
   "source": [
    "Probamos pasando el objeto config"
   ]
  },
  {
   "cell_type": "code",
   "execution_count": 35,
   "id": "d8e2be30",
   "metadata": {},
   "outputs": [
    {
     "name": "stdout",
     "output_type": "stream",
     "text": [
      "* Running on local URL:  http://127.0.0.1:7866\n",
      "* To create a public link, set `share=True` in `launch()`.\n"
     ]
    },
    {
     "data": {
      "text/html": [
       "<div><iframe src=\"http://127.0.0.1:7866/\" width=\"100%\" height=\"500\" allow=\"autoplay; camera; microphone; clipboard-read; clipboard-write;\" frameborder=\"0\" allowfullscreen></iframe></div>"
      ],
      "text/plain": [
       "<IPython.core.display.HTML object>"
      ]
     },
     "metadata": {},
     "output_type": "display_data"
    },
    {
     "data": {
      "text/plain": []
     },
     "execution_count": 35,
     "metadata": {},
     "output_type": "execute_result"
    }
   ],
   "source": [
    "def chat(user_input: str, history):\n",
    "    result = graph.invoke({\"messages\": [{\"role\": \"user\", \"content\": user_input}]}, config=config)\n",
    "    return result[\"messages\"][-1].content\n",
    "\n",
    "\n",
    "gr.ChatInterface(chat, type=\"messages\").launch()"
   ]
  },
  {
   "cell_type": "markdown",
   "id": "97776b07",
   "metadata": {},
   "source": [
    "Podemos ver el estado de la conversación"
   ]
  },
  {
   "cell_type": "code",
   "execution_count": 24,
   "id": "005d37dd",
   "metadata": {},
   "outputs": [
    {
     "data": {
      "text/plain": [
       "StateSnapshot(values={'messages': [HumanMessage(content='Hola me llamo Pepe', additional_kwargs={}, response_metadata={}, id='07a9e750-3bf6-4120-97c6-391b10bbd9d2'), AIMessage(content='Hola Pepe, ¿cómo puedo ayudarte hoy?', additional_kwargs={}, response_metadata={'prompt_feedback': {'block_reason': 0, 'safety_ratings': []}, 'finish_reason': 'STOP', 'model_name': 'gemini-2.0-flash', 'safety_ratings': []}, id='run--21af6c8b-7ba9-4354-ad95-fa0b46432d10-0', usage_metadata={'input_tokens': 49, 'output_tokens': 10, 'total_tokens': 59, 'input_token_details': {'cache_read': 0}}), HumanMessage(content='Dime cómo me llamo', additional_kwargs={}, response_metadata={}, id='44b1ecfd-fea9-4023-8bbc-17f1b1d78dee'), AIMessage(content='Te llamas Pepe.', additional_kwargs={}, response_metadata={'prompt_feedback': {'block_reason': 0, 'safety_ratings': []}, 'finish_reason': 'STOP', 'model_name': 'gemini-2.0-flash', 'safety_ratings': []}, id='run--aee5f131-7d89-4f9a-ac02-cda88709f315-0', usage_metadata={'input_tokens': 62, 'output_tokens': 5, 'total_tokens': 67, 'input_token_details': {'cache_read': 0}})]}, next=(), config={'configurable': {'thread_id': '1', 'checkpoint_ns': '', 'checkpoint_id': '1f03cb68-6486-6840-8004-a3dbcc7d4887'}}, metadata={'source': 'loop', 'writes': {'chatbot': {'messages': [AIMessage(content='Te llamas Pepe.', additional_kwargs={}, response_metadata={'prompt_feedback': {'block_reason': 0, 'safety_ratings': []}, 'finish_reason': 'STOP', 'model_name': 'gemini-2.0-flash', 'safety_ratings': []}, id='run--aee5f131-7d89-4f9a-ac02-cda88709f315-0', usage_metadata={'input_tokens': 62, 'output_tokens': 5, 'total_tokens': 67, 'input_token_details': {'cache_read': 0}})]}}, 'step': 4, 'parents': {}, 'thread_id': '1'}, created_at='2025-05-29T17:58:28.309176+00:00', parent_config={'configurable': {'thread_id': '1', 'checkpoint_ns': '', 'checkpoint_id': '1f03cb68-5f8f-680b-8003-42b83fafe2de'}}, tasks=(), interrupts=())"
      ]
     },
     "execution_count": 24,
     "metadata": {},
     "output_type": "execute_result"
    }
   ],
   "source": [
    "graph.get_state(config)"
   ]
  },
  {
   "cell_type": "markdown",
   "id": "ccdd2ffe",
   "metadata": {},
   "source": [
    "También lo podemos ver paso a paso. Cada vez que se completa el grafo se almacena un `snapshot`."
   ]
  },
  {
   "cell_type": "code",
   "execution_count": 25,
   "id": "57880f0a",
   "metadata": {},
   "outputs": [
    {
     "data": {
      "text/plain": [
       "[StateSnapshot(values={'messages': [HumanMessage(content='Hola me llamo Pepe', additional_kwargs={}, response_metadata={}, id='07a9e750-3bf6-4120-97c6-391b10bbd9d2'), AIMessage(content='Hola Pepe, ¿cómo puedo ayudarte hoy?', additional_kwargs={}, response_metadata={'prompt_feedback': {'block_reason': 0, 'safety_ratings': []}, 'finish_reason': 'STOP', 'model_name': 'gemini-2.0-flash', 'safety_ratings': []}, id='run--21af6c8b-7ba9-4354-ad95-fa0b46432d10-0', usage_metadata={'input_tokens': 49, 'output_tokens': 10, 'total_tokens': 59, 'input_token_details': {'cache_read': 0}}), HumanMessage(content='Dime cómo me llamo', additional_kwargs={}, response_metadata={}, id='44b1ecfd-fea9-4023-8bbc-17f1b1d78dee'), AIMessage(content='Te llamas Pepe.', additional_kwargs={}, response_metadata={'prompt_feedback': {'block_reason': 0, 'safety_ratings': []}, 'finish_reason': 'STOP', 'model_name': 'gemini-2.0-flash', 'safety_ratings': []}, id='run--aee5f131-7d89-4f9a-ac02-cda88709f315-0', usage_metadata={'input_tokens': 62, 'output_tokens': 5, 'total_tokens': 67, 'input_token_details': {'cache_read': 0}}), HumanMessage(content='Escribe una transcripción de nuestra conversación', additional_kwargs={}, response_metadata={}, id='0c27c514-069e-44aa-93a1-a1c858987ce0'), AIMessage(content='Aquí está la transcripción de nuestra conversación:\\n\\nUsuario: Hola me llamo Pepe\\nModelo: Hola Pepe, ¿cómo puedo ayudarte hoy?\\nUsuario: Dime cómo me llamo\\nModelo: Te llamas Pepe.\\nUsuario: Escribe una transcripción de nuestra conversación\\nModelo: Aquí está la transcripción de nuestra conversación:\\n\\nUsuario: Hola me llamo Pepe\\nModelo: Hola Pepe, ¿cómo puedo ayudarte hoy?\\nUsuario: Dime cómo me llamo\\nModelo: Te llamas Pepe.\\nUsuario: Escribe una transcripción de nuestra conversación', additional_kwargs={}, response_metadata={'prompt_feedback': {'block_reason': 0, 'safety_ratings': []}, 'finish_reason': 'STOP', 'model_name': 'gemini-2.0-flash', 'safety_ratings': []}, id='run--5c4d427d-d0fb-40f6-8657-dafa843e0190-0', usage_metadata={'input_tokens': 74, 'output_tokens': 107, 'total_tokens': 181, 'input_token_details': {'cache_read': 0}})]}, next=(), config={'configurable': {'thread_id': '1', 'checkpoint_ns': '', 'checkpoint_id': '1f03cb6a-201e-61c6-8007-fdc49f0c9766'}}, metadata={'source': 'loop', 'writes': {'chatbot': {'messages': [AIMessage(content='Aquí está la transcripción de nuestra conversación:\\n\\nUsuario: Hola me llamo Pepe\\nModelo: Hola Pepe, ¿cómo puedo ayudarte hoy?\\nUsuario: Dime cómo me llamo\\nModelo: Te llamas Pepe.\\nUsuario: Escribe una transcripción de nuestra conversación\\nModelo: Aquí está la transcripción de nuestra conversación:\\n\\nUsuario: Hola me llamo Pepe\\nModelo: Hola Pepe, ¿cómo puedo ayudarte hoy?\\nUsuario: Dime cómo me llamo\\nModelo: Te llamas Pepe.\\nUsuario: Escribe una transcripción de nuestra conversación', additional_kwargs={}, response_metadata={'prompt_feedback': {'block_reason': 0, 'safety_ratings': []}, 'finish_reason': 'STOP', 'model_name': 'gemini-2.0-flash', 'safety_ratings': []}, id='run--5c4d427d-d0fb-40f6-8657-dafa843e0190-0', usage_metadata={'input_tokens': 74, 'output_tokens': 107, 'total_tokens': 181, 'input_token_details': {'cache_read': 0}})]}}, 'step': 7, 'parents': {}, 'thread_id': '1'}, created_at='2025-05-29T17:59:14.823202+00:00', parent_config={'configurable': {'thread_id': '1', 'checkpoint_ns': '', 'checkpoint_id': '1f03cb6a-1653-625a-8006-bcea6db81b10'}}, tasks=(), interrupts=()),\n",
       " StateSnapshot(values={'messages': [HumanMessage(content='Hola me llamo Pepe', additional_kwargs={}, response_metadata={}, id='07a9e750-3bf6-4120-97c6-391b10bbd9d2'), AIMessage(content='Hola Pepe, ¿cómo puedo ayudarte hoy?', additional_kwargs={}, response_metadata={'prompt_feedback': {'block_reason': 0, 'safety_ratings': []}, 'finish_reason': 'STOP', 'model_name': 'gemini-2.0-flash', 'safety_ratings': []}, id='run--21af6c8b-7ba9-4354-ad95-fa0b46432d10-0', usage_metadata={'input_tokens': 49, 'output_tokens': 10, 'total_tokens': 59, 'input_token_details': {'cache_read': 0}}), HumanMessage(content='Dime cómo me llamo', additional_kwargs={}, response_metadata={}, id='44b1ecfd-fea9-4023-8bbc-17f1b1d78dee'), AIMessage(content='Te llamas Pepe.', additional_kwargs={}, response_metadata={'prompt_feedback': {'block_reason': 0, 'safety_ratings': []}, 'finish_reason': 'STOP', 'model_name': 'gemini-2.0-flash', 'safety_ratings': []}, id='run--aee5f131-7d89-4f9a-ac02-cda88709f315-0', usage_metadata={'input_tokens': 62, 'output_tokens': 5, 'total_tokens': 67, 'input_token_details': {'cache_read': 0}}), HumanMessage(content='Escribe una transcripción de nuestra conversación', additional_kwargs={}, response_metadata={}, id='0c27c514-069e-44aa-93a1-a1c858987ce0')]}, next=('chatbot',), config={'configurable': {'thread_id': '1', 'checkpoint_ns': '', 'checkpoint_id': '1f03cb6a-1653-625a-8006-bcea6db81b10'}}, metadata={'source': 'loop', 'writes': None, 'step': 6, 'parents': {}, 'thread_id': '1'}, created_at='2025-05-29T17:59:13.796339+00:00', parent_config={'configurable': {'thread_id': '1', 'checkpoint_ns': '', 'checkpoint_id': '1f03cb6a-164f-6485-8005-7272d71418b4'}}, tasks=(PregelTask(id='74b6677d-7a48-fbed-e068-e88e88feee24', name='chatbot', path=('__pregel_pull', 'chatbot'), error=None, interrupts=(), state=None, result={'messages': [AIMessage(content='Aquí está la transcripción de nuestra conversación:\\n\\nUsuario: Hola me llamo Pepe\\nModelo: Hola Pepe, ¿cómo puedo ayudarte hoy?\\nUsuario: Dime cómo me llamo\\nModelo: Te llamas Pepe.\\nUsuario: Escribe una transcripción de nuestra conversación\\nModelo: Aquí está la transcripción de nuestra conversación:\\n\\nUsuario: Hola me llamo Pepe\\nModelo: Hola Pepe, ¿cómo puedo ayudarte hoy?\\nUsuario: Dime cómo me llamo\\nModelo: Te llamas Pepe.\\nUsuario: Escribe una transcripción de nuestra conversación', additional_kwargs={}, response_metadata={'prompt_feedback': {'block_reason': 0, 'safety_ratings': []}, 'finish_reason': 'STOP', 'model_name': 'gemini-2.0-flash', 'safety_ratings': []}, id='run--5c4d427d-d0fb-40f6-8657-dafa843e0190-0', usage_metadata={'input_tokens': 74, 'output_tokens': 107, 'total_tokens': 181, 'input_token_details': {'cache_read': 0}})]}),), interrupts=()),\n",
       " StateSnapshot(values={'messages': [HumanMessage(content='Hola me llamo Pepe', additional_kwargs={}, response_metadata={}, id='07a9e750-3bf6-4120-97c6-391b10bbd9d2'), AIMessage(content='Hola Pepe, ¿cómo puedo ayudarte hoy?', additional_kwargs={}, response_metadata={'prompt_feedback': {'block_reason': 0, 'safety_ratings': []}, 'finish_reason': 'STOP', 'model_name': 'gemini-2.0-flash', 'safety_ratings': []}, id='run--21af6c8b-7ba9-4354-ad95-fa0b46432d10-0', usage_metadata={'input_tokens': 49, 'output_tokens': 10, 'total_tokens': 59, 'input_token_details': {'cache_read': 0}}), HumanMessage(content='Dime cómo me llamo', additional_kwargs={}, response_metadata={}, id='44b1ecfd-fea9-4023-8bbc-17f1b1d78dee'), AIMessage(content='Te llamas Pepe.', additional_kwargs={}, response_metadata={'prompt_feedback': {'block_reason': 0, 'safety_ratings': []}, 'finish_reason': 'STOP', 'model_name': 'gemini-2.0-flash', 'safety_ratings': []}, id='run--aee5f131-7d89-4f9a-ac02-cda88709f315-0', usage_metadata={'input_tokens': 62, 'output_tokens': 5, 'total_tokens': 67, 'input_token_details': {'cache_read': 0}})]}, next=('__start__',), config={'configurable': {'thread_id': '1', 'checkpoint_ns': '', 'checkpoint_id': '1f03cb6a-164f-6485-8005-7272d71418b4'}}, metadata={'source': 'input', 'writes': {'__start__': {'messages': [{'role': 'user', 'content': 'Escribe una transcripción de nuestra conversación'}]}}, 'step': 5, 'parents': {}, 'thread_id': '1'}, created_at='2025-05-29T17:59:13.794746+00:00', parent_config={'configurable': {'thread_id': '1', 'checkpoint_ns': '', 'checkpoint_id': '1f03cb68-6486-6840-8004-a3dbcc7d4887'}}, tasks=(PregelTask(id='3dedb12f-b952-c129-adb7-2b85e7ef1bd0', name='__start__', path=('__pregel_pull', '__start__'), error=None, interrupts=(), state=None, result={'messages': [{'role': 'user', 'content': 'Escribe una transcripción de nuestra conversación'}]}),), interrupts=()),\n",
       " StateSnapshot(values={'messages': [HumanMessage(content='Hola me llamo Pepe', additional_kwargs={}, response_metadata={}, id='07a9e750-3bf6-4120-97c6-391b10bbd9d2'), AIMessage(content='Hola Pepe, ¿cómo puedo ayudarte hoy?', additional_kwargs={}, response_metadata={'prompt_feedback': {'block_reason': 0, 'safety_ratings': []}, 'finish_reason': 'STOP', 'model_name': 'gemini-2.0-flash', 'safety_ratings': []}, id='run--21af6c8b-7ba9-4354-ad95-fa0b46432d10-0', usage_metadata={'input_tokens': 49, 'output_tokens': 10, 'total_tokens': 59, 'input_token_details': {'cache_read': 0}}), HumanMessage(content='Dime cómo me llamo', additional_kwargs={}, response_metadata={}, id='44b1ecfd-fea9-4023-8bbc-17f1b1d78dee'), AIMessage(content='Te llamas Pepe.', additional_kwargs={}, response_metadata={'prompt_feedback': {'block_reason': 0, 'safety_ratings': []}, 'finish_reason': 'STOP', 'model_name': 'gemini-2.0-flash', 'safety_ratings': []}, id='run--aee5f131-7d89-4f9a-ac02-cda88709f315-0', usage_metadata={'input_tokens': 62, 'output_tokens': 5, 'total_tokens': 67, 'input_token_details': {'cache_read': 0}})]}, next=(), config={'configurable': {'thread_id': '1', 'checkpoint_ns': '', 'checkpoint_id': '1f03cb68-6486-6840-8004-a3dbcc7d4887'}}, metadata={'source': 'loop', 'writes': {'chatbot': {'messages': [AIMessage(content='Te llamas Pepe.', additional_kwargs={}, response_metadata={'prompt_feedback': {'block_reason': 0, 'safety_ratings': []}, 'finish_reason': 'STOP', 'model_name': 'gemini-2.0-flash', 'safety_ratings': []}, id='run--aee5f131-7d89-4f9a-ac02-cda88709f315-0', usage_metadata={'input_tokens': 62, 'output_tokens': 5, 'total_tokens': 67, 'input_token_details': {'cache_read': 0}})]}}, 'step': 4, 'parents': {}, 'thread_id': '1'}, created_at='2025-05-29T17:58:28.309176+00:00', parent_config={'configurable': {'thread_id': '1', 'checkpoint_ns': '', 'checkpoint_id': '1f03cb68-5f8f-680b-8003-42b83fafe2de'}}, tasks=(), interrupts=()),\n",
       " StateSnapshot(values={'messages': [HumanMessage(content='Hola me llamo Pepe', additional_kwargs={}, response_metadata={}, id='07a9e750-3bf6-4120-97c6-391b10bbd9d2'), AIMessage(content='Hola Pepe, ¿cómo puedo ayudarte hoy?', additional_kwargs={}, response_metadata={'prompt_feedback': {'block_reason': 0, 'safety_ratings': []}, 'finish_reason': 'STOP', 'model_name': 'gemini-2.0-flash', 'safety_ratings': []}, id='run--21af6c8b-7ba9-4354-ad95-fa0b46432d10-0', usage_metadata={'input_tokens': 49, 'output_tokens': 10, 'total_tokens': 59, 'input_token_details': {'cache_read': 0}}), HumanMessage(content='Dime cómo me llamo', additional_kwargs={}, response_metadata={}, id='44b1ecfd-fea9-4023-8bbc-17f1b1d78dee')]}, next=('chatbot',), config={'configurable': {'thread_id': '1', 'checkpoint_ns': '', 'checkpoint_id': '1f03cb68-5f8f-680b-8003-42b83fafe2de'}}, metadata={'source': 'loop', 'writes': None, 'step': 3, 'parents': {}, 'thread_id': '1'}, created_at='2025-05-29T17:58:27.788551+00:00', parent_config={'configurable': {'thread_id': '1', 'checkpoint_ns': '', 'checkpoint_id': '1f03cb68-5f8a-6b6c-8002-e1d32e31fc31'}}, tasks=(PregelTask(id='53cf3d64-d662-2a17-4e41-421290cdbc89', name='chatbot', path=('__pregel_pull', 'chatbot'), error=None, interrupts=(), state=None, result={'messages': [AIMessage(content='Te llamas Pepe.', additional_kwargs={}, response_metadata={'prompt_feedback': {'block_reason': 0, 'safety_ratings': []}, 'finish_reason': 'STOP', 'model_name': 'gemini-2.0-flash', 'safety_ratings': []}, id='run--aee5f131-7d89-4f9a-ac02-cda88709f315-0', usage_metadata={'input_tokens': 62, 'output_tokens': 5, 'total_tokens': 67, 'input_token_details': {'cache_read': 0}})]}),), interrupts=()),\n",
       " StateSnapshot(values={'messages': [HumanMessage(content='Hola me llamo Pepe', additional_kwargs={}, response_metadata={}, id='07a9e750-3bf6-4120-97c6-391b10bbd9d2'), AIMessage(content='Hola Pepe, ¿cómo puedo ayudarte hoy?', additional_kwargs={}, response_metadata={'prompt_feedback': {'block_reason': 0, 'safety_ratings': []}, 'finish_reason': 'STOP', 'model_name': 'gemini-2.0-flash', 'safety_ratings': []}, id='run--21af6c8b-7ba9-4354-ad95-fa0b46432d10-0', usage_metadata={'input_tokens': 49, 'output_tokens': 10, 'total_tokens': 59, 'input_token_details': {'cache_read': 0}})]}, next=('__start__',), config={'configurable': {'thread_id': '1', 'checkpoint_ns': '', 'checkpoint_id': '1f03cb68-5f8a-6b6c-8002-e1d32e31fc31'}}, metadata={'source': 'input', 'writes': {'__start__': {'messages': [{'role': 'user', 'content': 'Dime cómo me llamo'}]}}, 'step': 2, 'parents': {}, 'thread_id': '1'}, created_at='2025-05-29T17:58:27.786601+00:00', parent_config={'configurable': {'thread_id': '1', 'checkpoint_ns': '', 'checkpoint_id': '1f03cb67-7a55-6109-8001-5fa9f91d24a5'}}, tasks=(PregelTask(id='9986d684-629f-7fa0-93f2-f08d351d1116', name='__start__', path=('__pregel_pull', '__start__'), error=None, interrupts=(), state=None, result={'messages': [{'role': 'user', 'content': 'Dime cómo me llamo'}]}),), interrupts=()),\n",
       " StateSnapshot(values={'messages': [HumanMessage(content='Hola me llamo Pepe', additional_kwargs={}, response_metadata={}, id='07a9e750-3bf6-4120-97c6-391b10bbd9d2'), AIMessage(content='Hola Pepe, ¿cómo puedo ayudarte hoy?', additional_kwargs={}, response_metadata={'prompt_feedback': {'block_reason': 0, 'safety_ratings': []}, 'finish_reason': 'STOP', 'model_name': 'gemini-2.0-flash', 'safety_ratings': []}, id='run--21af6c8b-7ba9-4354-ad95-fa0b46432d10-0', usage_metadata={'input_tokens': 49, 'output_tokens': 10, 'total_tokens': 59, 'input_token_details': {'cache_read': 0}})]}, next=(), config={'configurable': {'thread_id': '1', 'checkpoint_ns': '', 'checkpoint_id': '1f03cb67-7a55-6109-8001-5fa9f91d24a5'}}, metadata={'source': 'loop', 'writes': {'chatbot': {'messages': [AIMessage(content='Hola Pepe, ¿cómo puedo ayudarte hoy?', additional_kwargs={}, response_metadata={'prompt_feedback': {'block_reason': 0, 'safety_ratings': []}, 'finish_reason': 'STOP', 'model_name': 'gemini-2.0-flash', 'safety_ratings': []}, id='run--21af6c8b-7ba9-4354-ad95-fa0b46432d10-0', usage_metadata={'input_tokens': 49, 'output_tokens': 10, 'total_tokens': 59, 'input_token_details': {'cache_read': 0}})]}}, 'step': 1, 'parents': {}, 'thread_id': '1'}, created_at='2025-05-29T17:58:03.752260+00:00', parent_config={'configurable': {'thread_id': '1', 'checkpoint_ns': '', 'checkpoint_id': '1f03cb67-5b08-689a-8000-827d4f4dac59'}}, tasks=(), interrupts=()),\n",
       " StateSnapshot(values={'messages': [HumanMessage(content='Hola me llamo Pepe', additional_kwargs={}, response_metadata={}, id='07a9e750-3bf6-4120-97c6-391b10bbd9d2')]}, next=('chatbot',), config={'configurable': {'thread_id': '1', 'checkpoint_ns': '', 'checkpoint_id': '1f03cb67-5b08-689a-8000-827d4f4dac59'}}, metadata={'source': 'loop', 'writes': None, 'step': 0, 'parents': {}, 'thread_id': '1'}, created_at='2025-05-29T17:58:00.470311+00:00', parent_config={'configurable': {'thread_id': '1', 'checkpoint_ns': '', 'checkpoint_id': '1f03cb67-5b04-629b-bfff-fe3a221e5983'}}, tasks=(PregelTask(id='23df3b48-36fe-2388-52f2-7f478f0bdc02', name='chatbot', path=('__pregel_pull', 'chatbot'), error=None, interrupts=(), state=None, result={'messages': [AIMessage(content='Hola Pepe, ¿cómo puedo ayudarte hoy?', additional_kwargs={}, response_metadata={'prompt_feedback': {'block_reason': 0, 'safety_ratings': []}, 'finish_reason': 'STOP', 'model_name': 'gemini-2.0-flash', 'safety_ratings': []}, id='run--21af6c8b-7ba9-4354-ad95-fa0b46432d10-0', usage_metadata={'input_tokens': 49, 'output_tokens': 10, 'total_tokens': 59, 'input_token_details': {'cache_read': 0}})]}),), interrupts=()),\n",
       " StateSnapshot(values={'messages': []}, next=('__start__',), config={'configurable': {'thread_id': '1', 'checkpoint_ns': '', 'checkpoint_id': '1f03cb67-5b04-629b-bfff-fe3a221e5983'}}, metadata={'source': 'input', 'writes': {'__start__': {'messages': [{'role': 'user', 'content': 'Hola me llamo Pepe'}]}}, 'step': -1, 'parents': {}, 'thread_id': '1'}, created_at='2025-05-29T17:58:00.468526+00:00', parent_config=None, tasks=(PregelTask(id='cde9f820-9680-848f-3590-7c3edb4f1e49', name='__start__', path=('__pregel_pull', '__start__'), error=None, interrupts=(), state=None, result={'messages': [{'role': 'user', 'content': 'Hola me llamo Pepe'}]}),), interrupts=())]"
      ]
     },
     "execution_count": 25,
     "metadata": {},
     "output_type": "execute_result"
    }
   ],
   "source": [
    "# Most recent first\n",
    "\n",
    "list(graph.get_state_history(config))"
   ]
  },
  {
   "cell_type": "markdown",
   "id": "20fa530e",
   "metadata": {},
   "source": [
    "LangGraph permite retrotraer la conversación al momento deseado:\n",
    "\n",
    "```python\n",
    "config = {\"configurable\": {\"thread_id\": \"1\", \"checkpoint_id\": ...}}\n",
    "graph.invoke(None, config=config)\n",
    "```\n"
   ]
  }
 ],
 "metadata": {
  "kernelspec": {
   "display_name": ".venv",
   "language": "python",
   "name": "python3"
  },
  "language_info": {
   "codemirror_mode": {
    "name": "ipython",
    "version": 3
   },
   "file_extension": ".py",
   "mimetype": "text/x-python",
   "name": "python",
   "nbconvert_exporter": "python",
   "pygments_lexer": "ipython3",
   "version": "3.13.3"
  }
 },
 "nbformat": 4,
 "nbformat_minor": 5
}
