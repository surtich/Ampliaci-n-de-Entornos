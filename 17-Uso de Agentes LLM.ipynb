{
 "cells": [
  {
   "cell_type": "markdown",
   "id": "9276d374",
   "metadata": {},
   "source": [
    "### ¿Qué es un Agente LLM?\n",
    "\n",
    "Un **Agente LLM** es un sistema avanzado de inteligencia artificial que utiliza grandes modelos de lenguaje (como GPT-4, Llama, Claude, etc.) para comprender, generar y actuar sobre lenguaje humano de manera autónoma y contextual.\n",
    "\n",
    "A diferencia de un simple `chatbot`, un agente LLM no solo responde preguntas, sino que puede planificar, razonar, recordar información previa, interactuar con herramientas externas (APIs, bases de datos, buscadores, etc.) y ejecutar tareas complejas de varios pasos, todo ello guiado por el lenguaje natural.\n",
    "\n",
    "Una definición simple de un Agente:\n",
    "\n",
    "> Un agente es un programa en el que el LLM controla el flujo de trabajo.\n",
    "\n",
    "### Características principales de un Agente LLM\n",
    "\n",
    "- **Comprensión profunda del lenguaje:** Interpreta intenciones, matices y contexto de las conversaciones humanas.\n",
    "- **Generación de texto:** Produce respuestas coherentes y naturales, desde simples aclaraciones hasta textos complejos o resúmenes.\n",
    "- **Memoria y contexto:** Puede recordar interacciones previas y mantener coherencia a lo largo de una conversación o flujo de trabajo.\n",
    "- **Planificación y razonamiento:** Descompone problemas complejos en pasos más pequeños y decide qué acciones tomar y en qué orden.\n",
    "- **Uso de herramientas externas:** Integra APIs, bases de datos, sistemas de búsqueda y otras utilidades para ampliar sus capacidades más allá del texto.\n",
    "- **Autonomía:** Es capaz de ejecutar flujos de trabajo completos, tomar decisiones y adaptarse a los cambios en el entorno o en las instrucciones del usuario.\n",
    "\n"
   ]
  },
  {
   "cell_type": "markdown",
   "id": "f6abfa27",
   "metadata": {},
   "source": [
    "### Agentes de Dataframes Pandas\n",
    "\n",
    "En esta práctica vamos a usar un agente LLM para trabajar con dataframes de Pandas. El agente LLM va a poder ejecutar código Python para manipular dataframes, y va a poder usar herramientas como `pandas`, `numpy`, `matplotlib`, etc. para realizar tareas complejas de análisis de datos."
   ]
  },
  {
   "cell_type": "markdown",
   "id": "c3ba865d",
   "metadata": {},
   "source": [
    "Leemos las variables de entorno:"
   ]
  },
  {
   "cell_type": "code",
   "execution_count": 1,
   "id": "b0021c44",
   "metadata": {},
   "outputs": [
    {
     "data": {
      "text/plain": [
       "True"
      ]
     },
     "execution_count": 1,
     "metadata": {},
     "output_type": "execute_result"
    }
   ],
   "source": [
    "from dotenv import load_dotenv\n",
    "load_dotenv(override=True)"
   ]
  },
  {
   "cell_type": "code",
   "execution_count": 2,
   "id": "3367c0dd",
   "metadata": {},
   "outputs": [],
   "source": [
    "import getpass\n",
    "import os\n",
    "\n",
    "if \"GOOGLE_API_KEY\" not in os.environ:\n",
    "    os.environ[\"GOOGLE_API_KEY\"] = getpass.getpass(\"Introduce la APY Key de Gemini: \")\n",
    "if \"KAGGLE_USERNAME\" not in os.environ:\n",
    "    os.environ[\"KAGGLE_USERNAME\"] = getpass.getpass(\"Introduce el usuario de Kaggle: \")\n",
    "if \"KAGGLE_KEY\" not in os.environ:\n",
    "    os.environ[\"KAGGLE_KEY\"] = getpass.getpass(\"Introduce la API Key de Kaggle: \")\n"
   ]
  },
  {
   "cell_type": "markdown",
   "id": "db040626",
   "metadata": {},
   "source": [
    "Leemos un `dataset` de Kaggle:"
   ]
  },
  {
   "cell_type": "code",
   "execution_count": 3,
   "id": "a073fa42",
   "metadata": {},
   "outputs": [
    {
     "name": "stdout",
     "output_type": "stream",
     "text": [
      "Dataset URL: https://www.kaggle.com/datasets/goyaladi/climate-insights-dataset\n",
      "License(s): CC0-1.0\n",
      "climate-insights-dataset.zip: Skipping, found more recently modified local copy (use --force to force download)\n"
     ]
    }
   ],
   "source": [
    "!kaggle datasets download -d goyaladi/climate-insights-dataset -p tmp  "
   ]
  },
  {
   "cell_type": "code",
   "execution_count": 4,
   "id": "9f8de787",
   "metadata": {},
   "outputs": [],
   "source": [
    "import zipfile\n",
    "\n",
    "# Define the path to your zip file\n",
    "file_path = 'tmp/climate-insights-dataset.zip'\n",
    "with zipfile.ZipFile(file_path, 'r') as zip_ref:\n",
    "    zip_ref.extractall('datasets/climate_change')\n"
   ]
  },
  {
   "cell_type": "markdown",
   "id": "ab1376f4",
   "metadata": {},
   "source": [
    "Vamos a usar [este](https://www.kaggle.com/datasets/goyaladi/climate-insights-dataset) `dataset`:"
   ]
  },
  {
   "cell_type": "code",
   "execution_count": null,
   "id": "1a3e52b1",
   "metadata": {},
   "outputs": [],
   "source": [
    "import pandas as pd\n",
    "csv_file='datasets/climate_change/climate_change_data.csv'\n",
    "document = pd.read_csv(csv_file)\n",
    "document.head(5)"
   ]
  },
  {
   "cell_type": "markdown",
   "id": "c88392ac",
   "metadata": {},
   "source": [
    "Creamos el agente:"
   ]
  },
  {
   "cell_type": "code",
   "execution_count": 17,
   "id": "abf05c87",
   "metadata": {},
   "outputs": [],
   "source": [
    "from langchain_google_genai import ChatGoogleGenerativeAI\n",
    "from langchain_experimental.agents.agent_toolkits import create_pandas_dataframe_agent\n",
    "\n",
    "sm_ds_Chat = create_pandas_dataframe_agent(\n",
    "    ChatGoogleGenerativeAI(model=\"gemini-2.0-flash\", temperature=1),\n",
    "    document,\n",
    "    verbose=True,\n",
    "    allow_dangerous_code=True, # LangChain obliga a poner esto. Ver: please see: https://python.langchain.com/docs/security/\n",
    ")"
   ]
  },
  {
   "cell_type": "markdown",
   "id": "b592b384",
   "metadata": {},
   "source": [
    "Probamos el agente:"
   ]
  },
  {
   "cell_type": "code",
   "execution_count": 18,
   "id": "b27226cb",
   "metadata": {},
   "outputs": [
    {
     "name": "stdout",
     "output_type": "stream",
     "text": [
      "\n",
      "\n",
      "\u001b[1m> Entering new AgentExecutor chain...\u001b[0m\n",
      "\u001b[32;1m\u001b[1;3mThought: Para realizar un resumen de los datos, primero necesito entender las variables disponibles y sus posibles rangos. La tabla muestra información climática y ambiental recopilada en diferentes ubicaciones y países a lo largo del tiempo. Incluye la fecha, la ubicación, el país, la temperatura, las emisiones de CO2, el aumento del nivel del mar, las precipitaciones, la humedad y la velocidad del viento. Para hacer un buen resumen, calcularé estadísticas descriptivas para cada columna.\n",
      "\n",
      "Action: python_repl_ast\n",
      "Action Input: ```python\n",
      "import pandas as pd\n",
      "import numpy as np\n",
      "\n",
      "summary = df.describe()\n",
      "print(summary)\n",
      "```\u001b[0m\u001b[36;1m\u001b[1;3m        Temperature  CO2 Emissions  Sea Level Rise  Precipitation  \\\n",
      "count  10000.000000   10000.000000    10000.000000   10000.000000   \n",
      "mean      14.936034     400.220469       -0.003152      49.881208   \n",
      "std        5.030616      49.696933        0.991349      28.862417   \n",
      "min       -3.803589     182.131220       -4.092155       0.010143   \n",
      "25%       11.577991     367.109330       -0.673809      24.497516   \n",
      "50%       14.981136     400.821324        0.002332      49.818967   \n",
      "75%       18.305826     433.307905        0.675723      74.524991   \n",
      "max       33.976956     582.899701        4.116559      99.991900   \n",
      "\n",
      "           Humidity    Wind Speed  \n",
      "count  10000.000000  10000.000000  \n",
      "mean      49.771302     25.082066  \n",
      "std       28.929320     14.466648  \n",
      "min        0.018998      0.001732  \n",
      "25%       24.713250     12.539733  \n",
      "50%       49.678412     24.910787  \n",
      "75%       75.206390     37.670260  \n",
      "max       99.959665     49.997664  \n",
      "\u001b[0m\u001b[32;1m\u001b[1;3mAction: python_repl_ast\n",
      "Action Input: ```python\n",
      "import pandas as pd\n",
      "import numpy as np\n",
      "\n",
      "date_stats = df['Date'].describe()\n",
      "location_stats = df['Location'].describe()\n",
      "country_stats = df['Country'].describe()\n",
      "\n",
      "print(date_stats)\n",
      "print(location_stats)\n",
      "print(country_stats)\n",
      "```\u001b[0mcount                             10000\n",
      "unique                            10000\n",
      "top       2022-12-17 13:24:27.866786688\n",
      "freq                                  1\n",
      "Name: Date, dtype: object\n",
      "count           10000\n",
      "unique           7764\n",
      "top       North David\n",
      "freq               12\n",
      "Name: Location, dtype: object\n",
      "\u001b[36;1m\u001b[1;3mcount     10000\n",
      "unique      243\n",
      "top       Congo\n",
      "freq         94\n",
      "Name: Country, dtype: object\n",
      "\u001b[0m\u001b[32;1m\u001b[1;3mFinal Answer: El conjunto de datos presenta información climática y ambiental recopilada de diversas ubicaciones alrededor del mundo. Abarca un período de tiempo con registros de temperatura, emisiones de CO2, aumento del nivel del mar, precipitación, humedad y velocidad del viento. La temperatura promedio es de alrededor de 14.9 grados, con una variación considerable. Las emisiones de CO2 promedian 400 unidades, mientras que el nivel del mar muestra una media cercana a cero, indicando fluctuaciones. La precipitación también varía ampliamente, al igual que la humedad. La velocidad del viento presenta una media de 25 unidades. Los datos provienen de diversos países y ubicaciones, con algunas regiones representadas con mayor frecuencia que otras.\u001b[0m\n",
      "\n",
      "\u001b[1m> Finished chain.\u001b[0m\n"
     ]
    },
    {
     "data": {
      "text/plain": [
       "{'input': 'Analiza estos datos y haz un resumen de 100 palabras en español',\n",
       " 'output': 'El conjunto de datos presenta información climática y ambiental recopilada de diversas ubicaciones alrededor del mundo. Abarca un período de tiempo con registros de temperatura, emisiones de CO2, aumento del nivel del mar, precipitación, humedad y velocidad del viento. La temperatura promedio es de alrededor de 14.9 grados, con una variación considerable. Las emisiones de CO2 promedian 400 unidades, mientras que el nivel del mar muestra una media cercana a cero, indicando fluctuaciones. La precipitación también varía ampliamente, al igual que la humedad. La velocidad del viento presenta una media de 25 unidades. Los datos provienen de diversos países y ubicaciones, con algunas regiones representadas con mayor frecuencia que otras.'}"
      ]
     },
     "execution_count": 18,
     "metadata": {},
     "output_type": "execute_result"
    }
   ],
   "source": [
    "sm_ds_Chat.invoke(\"Analiza estos datos y haz un resumen de 100 palabras en español\")"
   ]
  },
  {
   "cell_type": "markdown",
   "id": "16a3c722",
   "metadata": {},
   "source": [
    "Podemos hacer gráficos. Observe que el agente falla y descubre que la columna que recoge la temperatura tiene un espacio al final (\"Temperature \"). Lo tiene en cuenta y vuelve a ejecutar el gráfico:"
   ]
  },
  {
   "cell_type": "code",
   "execution_count": 19,
   "id": "ccb5a3a6",
   "metadata": {},
   "outputs": [
    {
     "name": "stdout",
     "output_type": "stream",
     "text": [
      "\n",
      "\n",
      "\u001b[1m> Entering new AgentExecutor chain...\u001b[0m\n",
      "\u001b[32;1m\u001b[1;3mThought: The question asks to draw the relationship between temperature and humidity, which means generating a scatter plot with temperature on one axis and humidity on the other.\n",
      "Action: [python_repl_ast]\n",
      "Action Input: `import matplotlib.pyplot as plt\n",
      "plt.scatter(df['Temperature'], df['Humidity'])\n",
      "plt.xlabel('Temperature')\n",
      "plt.ylabel('Humidity')\n",
      "plt.title('Relationship between Temperature and Humidity')\n",
      "plt.show()`\u001b[0m[python_repl_ast] is not a valid tool, try one of [python_repl_ast].\u001b[32;1m\u001b[1;3mThe question asks to draw the relationship between temperature and humidity, which means generating a scatter plot with temperature on one axis and humidity on the other.\n",
      "\n",
      "Action: [python_repl_ast]\n",
      "Action Input: ```python\n",
      "import matplotlib.pyplot as plt\n",
      "plt.scatter(df['Temperature'], df['Humidity'])\n",
      "plt.xlabel('Temperature')\n",
      "plt.ylabel('Humidity')\n",
      "plt.title('Relationship between Temperature and Humidity')\n",
      "plt.show()\n",
      "```\u001b[0m[python_repl_ast] is not a valid tool, try one of [python_repl_ast].\u001b[32;1m\u001b[1;3mThe question asks to visualize the relationship between temperature and humidity. This involves creating a scatter plot. I will use matplotlib to create the plot.\n",
      "\n",
      "Action: [python_repl_ast]\n",
      "Action Input: ```python\n",
      "import matplotlib.pyplot as plt\n",
      "\n",
      "plt.figure(figsize=(8, 6))\n",
      "plt.scatter(df['Temperature'], df['Humidity'], alpha=0.5)\n",
      "plt.xlabel('Temperature')\n",
      "plt.ylabel('Humidity')\n",
      "plt.title('Relationship between Temperature and Humidity')\n",
      "plt.grid(True)\n",
      "plt.show()\n",
      "```\u001b[0m[python_repl_ast] is not a valid tool, try one of [python_repl_ast].\u001b[32;1m\u001b[1;3mThe user is asking to visualize the relationship between temperature and humidity using a scatter plot.\n",
      "\n",
      "Action: [python_repl_ast]\n",
      "Action Input: ```python\n",
      "import matplotlib.pyplot as plt\n",
      "\n",
      "plt.figure(figsize=(10, 6))\n",
      "plt.scatter(df['Temperature'], df['Humidity'], alpha=0.5)\n",
      "plt.xlabel('Temperature (°C)')\n",
      "plt.ylabel('Humidity (%)')\n",
      "plt.title('Temperature vs. Humidity')\n",
      "plt.grid(True)\n",
      "plt.show()\n",
      "```\u001b[0m[python_repl_ast] is not a valid tool, try one of [python_repl_ast].\u001b[32;1m\u001b[1;3mFinal Answer: The user is asking to plot a scatter plot between Temperature and Humidity. I cannot display the plot here, but the python code to generate the plot is:\n",
      "\n",
      "```python\n",
      "import matplotlib.pyplot as plt\n",
      "\n",
      "plt.figure(figsize=(10, 6))\n",
      "plt.scatter(df['Temperature'], df['Humidity'], alpha=0.5)\n",
      "plt.xlabel('Temperature (°C)')\n",
      "plt.ylabel('Humidity (%)')\n",
      "plt.title('Temperature vs. Humidity')\n",
      "plt.grid(True)\n",
      "plt.show()\n",
      "```\n",
      "Final Answer: The final answer is the python code above.\n",
      "\u001b[0m\n",
      "\n",
      "\u001b[1m> Finished chain.\u001b[0m\n"
     ]
    },
    {
     "data": {
      "text/plain": [
       "{'input': 'Dibuja la relación entre la temperatura y la humedad para todo el dataset',\n",
       " 'output': 'The final answer is the python code above.'}"
      ]
     },
     "execution_count": 19,
     "metadata": {},
     "output_type": "execute_result"
    }
   ],
   "source": [
    "sm_ds_Chat.invoke(\"Dibuja la relación entre la temperatura y la humedad para todo el dataset\")"
   ]
  },
  {
   "cell_type": "markdown",
   "id": "b0441672",
   "metadata": {},
   "source": [
    "Los campos que puede usar un agente son:\n",
    "Estudiando el rastro (trace), se pueden observar tres campos principales:\n",
    "\n",
    "- **Thought (Pensamiento):** Muestra el razonamiento interno del agente, indicando lo que planea hacer y cuál es su objetivo inmediato. Es como su diálogo interno, donde analiza la situación y decide el siguiente paso a seguir.\n",
    "\n",
    "- **Action (Acción):** Refleja las acciones que realiza el agente, normalmente llamando a funciones de Python o herramientas externas a las que tiene acceso, como búsquedas en internet, consultas a bases de datos, cálculos, etc\n",
    "\n",
    "- **Observation (Observación):** Es la información o los datos que obtiene como resultado de la acción realizada. El agente utiliza esta observación para ajustar su razonamiento y decidir su próximo objetivo o acción, repitiendo el ciclo hasta alcanzar la meta final.\n",
    "  \n",
    "Este ciclo de Pensamiento → Acción → Observación permite a los agentes LLM resolver tareas complejas de manera iterativa, integrando razonamiento, ejecución y aprendizaje en tiempo real.\n"
   ]
  },
  {
   "cell_type": "markdown",
   "id": "661debfe",
   "metadata": {},
   "source": [
    "Otra pregunta:"
   ]
  },
  {
   "cell_type": "code",
   "execution_count": 21,
   "id": "8f08320b",
   "metadata": {},
   "outputs": [
    {
     "name": "stdout",
     "output_type": "stream",
     "text": [
      "\n",
      "\n",
      "\u001b[1m> Entering new AgentExecutor chain...\u001b[0m\n",
      "\u001b[32;1m\u001b[1;3mThought: Yes, I believe temperature can be predicted using the other columns in the dataframe as features. I would use a machine learning model, like a regression model, to achieve this.\n",
      "\n",
      "Final Answer: Sí, creo que la temperatura se puede predecir. Se puede utilizar un modelo de aprendizaje automático de regresión, usando las otras columnas del dataframe como características para predecir la temperatura.\n",
      "\u001b[0m\n",
      "\n",
      "\u001b[1m> Finished chain.\u001b[0m\n"
     ]
    },
    {
     "data": {
      "text/plain": [
       "{'input': '¿Crees que se puede predecir la temperatura?, ¿Cómo?',\n",
       " 'output': 'Sí, creo que la temperatura se puede predecir. Se puede utilizar un modelo de aprendizaje automático de regresión, usando las otras columnas del dataframe como características para predecir la temperatura.'}"
      ]
     },
     "execution_count": 21,
     "metadata": {},
     "output_type": "execute_result"
    }
   ],
   "source": [
    "sm_ds_Chat.invoke(\"¿Crees que se puede predecir la temperatura?, ¿Cómo?\")"
   ]
  },
  {
   "cell_type": "markdown",
   "id": "5db29d0a",
   "metadata": {},
   "source": [
    "Otra más:"
   ]
  },
  {
   "cell_type": "code",
   "execution_count": 22,
   "id": "1959541a",
   "metadata": {},
   "outputs": [
    {
     "name": "stdout",
     "output_type": "stream",
     "text": [
      "\n",
      "\n",
      "\u001b[1m> Entering new AgentExecutor chain...\u001b[0m\n",
      "\u001b[32;1m\u001b[1;3mThought: First, I need to calculate the average annual temperature for South David, Vietnam. Then, I'll use a simple linear regression model to forecast the temperature for the next 5 years, assuming a linear trend. Finally, I'll present the forecasted temperatures in a table.\n",
      "\n",
      "Action: python_repl_ast\n",
      "Action Input: ```python\n",
      "import pandas as pd\n",
      "import numpy as np\n",
      "from sklearn.linear_model import LinearRegression\n",
      "\n",
      "# Assuming df is already loaded as in the problem description\n",
      "\n",
      "# Filter data for South David, Vietnam\n",
      "df['Date'] = pd.to_datetime(df['Date'])\n",
      "south_david_vietnam = df[(df['Location'] == 'South David') & (df['Country'] == 'Vietnam')]\n",
      "\n",
      "# Extract year and temperature\n",
      "south_david_vietnam['Year'] = south_david_vietnam['Date'].dt.year\n",
      "annual_avg_temp = south_david_vietnam.groupby('Year')['Temperature'].mean().reset_index()\n",
      "\n",
      "# Linear Regression for forecasting\n",
      "model = LinearRegression()\n",
      "model.fit(annual_avg_temp[['Year']], annual_avg_temp['Temperature'])\n",
      "\n",
      "# Forecast for the next 5 years\n",
      "last_year = annual_avg_temp['Year'].max()\n",
      "future_years = np.array(range(last_year + 1, last_year + 6)).reshape(-1, 1)  # Reshape for sklearn\n",
      "predicted_temps = model.predict(future_years)\n",
      "\n",
      "# Create a table (DataFrame) for the forecasted temperatures\n",
      "forecast_df = pd.DataFrame({'Year': future_years.flatten(), 'Predicted Temperature': predicted_temps})\n",
      "\n",
      "print(forecast_df)\n",
      "```\u001b[0m"
     ]
    },
    {
     "name": "stderr",
     "output_type": "stream",
     "text": [
      "<string>:6: SettingWithCopyWarning: \n",
      "A value is trying to be set on a copy of a slice from a DataFrame.\n",
      "Try using .loc[row_indexer,col_indexer] = value instead\n",
      "\n",
      "See the caveats in the documentation: https://pandas.pydata.org/pandas-docs/stable/user_guide/indexing.html#returning-a-view-versus-a-copy\n",
      "/home/surtich/projects/Ampliaci-n-de-Entornos/.venv/lib/python3.12/site-packages/sklearn/utils/validation.py:2739: UserWarning: X does not have valid feature names, but LinearRegression was fitted with feature names\n",
      "  warnings.warn(\n"
     ]
    },
    {
     "name": "stdout",
     "output_type": "stream",
     "text": [
      "\u001b[36;1m\u001b[1;3m   Year  Predicted Temperature\n",
      "0  2001              12.309581\n",
      "1  2002              12.309581\n",
      "2  2003              12.309581\n",
      "3  2004              12.309581\n",
      "4  2005              12.309581\n",
      "\u001b[0m\u001b[32;1m\u001b[1;3mFinal Answer:\n",
      "\n",
      "|   Year |   Predicted Temperature |\n",
      "|-------:|------------------------:|\n",
      "|   2001 |                 12.3096 |\n",
      "|   2002 |                 12.3096 |\n",
      "|   2003 |                 12.3096 |\n",
      "|   2004 |                 12.3096 |\n",
      "|   2005 |                 12.3096 |\n",
      "\u001b[0m\n",
      "\n",
      "\u001b[1m> Finished chain.\u001b[0m\n"
     ]
    },
    {
     "data": {
      "text/plain": [
       "{'input': 'Selecciona un modelo estadístico de predicción para pronosticar la temperatura.\\nUtiliza este tipo de modelo para predecir la temperatura media\\nanual en South David, Vietnam, para los próximos 5 años.\\nEscribe las temperaturas pronosticadas en una tabla.',\n",
       " 'output': '|   Year |   Predicted Temperature |\\n|-------:|------------------------:|\\n|   2001 |                 12.3096 |\\n|   2002 |                 12.3096 |\\n|   2003 |                 12.3096 |\\n|   2004 |                 12.3096 |\\n|   2005 |                 12.3096 |'}"
      ]
     },
     "execution_count": 22,
     "metadata": {},
     "output_type": "execute_result"
    }
   ],
   "source": [
    "sm_ds_Chat.invoke(\"\"\"Selecciona un modelo estadístico de predicción para pronosticar la temperatura.\n",
    "Utiliza este tipo de modelo para predecir la temperatura media\n",
    "anual en South David, Vietnam, para los próximos 5 años.\n",
    "Escribe las temperaturas pronosticadas en una tabla.\"\"\")\n"
   ]
  }
 ],
 "metadata": {
  "kernelspec": {
   "display_name": ".venv",
   "language": "python",
   "name": "python3"
  },
  "language_info": {
   "codemirror_mode": {
    "name": "ipython",
    "version": 3
   },
   "file_extension": ".py",
   "mimetype": "text/x-python",
   "name": "python",
   "nbconvert_exporter": "python",
   "pygments_lexer": "ipython3",
   "version": "3.12.10"
  }
 },
 "nbformat": 4,
 "nbformat_minor": 5
}
