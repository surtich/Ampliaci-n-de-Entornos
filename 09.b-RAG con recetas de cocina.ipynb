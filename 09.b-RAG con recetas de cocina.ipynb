{
 "cells": [
  {
   "cell_type": "markdown",
   "id": "ebcea6ca",
   "metadata": {},
   "source": [
    "### Introducción\n",
    "\n",
    "Este proyecto ve a permitir crear un sistema para incorporar recetas de cocina a una base de datos vectorial para su posterior consulta."
   ]
  },
  {
   "cell_type": "markdown",
   "id": "7527ef26",
   "metadata": {},
   "source": [
    "### Setup"
   ]
  },
  {
   "cell_type": "code",
   "execution_count": null,
   "id": "ae674a3f",
   "metadata": {},
   "outputs": [],
   "source": [
    "from dotenv import load_dotenv\n",
    "import os\n",
    "\n",
    "load_dotenv(override=True)\n",
    "gemini_api_key = os.getenv('GOOGLE_API_KEY')"
   ]
  },
  {
   "cell_type": "code",
   "execution_count": null,
   "id": "a531b4b6",
   "metadata": {},
   "outputs": [],
   "source": [
    "# Import the libraries\n",
    "from openai import OpenAI\n",
    "import base64"
   ]
  },
  {
   "cell_type": "code",
   "execution_count": null,
   "id": "6350605a",
   "metadata": {},
   "outputs": [],
   "source": [
    "# Set up connection to OpenAI API\n",
    "chat_client = OpenAI(\n",
    "    api_key=gemini_api_key, # Use the provided API key for authentication\n",
    "    base_url=\"https://generativelanguage.googleapis.com/v1beta\" \n",
    ")\n",
    "# Specify the model to be used\n",
    "model = \"gemini-2.5-flash-preview-05-20\""
   ]
  },
  {
   "cell_type": "markdown",
   "id": "f7dca343",
   "metadata": {},
   "source": [
    "### Realizar OCR y transformar a imágenes\n",
    "\n",
    "Algunos PDFs se crean a partir de texto escaneados o mediante imágenes. Para estos casos, es necesario realizar un OCR (Reconocimiento Óptico de Caracteres) para extraer el texto de las imágenes. Incluso si el PDF mezcla texto e imágenes a veces es recomendable usar OCR ya que así el LLM puede entender mejor el contenido.\n",
    "\n",
    "A la siguiente función se le pasa un PDF y se trocea en páginas. Cada página se convierte a imagen."
   ]
  },
  {
   "cell_type": "code",
   "execution_count": null,
   "id": "45c64c0c",
   "metadata": {},
   "outputs": [],
   "source": [
    "from pdf2image import convert_from_path\n",
    "\n",
    "# Function to converts pdfs into images and stores the image paths\n",
    "def pdf_to_images(pdf_path, output_folder):\n",
    "  # Create the output folder if it doesn't exist\n",
    "  if not os.path.exists(output_folder):\n",
    "    os.makedirs(output_folder)\n",
    "\n",
    "  # Convert PDF into images\n",
    "  images = convert_from_path(pdf_path) # Convert each page of the PDF to an image\n",
    "  image_paths = []\n",
    "\n",
    "  # Save images and store their paths\n",
    "  for i, image in enumerate(images):\n",
    "    image_path = os.path.join(output_folder, f\"page{i+1}.jpg\") # Generate the image file path\n",
    "    image.save(image_path, \"JPEG\") # Save the image as a JPEG file\n",
    "    image_paths.append(image_path) # Append the image path to the list\n",
    "\n",
    "  return image_paths # Return the list of image paths"
   ]
  },
  {
   "cell_type": "code",
   "execution_count": null,
   "id": "b3da1c03",
   "metadata": {},
   "outputs": [],
   "source": [
    "# Define the path to the PDF and the output folder for images\n",
    "book_name = \"Southern Cookbook of Fine Recipes\"\n",
    "pdf_path = f\"pdfs/recipes/{book_name}.pdf\"\n",
    "output_folder = f\"imgs/recipes/{book_name}\"\n",
    "\n",
    "# Convert the PDF into images and store the image paths\n",
    "image_paths = pdf_to_images(pdf_path, output_folder)"
   ]
  },
  {
   "cell_type": "markdown",
   "id": "74128799",
   "metadata": {},
   "source": [
    "Leemos una imagen y obtenemos el Base64 de la imagen."
   ]
  },
  {
   "cell_type": "code",
   "execution_count": null,
   "id": "d3cc6104",
   "metadata": {},
   "outputs": [],
   "source": [
    "# Read and encode one image\n",
    "book_page = 22 # Specify the page number to read\n",
    "image_file = os.path.join(output_folder, f\"page{book_page}.jpg\") # Path to the image to be encoded\n",
    "\n",
    "# Encode the image in base64 and decode to string\n",
    "with open(image_file, \"rb\") as image_file:\n",
    "  image_data = base64.b64encode(image_file.read()).decode('utf-8')\n",
    "image_data"
   ]
  },
  {
   "cell_type": "markdown",
   "id": "a269746b",
   "metadata": {},
   "source": [
    "Definimos el `system_prompt`:"
   ]
  },
  {
   "cell_type": "code",
   "execution_count": null,
   "id": "eb9eef6e",
   "metadata": {},
   "outputs": [],
   "source": [
    "# Define the system prompt\n",
    "system_prompt = \"\"\"\n",
    "Por favor, analiza el contenido de esta imagen y extrae cualquier información relacionada con recetas.\n",
    "La salida se espera completa en español: Nomre de la receta, ingredientes y preparación.\n",
    "Si una receta no tiene ingredientes, obténgalos de la preparación.\n",
    "\"\"\""
   ]
  },
  {
   "cell_type": "markdown",
   "id": "28714903",
   "metadata": {},
   "source": [
    "Llamamos al LLM. Observe cómo se pasa la imagen en Base64."
   ]
  },
  {
   "cell_type": "code",
   "execution_count": null,
   "id": "3f55be77",
   "metadata": {},
   "outputs": [],
   "source": [
    "# Call the OpenAI API use the chat completion method\n",
    "response = chat_client.chat.completions.create(\n",
    "    model = model,\n",
    "    messages = [\n",
    "        # Proporciona el mensaje del sistema\n",
    "        {\"role\": \"system\", \"content\": system_prompt},\n",
    "\n",
    "        # El mensaje del usuario contiene tanto el texto como la URL / ruta de la imagen\n",
    "        {\"role\": \"user\", \"content\": [\n",
    "            {\"type\": \"text\", \"text\": \"Esta es la imagen de la página de la receta.\"},\n",
    "            {\"type\": \"image_url\",\n",
    "             \"image_url\": {\"url\": f\"data:image/jpeg;base64,{image_data}\",\n",
    "                           \"detail\": \"baja\"}}\n",
    "        ]}\n",
    "    ]\n",
    ")\n",
    "\n",
    "gpt_response = response.choices[0].message.content"
   ]
  },
  {
   "cell_type": "code",
   "execution_count": null,
   "id": "63bef2ca",
   "metadata": {},
   "outputs": [],
   "source": [
    "from IPython.display import Markdown, Image, HTML, display\n",
    "\n",
    "import markdown2\n",
    "\n",
    "def display_image_and_text(image_path, text_html):\n",
    "    \"\"\"Display an image and text side by side\"\"\"\n",
    "    image_html = f'<img src=\"{image_path}\" width=\"300\" style=\"vertical-align:top; margin-right:20px;\">'\n",
    "\n",
    "    display(HTML(f\"\"\"\n",
    "    <div style=\"display:flex; align-items:flex-start;\">\n",
    "        {image_html}\n",
    "        <div style=\"margin-left:20px;\">{text_html}</div>\n",
    "    </div>\n",
    "    \"\"\"))\n",
    "\n",
    "text_html = markdown2.markdown(gpt_response)\n",
    "display_image_and_text(image_file, text_html)"
   ]
  },
  {
   "cell_type": "markdown",
   "id": "38bdbb97",
   "metadata": {},
   "source": [
    "Creamos una función para mostrar el resultado de la llamada al LLM."
   ]
  },
  {
   "cell_type": "code",
   "execution_count": null,
   "id": "6b596ebf",
   "metadata": {},
   "outputs": [],
   "source": [
    "# Define a function to get the GPT response and display it in Markdown\n",
    "def get_gpt_response():\n",
    "  gpt_response = response.choices[0].message.content # Extract the response content from the API response\n",
    "  return display(Markdown(gpt_response)) # Display the response as Markdown\n",
    "\n",
    "# Call the function to display the GPT response\n",
    "get_gpt_response()"
   ]
  },
  {
   "cell_type": "markdown",
   "id": "2b9ad8f5",
   "metadata": {},
   "source": [
    "Definimos un `prompt` mejorado."
   ]
  },
  {
   "cell_type": "code",
   "execution_count": null,
   "id": "fc8c23ae",
   "metadata": {},
   "outputs": [],
   "source": [
    "system_prompt = \"\"\"\n",
    "Eres un asistente que extrae recetas en formato estructurado según el esquema proporcionado.\n",
    "Si una receta no tiene ingredientes, los obtienes de la preparación.\n",
    "Los valores de todos los campos, incluido recipe_name, estarán en español,\n",
    "excepto book_name, que estará en el idioma original.\n",
    "Si algún campo no está presente en la información, pon valor None.\n",
    "Por ejemplo, campos como los siguientes deben ponerse con None:\n",
    "- 'quantity': 'al gusto'\n",
    "- 'prep_time': 'No especificado',\n",
    "- 'cook_time': 'NA',\n",
    "- 'total_time': 'Desconocido',\n",
    "- 'servings': '',\n",
    "\n",
    "Esos valores están ABSOLUTAMENTE prohibidos. En lugar de eso, simplemente pon None.\n",
    "\n",
    "Si en algún ingrediente, no se indica la cantidad, el campo quantity tendrá valor None.\n",
    "Ejemplo:\n",
    "\n",
    "```json\n",
    "{\n",
    "  ...\n",
    "  \"ingredients\": [\n",
    "    {\"item\": \"manzanas\", \"quantity\": \"3\"},\n",
    "    {\"item\": \"harina\", \"quantity\": None}\n",
    "  ]\n",
    "}\n",
    "``` \n",
    "\n",
    "IMPORTANTE: Si no puedes deducir un campo con certeza a partir de la información dada, \n",
    "no inventes ni asumas información bajo ninguna circunstancia.\n",
    "Por ejemplo, no hagas estimaciones del tiempo o de la dificultad si esas informaciones no están presentes en la receta.\n",
    "El tiempo de preparación no debe ser estimado a partir de las instrucciones de preparación,\n",
    "sino que debe indicarse explícitamente en la receta.\n",
    "\n",
    "Ejemplo de entrada:\n",
    "\n",
    "...\n",
    "Tiempo de preparación: 30 minutos\n",
    "...\n",
    "\n",
    "Salida esperada:\n",
    "\n",
    "```json\n",
    "{\n",
    "  ...\n",
    "  \"cook_time\": \"30 minutos\",\n",
    "}\n",
    "```\n",
    "\n",
    "Ejemplo de entrada:\n",
    "\n",
    "...\n",
    "Tiempo de cocción: 30 minutos\n",
    "...\n",
    "\n",
    "Salida esperada:\n",
    "\n",
    "```json\n",
    "{\n",
    "  ...\n",
    "  \"cook_time\": None,\n",
    "}\n",
    "```\n",
    "\n",
    "En ejemplo anterior, la cocción es sólo un paso de la preparación,\n",
    "por lo que ese no es el tiempo total de preparación de la receta.\n",
    "Esto mismo aplica para horneado y otros pasos de la preparación.\n",
    "\n",
    "\n",
    "\"\"\"\n",
    "\n",
    "def user_prompt(book_name, book_page):\n",
    "  \"\"\"\n",
    "  Generate a user prompt for extracting recipe information from an image.\n",
    "  \"\"\"\n",
    "  return f\"\"\"\n",
    "  Extrae la información de la receta de la siguiente imagen. \n",
    "  La receta pertenece al libro '{book_name}' y está en la página {book_page}.\n",
    "  Devuelve la información siguiendo el esquema estructurado.\n",
    "  \"\"\"\n"
   ]
  },
  {
   "cell_type": "markdown",
   "id": "8bafce35",
   "metadata": {},
   "source": [
    "Definimos el formato que el LLM debe devolver."
   ]
  },
  {
   "cell_type": "code",
   "execution_count": null,
   "id": "a4afa674",
   "metadata": {},
   "outputs": [],
   "source": [
    "from pydantic import BaseModel, Field\n",
    "from typing import List, Optional\n",
    "\n",
    "class Ingredient(BaseModel):\n",
    "    quantity: Optional[str] = Field(description=\"Cantidad del ingrediente (por ejemplo, '2 tazas')\")\n",
    "    item: Optional[str] = Field(description=\"Nombre del ingrediente (por ejemplo, 'harina')\")\n",
    "\n",
    "class Recipe(BaseModel):\n",
    "    is_recipe: bool = Field(description=\"\"\"\n",
    "                            Indica si el contenido es una receta.\n",
    "                            Como mínimo, debe contener:\n",
    "                             - el nombre del libro de recetas\n",
    "                            -  el número de página\n",
    "                            -  el nombre de la receta\n",
    "                            -  los ingredientes\n",
    "                            -  las instrucciones de preparación\n",
    "                            \"\"\")\n",
    "    book_name: str = Field(description=\"Nombre del libro de recetas\")\n",
    "    page_number: int = Field(description=\"Número de página de la receta\")\n",
    "    recipe_name: str = Field(description=\"Nombre de la receta\")\n",
    "    ingredients: List[Optional[Ingredient]] = Field(description=\"Lista de ingredientes\", default=[])\n",
    "    instructions: List[Optional[str]] = Field(description=\"Pasos de la receta\", default=[])\n",
    "    cook_time: Optional[str] = Field(description=\"Tiempo de cocción\", default=None)\n",
    "    servings: Optional[str] = Field(description=\"Número de comensales\", default=None)\n",
    "    difficulty: Optional[str] = Field(description=\"Nivel de dificultad de la receta (por ejemplo, 'Fácil')\", default=None)\n",
    "    prep_time: Optional[str] = Field(description=\"Tiempo de preparación (por ejemplo, '15 minutos')\", default=None)\n",
    "    cuisine_type: Optional[str] = Field(description=\"Tipo de cocina\", default=None)\n",
    "    dish_type: Optional[str] = Field(description=\"Tipo de plato\", default=None)\n",
    "    tags: Optional[List[Optional[str]]] = Field(description=\"Etiquetas relevantes\", default=None)\n",
    "    notes: Optional[str] = Field(description=\"Notas adicionales sobre la receta\", default=None)\n",
    "\n",
    "class Recipes(BaseModel):\n",
    "    recipes: List[Recipe] = Field(description=\"Lista de recetas extraídas de la imagen\", default=[])"
   ]
  },
  {
   "cell_type": "markdown",
   "id": "c0a4d3a7",
   "metadata": {},
   "source": [
    "Llamamos a la función adecuada para poder pasar el formato de respuesta."
   ]
  },
  {
   "cell_type": "code",
   "execution_count": null,
   "id": "ad961934",
   "metadata": {},
   "outputs": [],
   "source": [
    "import json \n",
    "\n",
    "def image_to_base64(image_path: str) -> str:\n",
    "    \"\"\"\n",
    "    Convert an image file to a base64 encoded string.\n",
    "    \n",
    "    Args:\n",
    "        image_path (str): Path to the image file.\n",
    "    \n",
    "    Returns:\n",
    "        str: Base64 encoded string of the image.\n",
    "    \"\"\"\n",
    "    with open(image_path, \"rb\") as image_file:\n",
    "        return base64.b64encode(image_file.read()).decode('utf-8')\n",
    "\n",
    "def extract_recipes_from_image(book_name: str = book_name, page_number: int = book_page) -> Recipes:\n",
    "    \"\"\"\n",
    "    Extract recipes from an image using the OpenAI API.\n",
    "    \n",
    "    Args:\n",
    "        image_data (str): Base64 encoded image data.\n",
    "        system_prompt (str): System prompt for the model.\n",
    "        user_prompt (str): User prompt containing the image and instructions.\n",
    "    \n",
    "    Returns:\n",
    "        Recipes: Structured recipes extracted from the image.\n",
    "    \"\"\"\n",
    "\n",
    "    # Convert the image to base64\n",
    "    image_path = os.path.join(output_folder, f\"page{page_number}.jpg\")\n",
    "    image_data = image_to_base64(image_path)\n",
    "\n",
    "    # Call the API to extract the information\n",
    "    response = chat_client.beta.chat.completions.parse(\n",
    "        model=model,\n",
    "        messages=[\n",
    "            {\"role\": \"system\", \"content\": system_prompt},\n",
    "            {\"role\": \"user\", \"content\": [\n",
    "                {\"type\": \"text\", \"text\": user_prompt(book_name, page_number)},\n",
    "                {\"type\": \"image_url\",\n",
    "                 \"image_url\": {\"url\": f\"data:image/jpeg;base64,{image_data}\",\n",
    "                               \"detail\": \"low\"}}\n",
    "            ]}\n",
    "        ],\n",
    "        response_format=Recipes,\n",
    "        temperature=0,  # Set the temperature to 0 for deterministic output\n",
    "    )\n",
    "    return image_path, json.loads(response.choices[0].message.content)"
   ]
  },
  {
   "cell_type": "code",
   "execution_count": null,
   "id": "e847144e",
   "metadata": {},
   "outputs": [],
   "source": [
    "image_file, recipes = extract_recipes_from_image(page_number = 23)\n",
    "display_image_and_text(image_file, recipes)"
   ]
  },
  {
   "cell_type": "markdown",
   "id": "509facc1",
   "metadata": {},
   "source": [
    "Si intentamos procesar una imagen que no contiene recetas, el campo `is_recipe` será `False`."
   ]
  },
  {
   "cell_type": "code",
   "execution_count": null,
   "id": "387fc04e",
   "metadata": {},
   "outputs": [],
   "source": [
    "image_file, recipes = extract_recipes_from_image(page_number = 6)\n",
    "display_image_and_text(image_file, recipes)"
   ]
  },
  {
   "cell_type": "markdown",
   "id": "e6ae3e49",
   "metadata": {},
   "source": [
    "\n",
    "Procesamos todas las páginas."
   ]
  },
  {
   "cell_type": "code",
   "execution_count": null,
   "id": "744e9a2f",
   "metadata": {},
   "outputs": [],
   "source": [
    "import re\n",
    "\n",
    "def extract_number(image_file):\n",
    "    # Busca el primer grupo de dígitos en el nombre del archivo\n",
    "    match = re.search(r'\\d+', image_file)\n",
    "    return int(match.group()) if match else -1\n",
    "\n",
    "image_files = sorted([f for f in os.listdir(output_folder) if f.lower().endswith(('.png', '.jpg', '.jpeg'))], key=extract_number)  # Sort files by page number extracted from filename\n",
    "extracted_recipes = []  # List to store extracted recipes\n",
    "\n",
    "for image_file in image_files:\n",
    "  page_number = int(extract_number(image_file))  # Ensure the function is called to extract the number\n",
    "  print(f\"Procesando página {page_number}\")\n",
    "  display(Image(filename=os.path.join(output_folder, image_file), width=150))\n",
    "  _, recipes = extract_recipes_from_image(page_number = page_number)\n",
    "\n",
    "  count_true = 0\n",
    "  count_false = 0\n",
    "\n",
    "  for recipe in recipes.get(\"recipes\"):\n",
    "    if recipe.get(\"is_recipe\"):\n",
    "      print(f\"\\tReceta encontrada en la página {page_number}: {recipe.get('recipe_name')}\")\n",
    "      extracted_recipes.append(recipe)\n",
    "      count_true += 1\n",
    "    else:\n",
    "        count_false += 1\n",
    "\n",
    "  print(f\"\\033[92mRecetas correctamente formadas en la página {page_number}: {count_true}\\033[0m\")\n",
    "  print(f\"\\033[91mRecetas incorrectamente formadas en la página {page_number}: {count_false}\\033[0m\")\n"
   ]
  },
  {
   "cell_type": "code",
   "execution_count": null,
   "id": "e9a932ca",
   "metadata": {},
   "outputs": [],
   "source": [
    "len(extracted_recipes)"
   ]
  },
  {
   "cell_type": "markdown",
   "id": "866b3620",
   "metadata": {},
   "source": [
    "Almacenamos el resultado en un archivo JSON."
   ]
  },
  {
   "cell_type": "code",
   "execution_count": null,
   "id": "65c9a6b0",
   "metadata": {},
   "outputs": [],
   "source": [
    "# Define the output file path\n",
    "output_file = os.path.join(\"pdfs\", \"recipe_info.json\")\n",
    "\n",
    "# Write the filtered list to a json file\n",
    "with open(output_file, \"w\") as json_file:\n",
    "  json.dump(extracted_recipes, json_file, indent = 4)"
   ]
  },
  {
   "cell_type": "markdown",
   "id": "cce26b77",
   "metadata": {},
   "source": [
    "### Embeddings\n",
    "\n",
    "A partir de las recetas, vamos a crear los `embeddings` para poder almacenarlos en una base de datos vectorial.\n",
    "\n",
    "Recuperamos los datos del archivo JSON generado anteriormente, para no tener que volver a procesar las imágenes si reiniciamos el libro."
   ]
  },
  {
   "cell_type": "code",
   "execution_count": null,
   "id": "4fb9eec4",
   "metadata": {},
   "outputs": [],
   "source": [
    "output_file = os.path.join(\"pdfs\", \"recipe_info.json\")\n",
    "\n",
    "# Write the filtered list to a json file\n",
    "with open(output_file, \"r\") as json_file:\n",
    "  recipes = json.load(json_file)"
   ]
  },
  {
   "cell_type": "code",
   "execution_count": null,
   "id": "d384247d",
   "metadata": {},
   "outputs": [],
   "source": [
    "len(recipes)"
   ]
  },
  {
   "cell_type": "code",
   "execution_count": null,
   "id": "5b02f778",
   "metadata": {},
   "outputs": [],
   "source": [
    "recipes[0]"
   ]
  },
  {
   "cell_type": "markdown",
   "id": "9d701fb8",
   "metadata": {},
   "source": [
    "Creamos una función que dada una receta, genere genere el texto para el `embedding` uniendo en un texto el nombre de la receta, los ingredientes y los pasos de la receta.  "
   ]
  },
  {
   "cell_type": "code",
   "execution_count": null,
   "id": "a788dcb3",
   "metadata": {},
   "outputs": [],
   "source": [
    "def prepare_recipe_for_embedding(recipe):\n",
    "    \"\"\"\n",
    "    Generates the embedding text and metadata dictionary from a recipe dictionary.\n",
    "    Removes 'is_recipe' from metadata.\n",
    "    Handles None values for 'quantity' and 'item' in ingredients.\n",
    "    \"\"\"\n",
    "    # Recipe name\n",
    "    name = recipe.get('recipe_name', '') or ''\n",
    "\n",
    "    # Ingredients as text\n",
    "    ingredients_list = recipe.get('ingredients', [])\n",
    "    ingredients_text = ''\n",
    "    if ingredients_list and isinstance(ingredients_list, list):\n",
    "        ingredient_strings = []\n",
    "        for ing in ingredients_list:\n",
    "            quantity = ing.get('quantity')\n",
    "            item = ing.get('item')\n",
    "            # Only include if item is present (item is essential)\n",
    "            if item:\n",
    "                quantity_str = str(quantity) if quantity is not None else ''\n",
    "                item_str = str(item) if item is not None else ''\n",
    "                ingredient_strings.append(f\"{quantity_str.strip()} {item_str.strip()}\".strip())\n",
    "        ingredients_text = '; '.join(ingredient_strings)\n",
    "\n",
    "    # Instructions as text\n",
    "    instructions_list = recipe.get('instructions', [])\n",
    "    instructions_text = ''\n",
    "    if instructions_list and isinstance(instructions_list, list):\n",
    "        instructions_text = ' '.join([str(instr) for instr in instructions_list if instr])\n",
    "\n",
    "    # Text for embedding\n",
    "    embedding_text = (\n",
    "        f\"Nombre de la receta: {name}. \"\n",
    "        f\"Ingredientes: {ingredients_text}. \"\n",
    "        f\"Instrucciones de preparación: {instructions_text}\"\n",
    "    )\n",
    "\n",
    "    metadata = {}\n",
    "    for k, v in recipe.items():\n",
    "        if k == 'is_recipe':\n",
    "            continue\n",
    "        if v is None:\n",
    "            metadata[k] = ''\n",
    "        elif isinstance(v, (str, int, float, bool)):\n",
    "            metadata[k] = v\n",
    "        else:\n",
    "            # Ignorar valores complejos\n",
    "            pass\n",
    "\n",
    "    # Añadir ingredientes como lista de strings\n",
    "    metadata['ingredients'] = ingredient_strings\n",
    "\n",
    "    metadata['ingredients'] = ingredients_text\n",
    "    metadata['instructions'] = instructions_text\n",
    "    \n",
    "    return embedding_text, metadata\n"
   ]
  },
  {
   "cell_type": "code",
   "execution_count": null,
   "id": "b752b168",
   "metadata": {},
   "outputs": [],
   "source": [
    "recipe_text, recipe_metadata = prepare_recipe_for_embedding(recipes[1])\n",
    "print(\"Embedding text:\\n\", recipe_text)\n",
    "print(\"\\nMetadata:\\n\", recipe_metadata)\n"
   ]
  },
  {
   "cell_type": "markdown",
   "id": "847b9e49",
   "metadata": {},
   "source": [
    "Creamos un cliente de Gemini para generar los embeddings."
   ]
  },
  {
   "cell_type": "code",
   "execution_count": null,
   "id": "4d8991dd",
   "metadata": {},
   "outputs": [],
   "source": [
    "embedding_client = OpenAI(\n",
    "    api_key=gemini_api_key,  # Reemplaza por tu clave real de Gemini\n",
    "    base_url=\"https://generativelanguage.googleapis.com/v1beta/openai/\"\n",
    ")"
   ]
  },
  {
   "cell_type": "markdown",
   "id": "5a326711",
   "metadata": {},
   "source": [
    "Probamos a crear el `embedding` para una receta."
   ]
  },
  {
   "cell_type": "code",
   "execution_count": null,
   "id": "e4129769",
   "metadata": {},
   "outputs": [],
   "source": [
    "embedding_response = embedding_client.embeddings.create(\n",
    "    input = recipe_text, # Provide the recipe text as input\n",
    "    model = \"text-embedding-004\" # Specify the embedding model to use\n",
    ")"
   ]
  },
  {
   "cell_type": "code",
   "execution_count": null,
   "id": "7d46c22c",
   "metadata": {},
   "outputs": [],
   "source": [
    "embedding_response"
   ]
  },
  {
   "cell_type": "markdown",
   "id": "7bdf78d1",
   "metadata": {},
   "source": [
    "Vamos a crear los `embeddings` de todas las recetas:"
   ]
  },
  {
   "cell_type": "code",
   "execution_count": null,
   "id": "610c7270",
   "metadata": {},
   "outputs": [],
   "source": [
    "recipes_text, recipes_metadata = map(list, zip(*(prepare_recipe_for_embedding(recipe) for recipe in recipes)))\n",
    "\n",
    "len(recipes_text)"
   ]
  },
  {
   "cell_type": "markdown",
   "id": "2b2b1765",
   "metadata": {},
   "source": [
    "El modelo `text-embedding-004` sólo permite crear `embeddings` para 100 elementos. Dividimos el proceso en bloques y unimos."
   ]
  },
  {
   "cell_type": "code",
   "execution_count": null,
   "id": "bed86465",
   "metadata": {},
   "outputs": [],
   "source": [
    "def batch_embedding_calls(texts, embedding_function, batch_size=100):\n",
    "    \"\"\"\n",
    "    Procesa textos en lotes y concatena los resultados de embeddings.\n",
    "    - texts: lista de textos a procesar.\n",
    "    - embedding_function: función que recibe una lista de textos y devuelve una lista de embeddings.\n",
    "    - batch_size: máximo de textos por llamada (100 para text-embedding-004).\n",
    "    \"\"\"\n",
    "    batches = [texts[i:i + batch_size] for i in range(0, len(texts), batch_size)]\n",
    "    all_embeddings = []\n",
    "    for batch in batches:\n",
    "        embeddings = embedding_function(batch)  # Llama a la API aquí\n",
    "        all_embeddings.extend(embeddings)\n",
    "    return all_embeddings\n",
    "\n",
    "def get_embeddings(text_batch):\n",
    "    response = embedding_client.embeddings.create(\n",
    "        input = text_batch, # Provide the recipe text as input\n",
    "        model = \"text-embedding-004\" # Specify the embedding model to use\n",
    "    )\n",
    "    return [item.embedding for item in response.data]"
   ]
  },
  {
   "cell_type": "code",
   "execution_count": null,
   "id": "58c4d2e0",
   "metadata": {},
   "outputs": [],
   "source": [
    "recipes_embedding = batch_embedding_calls(recipes_text, get_embeddings, batch_size=100)\n"
   ]
  },
  {
   "cell_type": "markdown",
   "id": "10aef5ff",
   "metadata": {},
   "source": [
    "### Almacenamiento en una base de datos vectorial\n",
    "\n",
    "El siguiente paso es almacenar los `embeddings` y los metadatos en una base de datos vectorial. En este caso, usaremos ChromaDB."
   ]
  },
  {
   "cell_type": "markdown",
   "id": "c06422e5",
   "metadata": {},
   "source": [
    "Creamos el cliente de ChromaDB."
   ]
  },
  {
   "cell_type": "code",
   "execution_count": null,
   "id": "6a965ff0",
   "metadata": {},
   "outputs": [],
   "source": [
    "import chromadb\n",
    "\n",
    "chroma_client = chromadb.PersistentClient(path=\"db/recipes\")"
   ]
  },
  {
   "cell_type": "markdown",
   "id": "759f3dcc",
   "metadata": {},
   "source": [
    "Creamos la colección de recetas. Si ya existe, la eliminamos y la volvemos a crear."
   ]
  },
  {
   "cell_type": "code",
   "execution_count": null,
   "id": "682c6aa5",
   "metadata": {},
   "outputs": [],
   "source": [
    "collection_name = \"recipes\"\n",
    "\n",
    "if collection_name in [c.name for c in chroma_client.list_collections()]:\n",
    "    chat_client.delete_collection(name=collection_name)\n",
    "\n",
    "recipes_collection = chroma_client.create_collection(name=collection_name)"
   ]
  },
  {
   "cell_type": "code",
   "execution_count": null,
   "id": "ef70e899",
   "metadata": {},
   "outputs": [],
   "source": [
    "collection_name = \"recipes\"\n",
    "\n",
    "recipes_collection = chroma_client.get_collection(name=collection_name)"
   ]
  },
  {
   "cell_type": "markdown",
   "id": "48ab83bb",
   "metadata": {},
   "source": [
    "Insertamos los datos en la colección. Cada elemento en Chrome debe tener un identificador único."
   ]
  },
  {
   "cell_type": "code",
   "execution_count": null,
   "id": "b1a4cccc",
   "metadata": {},
   "outputs": [],
   "source": [
    "import uuid\n",
    "\n",
    "recipes_ids = [str(uuid.uuid4()) for _ in recipes]\n"
   ]
  },
  {
   "cell_type": "code",
   "execution_count": null,
   "id": "bfe3292e",
   "metadata": {},
   "outputs": [],
   "source": [
    "recipes_collection.add(\n",
    "    ids=recipes_ids,                # Lista de IDs únicos (str)\n",
    "    embeddings=recipes_embedding,  # Lista de vectores (listas de floats)\n",
    "    documents=recipes_text,         # Lista de textos originales (opcional, pero recomendable)\n",
    "    metadatas=recipes_metadata      # Lista de diccionarios de metadatos (opcional)\n",
    ")"
   ]
  },
  {
   "cell_type": "markdown",
   "id": "77ac08cd",
   "metadata": {},
   "source": [
    "### Consultar la base de datos vectorial"
   ]
  },
  {
   "cell_type": "markdown",
   "id": "e5417cc0",
   "metadata": {},
   "source": [
    "Primero, generamos el `embedding` de la consulta."
   ]
  },
  {
   "cell_type": "code",
   "execution_count": null,
   "id": "b50c3c33",
   "metadata": {},
   "outputs": [],
   "source": [
    "# Generate the embeddings for the query\n",
    "query = \"¿Cómo se hace pan?\"\n",
    "\n",
    "query_embedding = embedding_client.embeddings.create(\n",
    "    input = [query],\n",
    "    model = \"text-embedding-004\"\n",
    ").data[0].embedding"
   ]
  },
  {
   "cell_type": "markdown",
   "id": "d15ee3a6",
   "metadata": {},
   "source": [
    "Después consultados la base de datos vectorial con el `embedding` de la consulta."
   ]
  },
  {
   "cell_type": "code",
   "execution_count": null,
   "id": "f8183801",
   "metadata": {},
   "outputs": [],
   "source": [
    "k = 5 # Number of top results to retrieve\n",
    "results = recipes_collection.query(\n",
    "    query_embeddings=[query_embedding],\n",
    "    n_results=k,\n",
    "    include=[\"documents\", \"metadatas\", \"distances\"]  # Puedes incluir lo que necesites\n",
    ")"
   ]
  },
  {
   "cell_type": "markdown",
   "id": "65c61c39",
   "metadata": {},
   "source": [
    "Se muestran los 5 resultados más relevantes ordenados de menor a mayor distancia."
   ]
  },
  {
   "cell_type": "code",
   "execution_count": null,
   "id": "cc3ed8b9",
   "metadata": {},
   "outputs": [],
   "source": [
    "results"
   ]
  },
  {
   "cell_type": "markdown",
   "id": "96277fa4",
   "metadata": {},
   "source": [
    "Creamos una función que reciba un `document` y lo muestre formateado en Markdown."
   ]
  },
  {
   "cell_type": "code",
   "execution_count": null,
   "id": "02bd8eb4",
   "metadata": {},
   "outputs": [],
   "source": [
    "def recipe_document_to_markdown(doc_str):\n",
    "    \"\"\"\n",
    "    Recibe un string con la receta y devuelve Markdown con nombre, ingredientes e instrucciones.\n",
    "    \"\"\"\n",
    "    # Extraer nombre de la receta\n",
    "    name_match = re.search(r'Nombre de la receta:\\s*([^.]+)\\.', doc_str)\n",
    "    name = name_match.group(1).strip() if name_match else \"Receta sin nombre\"\n",
    "\n",
    "    # Extraer ingredientes\n",
    "    ing_match = re.search(r'Ingredientes:\\s*([^.]+)\\.', doc_str)\n",
    "    ingredients_raw = ing_match.group(1).strip() if ing_match else \"\"\n",
    "    # Separar ingredientes por ';'\n",
    "    ingredients = [f\"- {ing.strip()}\" for ing in ingredients_raw.split(';') if ing.strip()]\n",
    "\n",
    "    # Extraer instrucciones\n",
    "    instr_match = re.search(r'Instrucciones de preparación:\\s*(.+)', doc_str)\n",
    "    instructions_raw = instr_match.group(1).strip() if instr_match else \"\"\n",
    "    # Separar instrucciones por puntos, pero mantener frases completas\n",
    "    # (puedes ajustar esto según tus necesidades)\n",
    "    instructions = [f\"{i+1}. {step.strip()}\" for i, step in enumerate(re.split(r'\\.([ ]|$)\\s*', instructions_raw)) if step.strip()]\n",
    "\n",
    "    # Construir el Markdown\n",
    "    md = f\"# {name}\\n\\n\"\n",
    "    md += \"## Ingredientes\\n\"\n",
    "    md += \"\\n\".join(ingredients) + \"\\n\\n\"\n",
    "    md += \"## Instrucciones de preparación\\n\"\n",
    "    md += \"\\n\".join(instructions)\n",
    "\n",
    "    return md\n"
   ]
  },
  {
   "cell_type": "code",
   "execution_count": null,
   "id": "3c6b5a1c",
   "metadata": {},
   "outputs": [],
   "source": [
    "display(Markdown(recipe_document_to_markdown(results[\"documents\"][0][-1])))"
   ]
  },
  {
   "cell_type": "markdown",
   "id": "ca3b4001",
   "metadata": {},
   "source": [
    "Creamos una función que reciba todos los `documents` y los muestre formateados los documentos en Markdown en orden de distancia."
   ]
  },
  {
   "cell_type": "code",
   "execution_count": null,
   "id": "9323af4e",
   "metadata": {},
   "outputs": [],
   "source": [
    "def recipe_documents_to_markdown(documents):\n",
    "    \"\"\"\n",
    "    Convierte una lista de documentos de recetas a Markdown.\n",
    "    \"\"\"\n",
    "    return \"\\n\\n\".join(recipe_document_to_markdown(doc) for doc in reversed(documents))"
   ]
  },
  {
   "cell_type": "code",
   "execution_count": null,
   "id": "3a228c79",
   "metadata": {},
   "outputs": [],
   "source": [
    "display(Markdown(recipe_documents_to_markdown(results[\"documents\"][0])))"
   ]
  },
  {
   "cell_type": "markdown",
   "id": "f8765cf7",
   "metadata": {},
   "source": [
    "Creamos una que realiza todo el proceso"
   ]
  },
  {
   "cell_type": "code",
   "execution_count": null,
   "id": "504863e4",
   "metadata": {},
   "outputs": [],
   "source": [
    "def search_recipes(query, k=5):\n",
    "    \"\"\"\n",
    "    Busca recetas similares a la consulta dada.\n",
    "    \n",
    "    Args:\n",
    "        query (str): Consulta de búsqueda.\n",
    "        k (int): Número de resultados a devolver.\n",
    "    \n",
    "    Returns:\n",
    "        list: Lista de documentos de recetas encontrados.\n",
    "    \"\"\"\n",
    "    query_embedding = embedding_client.embeddings.create(\n",
    "        input=[query],\n",
    "        model=\"text-embedding-004\"\n",
    "    ).data[0].embedding\n",
    "\n",
    "    results = recipes_collection.query(\n",
    "        query_embeddings=[query_embedding],\n",
    "        n_results=k,\n",
    "        include=[\"documents\", \"metadatas\", \"distances\"]\n",
    "    )\n",
    "    \n",
    "    return recipe_documents_to_markdown(results[\"documents\"][0])  # Devuelve los documentos encontrados"
   ]
  },
  {
   "cell_type": "code",
   "execution_count": null,
   "id": "8a84f47d",
   "metadata": {},
   "outputs": [],
   "source": [
    "display(Markdown(search_recipes(\"¿Cómo se hace pan?\")))"
   ]
  },
  {
   "cell_type": "markdown",
   "id": "08e87440",
   "metadata": {},
   "source": [
    "### Sistema generativo\n",
    "\n",
    "Ya tenemos las recetas que más se parecen a nuestra consulta. Pero eso no quiere decir que hayamos respondido a la pregunta. Vamos consultar a un LLM para que nos responda a la pregunta, pero que sólo use la información obtenida de las recetas."
   ]
  },
  {
   "cell_type": "code",
   "execution_count": null,
   "id": "dd5b5a3e",
   "metadata": {},
   "outputs": [],
   "source": [
    "# Define el prompt del sistema\n",
    "def query_system_prompt(combined_content, query):\n",
    "    return f\"\"\"\n",
    "    Eres un chef altamente experimentado y experto, especializado en brindar consejos culinarios.\n",
    "    Tu tarea principal es proporcionar información precisa y exacta sobre el contenido combinado.\n",
    "    Tu objetivo es ayudar al usuario y responder la pregunta: \"{query}\"\n",
    "    Respondes directamente a la consulta utilizando solo la información proporcionada en las\n",
    "    siguientes recetas: [recetas].\n",
    "    Si no sabes la respuesta, simplemente di que no lo sabes.\n",
    "    El usuario no debe saber que consultas la información en una lista de recetas.\n",
    "    No hagas aclaraciones al usuario si no sabes la respuesta.\n",
    "\n",
    "    recetas: {combined_content}\n",
    "    \"\"\"\n"
   ]
  },
  {
   "cell_type": "code",
   "execution_count": null,
   "id": "bf960a65",
   "metadata": {},
   "outputs": [],
   "source": [
    "def generate_response(query, combined_content):\n",
    "  response = chat_client.chat.completions.create(\n",
    "      model = model,\n",
    "      messages = [\n",
    "          {\"role\": \"system\", \"content\": query_system_prompt(combined_content, query)}, # Provide system prompt for guidance\n",
    "          {\"role\": \"user\", \"content\": query}\n",
    "    ],\n",
    "    temperature=0\n",
    "  )\n",
    "  return response"
   ]
  },
  {
   "cell_type": "code",
   "execution_count": null,
   "id": "ad6cb5c5",
   "metadata": {},
   "outputs": [],
   "source": [
    "# Get the results from the API\n",
    "query = \"¿Cómo se hace masa de pan?\"\n",
    "combined_content = search_recipes(query)\n",
    "response = generate_response(query, combined_content)\n",
    "\n",
    "display(Markdown(response.choices[0].message.content))"
   ]
  },
  {
   "cell_type": "code",
   "execution_count": null,
   "id": "be667a60",
   "metadata": {},
   "outputs": [],
   "source": [
    "# Get the results from the API\n",
    "query = \"Dime la mejor receta de pastel de chocolate\"\n",
    "combined_content = search_recipes(query)\n",
    "response = generate_response(query, combined_content)\n",
    "\n",
    "display(Markdown(response.choices[0].message.content))"
   ]
  },
  {
   "cell_type": "code",
   "execution_count": null,
   "id": "89c99464",
   "metadata": {},
   "outputs": [],
   "source": [
    "# Get the results from the API\n",
    "query = \"Dime recetas con tortuga y cebolla. MMuestra las palabras que hagan referencia a tortuga y cebolla en verde\"\n",
    "combined_content = search_recipes(query)\n",
    "response = generate_response(query, combined_content)\n",
    "\n",
    "display(Markdown(response.choices[0].message.content))"
   ]
  }
 ],
 "metadata": {
  "kernelspec": {
   "display_name": ".venv",
   "language": "python",
   "name": "python3"
  },
  "language_info": {
   "codemirror_mode": {
    "name": "ipython",
    "version": 3
   },
   "file_extension": ".py",
   "mimetype": "text/x-python",
   "name": "python",
   "nbconvert_exporter": "python",
   "pygments_lexer": "ipython3",
   "version": "3.12.10"
  }
 },
 "nbformat": 4,
 "nbformat_minor": 5
}
