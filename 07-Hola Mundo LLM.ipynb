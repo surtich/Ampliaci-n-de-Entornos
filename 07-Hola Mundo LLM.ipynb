{
 "cells": [
  {
   "cell_type": "markdown",
   "id": "4f407a39",
   "metadata": {},
   "source": [
    "### Primera aplicación basada en LLM\n",
    "\n",
    "En esta lección vamos a integrar un LLM en una aplicación Python. Empezamos probando que podemos conversar un un modelo LLM. En estas y sucesivas lecciones, se usará el proveedor Google Gemini, cámbielo si prefiere usar otro."
   ]
  },
  {
   "cell_type": "code",
   "execution_count": 2,
   "id": "b8503cf6",
   "metadata": {},
   "outputs": [
    {
     "name": "stdout",
     "output_type": "stream",
     "text": [
      "2 + 2 son 4.\n",
      "\n"
     ]
    }
   ],
   "source": [
    "import os\n",
    "from openai import OpenAI\n",
    "from dotenv import load_dotenv\n",
    "\n",
    "load_dotenv()\n",
    "api_key = os.getenv('GOOGLE_API_KEY')\n",
    "\n",
    "MODEL = \"gemini-2.0-flash\"\n",
    "openai = OpenAI(base_url=\"https://generativelanguage.googleapis.com/v1beta\", api_key=api_key)\n",
    "\n",
    "response = openai.chat.completions.create(\n",
    " model=MODEL,\n",
    " messages=[{\"role\": \"user\", \"content\": \"¿Cuánto son 2 + 2?\"}]\n",
    ")\n",
    "\n",
    "print(response.choices[0].message.content)"
   ]
  },
  {
   "cell_type": "markdown",
   "id": "0150efae",
   "metadata": {},
   "source": [
    "En la siguiente celda definimos la clase `Website` que permite hacer `scrapping` de una URL pasada como parámetro utilizando la librería `BeautifulSoup4`. Observe que lo que hace es obtener el `title` de la página y el texto. Para ello, elimina previamente el contenido de etiquetas irrelevantes con el método `BeautifulSoup.decompose()`."
   ]
  },
  {
   "cell_type": "code",
   "execution_count": 2,
   "id": "fdc8182d",
   "metadata": {},
   "outputs": [],
   "source": [
    "import requests\n",
    "from bs4 import BeautifulSoup\n",
    "\n",
    "# A class to represent a Webpage\n",
    "# Code from: https://github.com/ed-donner/llm_engineering \n",
    "\n",
    "# Some websites need you to use proper headers when fetching them:\n",
    "headers = {\n",
    " \"User-Agent\": \"Mozilla/5.0 (Windows NT 10.0; Win64; x64) AppleWebKit/537.36 (KHTML, like Gecko) Chrome/117.0.0.0 Safari/537.36\"\n",
    "}\n",
    "\n",
    "class Website:\n",
    "\n",
    "    def __init__(self, url):\n",
    "        \"\"\"\n",
    "        Create this Website object from the given url using the BeautifulSoup library\n",
    "        \"\"\"\n",
    "        self.url = url\n",
    "        response = requests.get(url, headers=headers)\n",
    "        soup = BeautifulSoup(response.content, 'html.parser')\n",
    "        self.title = soup.title.string if soup.title else \"No title found\"\n",
    "        for irrelevant in soup.body([\"script\", \"style\", \"img\", \"input\"]):\n",
    "            irrelevant.decompose()\n",
    "        self.text = soup.body.get_text(separator=\"\\n\", strip=True)"
   ]
  },
  {
   "cell_type": "markdown",
   "id": "c29b34d8",
   "metadata": {},
   "source": [
    "En la siguiente celda, descargamos y mostramos el código de una página de Wikipedia."
   ]
  },
  {
   "cell_type": "code",
   "execution_count": 16,
   "id": "e65d0df5",
   "metadata": {},
   "outputs": [
    {
     "name": "stdout",
     "output_type": "stream",
     "text": [
      "Novak Djokovic - Wikipedia\n",
      " editors\n",
      "learn more\n",
      "Contributions\n",
      "Talk\n",
      "Contents\n",
      "mo\n"
     ]
    }
   ],
   "source": [
    "# Versión en inglés de la página de Novak Djokovic\n",
    "novak_url = \"https://en.wikipedia.org/wiki/Novak_Djokovic\"\n",
    "novak_web = Website(url)\n",
    "print(novak_web.title)\n",
    "print(novak_web.text[350:400])"
   ]
  },
  {
   "cell_type": "markdown",
   "id": "38a19420",
   "metadata": {},
   "source": [
    "Creamos una función que cree el `prompt` de  `user` para resumir páginas de Wikipedia."
   ]
  },
  {
   "cell_type": "code",
   "execution_count": 12,
   "id": "b772b65c",
   "metadata": {},
   "outputs": [],
   "source": [
    "def user_prompt_for(website):\n",
    "    user_prompt = f\"Estás buscando una página con título {website.title}\"\n",
    "    user_prompt += \"\\nLos contenidos de este sitio web son los siguientes; \\\n",
    "                    por favor, proporciona un breve resumen de este sitio web en markdown. \\\n",
    "                    Si incluye noticias o anuncios, resúmelos también.\\n\\n\"\n",
    "    user_prompt += website.text\n",
    "    return user_prompt"
   ]
  },
  {
   "cell_type": "markdown",
   "id": "132831fa",
   "metadata": {},
   "source": [
    "Creamos otra función añada el `prompt` de `system`:"
   ]
  },
  {
   "cell_type": "code",
   "execution_count": 49,
   "id": "4ebc2876",
   "metadata": {},
   "outputs": [],
   "source": [
    "system_prompt = \"Eres un asistente que analiza el contenido de un sitio web \\\n",
    "                    y proporciona un resumen breve, ignorando el texto que podría estar relacionado con la navegación. \\\n",
    "                    No añades ningún comentario inicial ni final. \\\n",
    "                    Respondes en markdown. Respondes en español.\"\n",
    "    \n",
    "def messages_for(website):\n",
    "    return [\n",
    "        {\"role\": \"system\", \"content\": system_prompt},\n",
    "        {\"role\": \"user\", \"content\": user_prompt_for(website)}\n",
    "    ]"
   ]
  },
  {
   "cell_type": "markdown",
   "id": "d8248a5f",
   "metadata": {},
   "source": [
    "Creamos la función que llama a la API para crear el resumen de la página:"
   ]
  },
  {
   "cell_type": "code",
   "execution_count": 19,
   "id": "4b59a8f8",
   "metadata": {},
   "outputs": [],
   "source": [
    "def summarize(url):\n",
    "    website = Website(url)\n",
    "    response = openai.chat.completions.create(\n",
    "        model = MODEL,\n",
    "        messages = messages_for(website)\n",
    "    )\n",
    "    return response.choices[0].message.content"
   ]
  },
  {
   "cell_type": "markdown",
   "id": "a33dfdcb",
   "metadata": {},
   "source": [
    "Vemos que el resumen se hace en español a pesar de que la página está en inglés."
   ]
  },
  {
   "cell_type": "code",
   "execution_count": 20,
   "id": "24110988",
   "metadata": {},
   "outputs": [
    {
     "data": {
      "text/plain": [
       "'Aquí está un resumen del perfil de Wikipedia de Novak Djokovic:\\n\\n*   **Resumen General:** Novak Djokovic es un tenista profesional serbio nacido el 22 de mayo de 1987. Es ampliamente considerado uno de los mejores tenistas de todos los tiempos.\\n\\n*   **Logros:** Djokovic ha sido clasificado como el número 1 del mundo por la Asociación de Tenistas Profesionales (ATP) durante un récord de 428 semanas y ha terminado como el número 1 de fin de año un récord de ocho veces. Tiene un récord de 24 títulos individuales importantes masculinos y 99 títulos individuales en total.\\n\\n*   **Carrera:** Djokovic se convirtió en profesional en 2003. Ganó su primer título importante en el Abierto de Australia en 2008. En 2011, alcanzó el número 1 por primera vez, ganando tres Majors y un récord entonces de cinco títulos de Masters, mientras que fue 10-1 contra Nadal y Federer.\\n\\n*   **Rivalidades:** Djokovic ha tenido rivalidades notables con Rafael Nadal, Roger Federer y Andy Murray.\\n\\n*   **Fuera de la cancha:** Djokovic es un filántropo activo, fundador de la Fundación Novak Djokovic y embajador de buena voluntad de UNICEF.'"
      ]
     },
     "execution_count": 20,
     "metadata": {},
     "output_type": "execute_result"
    }
   ],
   "source": [
    "summarize(novak_url)"
   ]
  },
  {
   "cell_type": "markdown",
   "id": "0e112026",
   "metadata": {},
   "source": [
    "Para verlo mejor creamos una función que interprete el código Markdown:"
   ]
  },
  {
   "cell_type": "code",
   "execution_count": 70,
   "id": "633956ba",
   "metadata": {},
   "outputs": [],
   "source": [
    "from IPython.display import Markdown, display, update_display\n",
    "\n",
    "def display_summary(url):\n",
    "    summary = summarize(url)\n",
    "    display(Markdown(summary))"
   ]
  },
  {
   "cell_type": "code",
   "execution_count": 40,
   "id": "19cf1c17",
   "metadata": {},
   "outputs": [
    {
     "data": {
      "text/markdown": [
       "Novak Djokovic es un tenista profesional serbio nacido el 22 de mayo de 1987, considerado uno de los mejores de todos los tiempos. Ha mantenido el puesto número 1 del mundo por un récord de 428 semanas y ha terminado el año como número 1 en ocho ocasiones, también un récord. Djokovic ha ganado 24 títulos individuales masculinos de Grand Slam, incluyendo diez Abiertos de Australia. En total, ha ganado 99 títulos individuales, incluyendo 40 Masters y siete campeonatos de final de temporada, además de una medalla de oro olímpica. Es el único hombre en la historia del tenis en ser campeón defensor de los cuatro Grand Slams simultáneamente en tres superficies diferentes.\n",
       "\n",
       "Djokovic comenzó su carrera profesional en 2003. En 2008, ganó su primer título de Grand Slam en el Abierto de Australia. En 2011, ascendió al número 1 por primera vez, ganando tres Grand Slams y un récord de cinco títulos Masters. En 2015, alcanzó un récord de 15 finales consecutivas y ganó 10 títulos grandes. En el Abierto de Francia de 2016, completó su primer Grand Slam de Carrera y un Grand Slam no calendario. Debido a su oposición a la vacuna COVID-19, se vio obligado a perderse muchos torneos en 2022. Representando a Serbia, Djokovic llevó al equipo nacional de tenis a su primer título de Copa Davis en 2010 y al título inaugural de la Copa ATP en 2020. Fuera de la competencia, Djokovic es filántropo y fundó la Fundación Novak Djokovic."
      ],
      "text/plain": [
       "<IPython.core.display.Markdown object>"
      ]
     },
     "metadata": {},
     "output_type": "display_data"
    }
   ],
   "source": [
    "display_summary(novak_url)"
   ]
  },
  {
   "cell_type": "markdown",
   "id": "5b9b30e0",
   "metadata": {},
   "source": [
    "**¿Qué hemos conseguido?**\n",
    "\n",
    "La capa gratuita de la API de Google Gemini no tiene acceso a Internet, y si le pedidos que nos resuma una página de Wikipedia, no puede hacerlo. Sin embargo, si le pasamos el texto de la página, sí que puede resumirlo. En este caso, hemos hecho un `scrapping` de la página y le hemos pasado el texto a la API. La API ha sido capaz de resumirlo y devolverlo en formato Markdown."
   ]
  },
  {
   "cell_type": "markdown",
   "id": "a712550f",
   "metadata": {},
   "source": [
    "Podemos mejorar la clase Website para que incorpore información de los `links`que tenga la página que queremos resumir:"
   ]
  },
  {
   "cell_type": "code",
   "execution_count": 42,
   "id": "7ddb8e94",
   "metadata": {},
   "outputs": [],
   "source": [
    "# Some websites need you to use proper headers when fetching them:\n",
    "headers = {\n",
    " \"User-Agent\": \"Mozilla/5.0 (Windows NT 10.0; Win64; x64) AppleWebKit/537.36 (KHTML, like Gecko) Chrome/117.0.0.0 Safari/537.36\"\n",
    "}\n",
    "\n",
    "class Website:\n",
    "    \"\"\"\n",
    "    A utility class to represent a Website that we have scraped, now with links\n",
    "    \"\"\"\n",
    "\n",
    "    def __init__(self, url):\n",
    "        self.url = url\n",
    "        response = requests.get(url, headers=headers)\n",
    "        self.body = response.content\n",
    "        soup = BeautifulSoup(self.body, 'html.parser')\n",
    "        self.title = soup.title.string if soup.title else \"No title found\"\n",
    "        if soup.body:\n",
    "            for irrelevant in soup.body([\"script\", \"style\", \"img\", \"input\"]):\n",
    "                irrelevant.decompose()\n",
    "            self.text = soup.body.get_text(separator=\"\\n\", strip=True)\n",
    "        else:\n",
    "            self.text = \"\"\n",
    "        links = [link.get('href') for link in soup.find_all('a')]\n",
    "        self.links = [link for link in links if link]\n",
    "\n",
    "    def get_contents(self):\n",
    "        return f\"Webpage Title:\\n{self.title}\\nWebpage Contents:\\n{self.text}\\n\\n\""
   ]
  },
  {
   "cell_type": "markdown",
   "id": "4a8d8093",
   "metadata": {},
   "source": [
    "Vemos que hay muchos `links` que no son relevantes porque no tienen que ver con el instituto."
   ]
  },
  {
   "cell_type": "code",
   "execution_count": 48,
   "id": "fc656adc",
   "metadata": {},
   "outputs": [
    {
     "data": {
      "text/plain": [
       "['#ht-content',\n",
       " 'https://site.educa.madrid.org/ies.mariadezayas.majadahonda/',\n",
       " '#',\n",
       " 'https://site.educa.madrid.org/ies.mariadezayas.majadahonda/',\n",
       " 'https://site.educa.madrid.org/ies.mariadezayas.majadahonda/index.php/el-centro/quienes-somos/',\n",
       " 'https://site.educa.madrid.org/ies.mariadezayas.majadahonda/index.php/el-centro/quienes-somos/',\n",
       " 'https://site.educa.madrid.org/ies.mariadezayas.majadahonda/index.php/informacion-centro/',\n",
       " 'https://site.educa.madrid.org/ies.mariadezayas.majadahonda/index.php/oferta/',\n",
       " 'https://site.educa.madrid.org/ies.mariadezayas.majadahonda/index.php/oferta/fp-grado-superior/',\n",
       " 'https://site.educa.madrid.org/ies.mariadezayas.majadahonda/index.php/oferta/fp-grado-medio/']"
      ]
     },
     "execution_count": 48,
     "metadata": {},
     "output_type": "execute_result"
    }
   ],
   "source": [
    "url_zayas = \"https://site.educa.madrid.org/ies.mariadezayas.majadahonda/\"\n",
    "web_zayas = Website(url_zayas)\n",
    "web_zayas.links[:10]"
   ]
  },
  {
   "cell_type": "markdown",
   "id": "7b36230c",
   "metadata": {},
   "source": [
    "Preparamos un `prompt` para que el modelo ignore los `links` irrelevantes. Utilizamos la técnica \"one shot prompting\" para instruir al modelo con un ejemplo. En este caso le decimos la estructura del JSON que queremos que genere."
   ]
  },
  {
   "cell_type": "code",
   "execution_count": 54,
   "id": "4f3087cf",
   "metadata": {},
   "outputs": [],
   "source": [
    "link_system_prompt = \"Se te proporciona una lista de enlaces encontrados en una página web. \\\n",
    "Eres capaz de decidir cuáles de los enlaces son más relevantes para incluir en un folleto sobre la empresa, \\\n",
    "como enlaces a una página Acerca de, o una página de la Empresa, o páginas de Carreras/Empleos.\\n\"\n",
    "link_system_prompt += \"Debes responder en JSON como en este ejemplo:\"\n",
    "link_system_prompt += \"\"\"\n",
    "{\n",
    "    \"links\": [\n",
    "        {\"type\": \"página acerca de\", \"url\": \"https://url.completa/aquí/acerca\"},\n",
    "        {\"type\": \"página de carreras\", \"url\": \"https://otra.url.completa/carreras\"}\n",
    "    ]\n",
    "}\n",
    "\"\"\""
   ]
  },
  {
   "cell_type": "markdown",
   "id": "52534775",
   "metadata": {},
   "source": [
    "Creamos el `prompt` de `user` para que el modelo genere el JSON:"
   ]
  },
  {
   "cell_type": "code",
   "execution_count": 53,
   "id": "2aa1cd54",
   "metadata": {},
   "outputs": [],
   "source": [
    "def get_links_user_prompt(website):\n",
    "    user_prompt = f\"Aquí tienes la lista de enlaces del sitio web de {website.url} - \"\n",
    "    user_prompt += \"por favor, decide cuáles de estos son enlaces web relevantes para un folleto sobre la empresa, responde con la URL completa en formato JSON. \\\n",
    "                    No incluyas Términos de Servicio, Privacidad ni enlaces de correo electrónico. \\\n",
    "                    ni de fuera del sitio web \\n\"\n",
    "    user_prompt += \"Enlaces (algunos pueden ser enlaces relativos):\\n\"\n",
    "    user_prompt += \"\\n\".join(website.links)\n",
    "    return user_prompt\n"
   ]
  },
  {
   "cell_type": "markdown",
   "id": "c328a49e",
   "metadata": {},
   "source": [
    "Usamos la IA para que decida los `links` más relevantes y los muestre en formato JSON:"
   ]
  },
  {
   "cell_type": "code",
   "execution_count": 51,
   "id": "85f30950",
   "metadata": {},
   "outputs": [],
   "source": [
    "import json\n",
    "\n",
    "def get_links(url):\n",
    "    website = Website(url)\n",
    "    response = openai.chat.completions.create(\n",
    "        model=MODEL,\n",
    "        messages=[\n",
    "            {\"role\": \"system\", \"content\": link_system_prompt},\n",
    "            {\"role\": \"user\", \"content\": get_links_user_prompt(website)}\n",
    "      ],\n",
    "        response_format={\"type\": \"json_object\"}\n",
    "    )\n",
    "    result = response.choices[0].message.content\n",
    "    return json.loads(result)"
   ]
  },
  {
   "cell_type": "code",
   "execution_count": 55,
   "id": "ac75ddba",
   "metadata": {},
   "outputs": [
    {
     "data": {
      "text/plain": [
       "{'links': [{'type': 'página acerca de',\n",
       "   'url': 'https://site.educa.madrid.org/ies.mariadezayas.majadahonda/index.php/el-centro/quienes-somos/'},\n",
       "  {'type': 'información del centro',\n",
       "   'url': 'https://site.educa.madrid.org/ies.mariadezayas.majadahonda/index.php/informacion-centro/'},\n",
       "  {'type': 'oferta educativa',\n",
       "   'url': 'https://site.educa.madrid.org/ies.mariadezayas.majadahonda/index.php/oferta/'},\n",
       "  {'type': 'FP Grado Superior',\n",
       "   'url': 'https://site.educa.madrid.org/ies.mariadezayas.majadahonda/index.php/oferta/fp-grado-superior/'},\n",
       "  {'type': 'FP Grado Medio',\n",
       "   'url': 'https://site.educa.madrid.org/ies.mariadezayas.majadahonda/index.php/oferta/fp-grado-medio/'},\n",
       "  {'type': 'FP Básica',\n",
       "   'url': 'https://site.educa.madrid.org/ies.mariadezayas.majadahonda/index.php/oferta/fp-basica/'},\n",
       "  {'type': 'Órganos de gestión',\n",
       "   'url': 'https://site.educa.madrid.org/ies.mariadezayas.majadahonda/index.php/el-centro/organos-de-gestion/'},\n",
       "  {'type': 'Dónde encontrarnos',\n",
       "   'url': 'https://site.educa.madrid.org/ies.mariadezayas.majadahonda/index.php/el-centro/donde-encontrarnos/'},\n",
       "  {'type': 'Contacto',\n",
       "   'url': 'https://site.educa.madrid.org/ies.mariadezayas.majadahonda/index.php/el-centro/contacto/'},\n",
       "  {'type': 'Documentos del centro',\n",
       "   'url': 'https://site.educa.madrid.org/ies.mariadezayas.majadahonda/index.php/el-centro/documentos-del-centro/'},\n",
       "  {'type': 'Profesorado',\n",
       "   'url': 'https://site.educa.madrid.org/ies.mariadezayas.majadahonda/index.php/el-centro/profesorado/'},\n",
       "  {'type': 'Aula de emprendimiento',\n",
       "   'url': 'https://site.educa.madrid.org/ies.mariadezayas.majadahonda/index.php/el-centro/aula-de-emprendimiento/'},\n",
       "  {'type': 'Aula de gestión turística',\n",
       "   'url': 'https://site.educa.madrid.org/ies.mariadezayas.majadahonda/index.php/el-centro/aula-de-gestion-turistica/'},\n",
       "  {'type': 'Restaurantes Zayas y Tienda',\n",
       "   'url': 'https://site.educa.madrid.org/ies.mariadezayas.majadahonda/index.php/el-centro/restaurantes-zayas-y-tienda/'},\n",
       "  {'type': 'Secretaría',\n",
       "   'url': 'https://site.educa.madrid.org/ies.mariadezayas.majadahonda/index.php/secretaria/'},\n",
       "  {'type': 'Horarios Secretaría',\n",
       "   'url': 'https://site.educa.madrid.org/ies.mariadezayas.majadahonda/index.php/secretaria/horarios-secretaria/'},\n",
       "  {'type': 'Matriculaciones',\n",
       "   'url': 'https://site.educa.madrid.org/ies.mariadezayas.majadahonda/index.php/matriculaciones/'},\n",
       "  {'type': 'Modelos de solicitudes',\n",
       "   'url': 'https://site.educa.madrid.org/ies.mariadezayas.majadahonda/index.php/secretaria/modelos-de-solicitudes/'},\n",
       "  {'type': 'FAQ',\n",
       "   'url': 'https://site.educa.madrid.org/ies.mariadezayas.majadahonda/index.php/secretaria/faq/'},\n",
       "  {'type': 'Alumnado',\n",
       "   'url': 'https://site.educa.madrid.org/ies.mariadezayas.majadahonda/index.php/alumnado/'},\n",
       "  {'type': 'Calendario Escolar',\n",
       "   'url': 'https://site.educa.madrid.org/ies.mariadezayas.majadahonda/index.php/alumnado/calendario-escolar/'},\n",
       "  {'type': 'Bolsa de empleo',\n",
       "   'url': 'https://site.educa.madrid.org/ies.mariadezayas.majadahonda/index.php/alumnado/bolsa-de-empleo/'},\n",
       "  {'type': 'Erasmus',\n",
       "   'url': 'https://site.educa.madrid.org/ies.mariadezayas.majadahonda/index.php/erasmus/'},\n",
       "  {'type': 'FP Dual',\n",
       "   'url': 'https://site.educa.madrid.org/ies.mariadezayas.majadahonda/index.php/fpdual/'}]}"
      ]
     },
     "execution_count": 55,
     "metadata": {},
     "output_type": "execute_result"
    }
   ],
   "source": [
    "get_links(url_zayas)"
   ]
  },
  {
   "cell_type": "markdown",
   "id": "40861ab0",
   "metadata": {},
   "source": [
    "Creamos una función que añada los `links` al texto de la página:"
   ]
  },
  {
   "cell_type": "code",
   "execution_count": 56,
   "id": "98633b4d",
   "metadata": {},
   "outputs": [],
   "source": [
    "def get_all_details(url):\n",
    "    result = \"Landing page:\\n\"\n",
    "    result += Website(url).get_contents()\n",
    "    links = get_links(url)\n",
    "    print(\"Found links:\", links)\n",
    "    for link in links[\"links\"]:\n",
    "        result += f\"\\n\\n{link['type']}\\n\"\n",
    "        result += Website(link[\"url\"]).get_contents()\n",
    "    return result"
   ]
  },
  {
   "cell_type": "markdown",
   "id": "4f8d8f37",
   "metadata": {},
   "source": [
    "Preparamos el `prompt` de `user` para que le pida a la IA que prepare un folleto con la información que reciba:"
   ]
  },
  {
   "cell_type": "code",
   "execution_count": 65,
   "id": "7eb132df",
   "metadata": {},
   "outputs": [],
   "source": [
    "system_prompt = (\n",
    "    \"Eres un asistente que analiza el contenido de varias páginas relevantes de un sitio web de una empresa \"\n",
    "    \"y crea un folleto corto, humorístico, entretenido y con chistes sobre la compañía para futuros clientes, \"\n",
    "    \"inversores e interesados. Responde en markdown.\\n\\n\"\n",
    "    \"Incluye detalles de la cultura de la empresa, los clientes y las carreras/empleos si tienes la información.\"\n",
    ")\n",
    "\n",
    "def get_brochure_user_prompt(company_name, url):\n",
    "    user_prompt = f\"Estás viendo una empresa llamada: {company_name}\\n\"\n",
    "    user_prompt += \"Aquí tienes el contenido de su página principal y otras páginas relevantes.\\\n",
    "                    usa esta información para crear un folleto breve de la empresa en markdown.\\n\"\n",
    "    user_prompt += get_all_details(url)\n",
    "    user_prompt = user_prompt[:5_000]  # Truncate if more than 5,000 characters\n",
    "    return user_prompt"
   ]
  },
  {
   "cell_type": "markdown",
   "id": "505b9454",
   "metadata": {},
   "source": [
    "Creamos la función que llama a la API para crear el folleto y la probamos:"
   ]
  },
  {
   "cell_type": "code",
   "execution_count": 61,
   "id": "7addd2cb",
   "metadata": {},
   "outputs": [],
   "source": [
    "def create_brochure(company_name, url):\n",
    "    response = openai.chat.completions.create(\n",
    "        model=MODEL,\n",
    "        messages=[\n",
    "            {\"role\": \"system\", \"content\": system_prompt},\n",
    "            {\"role\": \"user\", \"content\": get_brochure_user_prompt(company_name, url)}\n",
    "          ],\n",
    "    )\n",
    "    result = response.choices[0].message.content\n",
    "    display(Markdown(result))"
   ]
  },
  {
   "cell_type": "code",
   "execution_count": 66,
   "id": "13d2dbbf",
   "metadata": {},
   "outputs": [
    {
     "name": "stdout",
     "output_type": "stream",
     "text": [
      "Found links: {'links': [{'type': 'página acerca de', 'url': 'https://site.educa.madrid.org/ies.mariadezayas.majadahonda/index.php/el-centro/quienes-somos/'}, {'type': 'información del centro', 'url': 'https://site.educa.madrid.org/ies.mariadezayas.majadahonda/index.php/informacion-centro/'}, {'type': 'oferta educativa', 'url': 'https://site.educa.madrid.org/ies.mariadezayas.majadahonda/index.php/oferta/'}, {'type': 'FP Grado Superior', 'url': 'https://site.educa.madrid.org/ies.mariadezayas.majadahonda/index.php/oferta/fp-grado-superior/'}, {'type': 'FP Grado Medio', 'url': 'https://site.educa.madrid.org/ies.mariadezayas.majadahonda/index.php/oferta/fp-grado-medio/'}, {'type': 'FP Básica', 'url': 'https://site.educa.madrid.org/ies.mariadezayas.majadahonda/index.php/oferta/fp-basica/'}, {'type': 'órganos de gestión', 'url': 'https://site.educa.madrid.org/ies.mariadezayas.majadahonda/index.php/el-centro/organos-de-gestion/'}, {'type': 'dónde encontrarnos', 'url': 'https://site.educa.madrid.org/ies.mariadezayas.majadahonda/index.php/el-centro/donde-encontrarnos/'}, {'type': 'contacto', 'url': 'https://site.educa.madrid.org/ies.mariadezayas.majadahonda/index.php/el-centro/contacto/'}, {'type': 'documentos del centro', 'url': 'https://site.educa.madrid.org/ies.mariadezayas.majadahonda/index.php/el-centro/documentos-del-centro/'}, {'type': 'profesorado', 'url': 'https://site.educa.madrid.org/ies.mariadezayas.majadahonda/index.php/el-centro/profesorado/'}, {'type': 'Aula de Emprendimiento', 'url': 'https://site.educa.madrid.org/ies.mariadezayas.majadahonda/index.php/el-centro/aula-de-emprendimiento/'}, {'type': 'Aula de Gestión Turística', 'url': 'https://site.educa.madrid.org/ies.mariadezayas.majadahonda/index.php/el-centro/aula-de-gestion-turistica/'}, {'type': 'Restaurantes Zayas y Tienda', 'url': 'https://site.educa.madrid.org/ies.mariadezayas.majadahonda/index.php/el-centro/restaurantes-zayas-y-tienda/'}, {'type': 'secretaría', 'url': 'https://site.educa.madrid.org/ies.mariadezayas.majadahonda/index.php/secretaria/'}, {'type': 'horarios secretaría', 'url': 'https://site.educa.madrid.org/ies.mariadezayas.majadahonda/index.php/secretaria/horarios-secretaria/'}, {'type': 'matriculaciones', 'url': 'https://site.educa.madrid.org/ies.mariadezayas.majadahonda/index.php/matriculaciones/'}, {'type': 'modelos de solicitudes', 'url': 'https://site.educa.madrid.org/ies.mariadezayas.majadahonda/index.php/secretaria/modelos-de-solicitudes/'}, {'type': 'FAQ', 'url': 'https://site.educa.madrid.org/ies.mariadezayas.majadahonda/index.php/secretaria/faq/'}, {'type': 'alumnado', 'url': 'https://site.educa.madrid.org/ies.mariadezayas.majadahonda/index.php/alumnado/'}, {'type': 'novedades', 'url': 'https://site.educa.madrid.org/ies.mariadezayas.majadahonda/index.php/category/novedades/'}, {'type': 'calendario escolar', 'url': 'https://site.educa.madrid.org/ies.mariadezayas.majadahonda/index.php/alumnado/calendario-escolar/'}, {'type': 'calendario pruebas', 'url': 'https://site.educa.madrid.org/ies.mariadezayas.majadahonda/index.php/alumnado/calendario-pruebas/'}, {'type': 'horarios de aulas', 'url': 'https://site.educa.madrid.org/ies.mariadezayas.majadahonda/index.php/alumnado/horarios-de-aulas/'}, {'type': 'uniforme y utillaje', 'url': 'https://site.educa.madrid.org/ies.mariadezayas.majadahonda/index.php/alumnado/uniforme-y-utillaje/'}, {'type': 'bolsa de empleo', 'url': 'https://site.educa.madrid.org/ies.mariadezayas.majadahonda/index.php/alumnado/bolsa-de-empleo/'}, {'type': 'Erasmus', 'url': 'https://site.educa.madrid.org/ies.mariadezayas.majadahonda/index.php/erasmus/'}, {'type': 'FP Dual', 'url': 'https://site.educa.madrid.org/ies.mariadezayas.majadahonda/index.php/fpdual/'}, {'type': 'Reservas Aula Restaurante Zayas', 'url': 'https://site.educa.madrid.org/ies.mariadezayas.majadahonda/index.php/reservas-aula-restaurante-zayas/'}]}\n"
     ]
    },
    {
     "data": {
      "text/markdown": [
       "Vale, aquí tienes un borrador de folleto humorístico sobre el IES María de Zayas y Sotomayor.\n",
       "\n",
       "## ¿Cansado de la teoría? ¡Ven a IES María de Zayas y Sotomayor!\n",
       "\n",
       "**(Porque aprender a hacer pan sabe mejor que aprender sobre el pan)**\n",
       "\n",
       "[Imagen de un estudiante sonriendo mientras hornea algo delicioso]\n",
       "\n",
       "**¿Quiénes somos?**\n",
       "\n",
       "Somos el IES María de Zayas y Sotomayor, un centro público de Formación Profesional que te prepara para el mundo real... ¡y con sabor!  Olvida las clases aburridas y los libros polvorientos. Aquí aprenderás haciendo, creando y, sí, ¡probando!\n",
       "\n",
       "**¿Qué ofrecemos?**\n",
       "\n",
       "*   **FP Grado Superior, Medio y Básico:** Desde Desarrollo de Aplicaciones Multiplataforma y Web hasta Cocina y Restauración (¡con restaurante propio!). ¡Tenemos algo para ti!\n",
       "*   **Aula de Emprendimiento:** ¿Tienes una idea millonaria? ¡Aquí te ayudamos a hacerla realidad! (Y si no, al menos aprenderás a hacer un buen café para vender).\n",
       "*   **Aula de Gestión Turística:** Aprende a guiar turistas... ¡o a ser el turista que todos envidian!\n",
       "*   **Proyecto Biodigestor del Zayas:** Convertimos residuos en energía... ¡y en chistes sobre ecología!\n",
       "*   **Bolsa de Empleo:** ¡Encuentra trabajo antes de que te dé tiempo a echar de menos las clases!\n",
       "*   **Erasmus:** ¡Vete de tapas por Europa mientras estudias!\n",
       "\n",
       "**¿Por qué elegirnos?**\n",
       "\n",
       "*   **Restaurante y Tienda:** Porque aprender con el estómago lleno es mucho más divertido.\n",
       "*   **Aulas Especializadas:** Tenemos aulas para todo... ¡hasta para escapar de la rutina!\n",
       "*   **Secretaría:** Resolveremos tus dudas... ¡o al menos lo intentaremos con una sonrisa!\n",
       "*   **Eventos:** ¡Jornada de puertas abiertas el 15 de Mayo! ¡Ven a vernos y te prometemos que no te aburrirás!\n",
       "\n",
       "**¿Quieres más info?**\n",
       "\n",
       "*   Visita nuestra web: (la dirección web de IES María de Zayas y Sotomayor)\n",
       "*   ¡Ven a conocernos en persona! (Pero trae hambre, por si acaso).\n",
       "\n",
       "[Pequeña imagen divertida: un emoji guiñando un ojo con un gorro de chef.]\n",
       "\n",
       "**IES María de Zayas y Sotomayor: Donde el aprendizaje es una aventura (y la comida está rica).**\n"
      ],
      "text/plain": [
       "<IPython.core.display.Markdown object>"
      ]
     },
     "metadata": {},
     "output_type": "display_data"
    }
   ],
   "source": [
    "create_brochure(\"IES María de Zayas y Sotomayor\", url_zayas)"
   ]
  },
  {
   "cell_type": "markdown",
   "id": "d4bbca87",
   "metadata": {},
   "source": [
    "Podemos generar la salida en tiempo real con el parámetro `stream = True`:"
   ]
  },
  {
   "cell_type": "code",
   "execution_count": 71,
   "id": "59d90cff",
   "metadata": {},
   "outputs": [],
   "source": [
    "def stream_brochure(company_name, url):\n",
    "    stream = openai.chat.completions.create(\n",
    "        model=MODEL,\n",
    "        messages=[\n",
    "            {\"role\": \"system\", \"content\": system_prompt},\n",
    "            {\"role\": \"user\", \"content\": get_brochure_user_prompt(company_name, url)}\n",
    "          ],\n",
    "        stream=True\n",
    "    )\n",
    "    \n",
    "    response = \"\"\n",
    "    display_handle = display(Markdown(\"\"), display_id=True)\n",
    "    for chunk in stream:\n",
    "        response += chunk.choices[0].delta.content or ''\n",
    "        response = response.replace(\"```\",\"\").replace(\"markdown\", \"\")\n",
    "        update_display(Markdown(response), display_id=display_handle.display_id)"
   ]
  },
  {
   "cell_type": "code",
   "execution_count": 72,
   "id": "5f7b821c",
   "metadata": {},
   "outputs": [
    {
     "name": "stdout",
     "output_type": "stream",
     "text": [
      "Found links: {'links': [{'type': 'página acerca de', 'url': 'https://site.educa.madrid.org/ies.mariadezayas.majadahonda/index.php/el-centro/quienes-somos/'}, {'type': 'información del centro', 'url': 'https://site.educa.madrid.org/ies.mariadezayas.majadahonda/index.php/informacion-centro/'}, {'type': 'oferta educativa', 'url': 'https://site.educa.madrid.org/ies.mariadezayas.majadahonda/index.php/oferta/'}, {'type': 'FP Grado Superior', 'url': 'https://site.educa.madrid.org/ies.mariadezayas.majadahonda/index.php/oferta/fp-grado-superior/'}, {'type': 'FP Grado Medio', 'url': 'https://site.educa.madrid.org/ies.mariadezayas.majadahonda/index.php/oferta/fp-grado-medio/'}, {'type': 'FP Basica', 'url': 'https://site.educa.madrid.org/ies.mariadezayas.majadahonda/index.php/oferta/fp-basica/'}, {'type': 'Órganos de Gestión', 'url': 'https://site.educa.madrid.org/ies.mariadezayas.majadahonda/index.php/el-centro/organos-de-gestion/'}, {'type': 'Dónde encontrarnos', 'url': 'https://site.educa.madrid.org/ies.mariadezayas.majadahonda/index.php/el-centro/donde-encontrarnos/'}, {'type': 'Contacto', 'url': 'https://site.educa.madrid.org/ies.mariadezayas.majadahonda/index.php/el-centro/contacto/'}, {'type': 'Documentos del centro', 'url': 'https://site.educa.madrid.org/ies.mariadezayas.majadahonda/index.php/el-centro/documentos-del-centro/'}, {'type': 'Profesorado', 'url': 'https://site.educa.madrid.org/ies.mariadezayas.majadahonda/index.php/el-centro/profesorado/'}, {'type': 'Aula de emprendimiento', 'url': 'https://site.educa.madrid.org/ies.mariadezayas.majadahonda/index.php/el-centro/aula-de-emprendimiento/'}, {'type': 'Proyecto Biodigestor del Zayas', 'url': 'https://site.educa.madrid.org/ies.mariadezayas.majadahonda/index.php/proyecto-biodigestor-del-zayas/'}, {'type': 'Aula de Gestión Turística', 'url': 'https://site.educa.madrid.org/ies.mariadezayas.majadahonda/index.php/el-centro/aula-de-gestion-turistica/'}, {'type': 'Restaurantes Zayas y Tienda', 'url': 'https://site.educa.madrid.org/ies.mariadezayas.majadahonda/index.php/el-centro/restaurantes-zayas-y-tienda/'}, {'type': 'Secretaría', 'url': 'https://site.educa.madrid.org/ies.mariadezayas.majadahonda/index.php/secretaria/'}, {'type': 'Horarios Secretaría', 'url': 'https://site.educa.madrid.org/ies.mariadezayas.majadahonda/index.php/secretaria/horarios-secretaria/'}, {'type': 'Matriculaciones', 'url': 'https://site.educa.madrid.org/ies.mariadezayas.majadahonda/index.php/matriculaciones/'}, {'type': 'Modelos de Solicitudes', 'url': 'https://site.educa.madrid.org/ies.mariadezayas.majadahonda/index.php/secretaria/modelos-de-solicitudes/'}, {'type': 'FAQ', 'url': 'https://site.educa.madrid.org/ies.mariadezayas.majadahonda/index.php/secretaria/faq/'}, {'type': 'Alumnado', 'url': 'https://site.educa.madrid.org/ies.mariadezayas.majadahonda/index.php/alumnado/'}, {'type': 'Novedades', 'url': 'https://site.educa.madrid.org/ies.mariadezayas.majadahonda/index.php/category/novedades/'}, {'type': 'Calendario Escolar', 'url': 'https://site.educa.madrid.org/ies.mariadezayas.majadahonda/index.php/alumnado/calendario-escolar/'}, {'type': 'Calendario Pruebas', 'url': 'https://site.educa.madrid.org/ies.mariadezayas.majadahonda/index.php/alumnado/calendario-pruebas/'}, {'type': 'Horarios de Aulas', 'url': 'https://site.educa.madrid.org/ies.mariadezayas.majadahonda/index.php/alumnado/horarios-de-aulas/'}, {'type': 'Uniforme y Utillaje', 'url': 'https://site.educa.madrid.org/ies.mariadezayas.majadahonda/index.php/alumnado/uniforme-y-utillaje/'}, {'type': 'Bolsa de Empleo', 'url': 'https://site.educa.madrid.org/ies.mariadezayas.majadahonda/index.php/alumnado/bolsa-de-empleo/'}, {'type': 'Erasmus', 'url': 'https://site.educa.madrid.org/ies.mariadezayas.majadahonda/index.php/erasmus/'}, {'type': 'FP Dual', 'url': 'https://site.educa.madrid.org/ies.mariadezayas.majadahonda/index.php/fpdual/'}, {'type': 'Reservas Aula Restaurante Zayas', 'url': 'https://site.educa.madrid.org/ies.mariadezayas.majadahonda/index.php/reservas-aula-restaurante-zayas/'}]}\n"
     ]
    },
    {
     "data": {
      "text/markdown": [
       "Vale, aquí tienes un borrador del folleto humorístico del IES María de Zayas y Sotomayor.\n",
       "\n",
       "# ¡IES María de Zayas y Sotomayor!\n",
       "\n",
       "## ¿Quieres ser más listo que un libro de texto? ¡Nosotros te ayudamos!\n",
       "\n",
       "**(Porque seamos sinceros, algunos libros de texto dan ganas de echarse una siesta... ¡y no precisamente reparadora!)**\n",
       "\n",
       "[Imagen divertida de alguien durmiendo sobre un libro]\n",
       "\n",
       "### ¿Quiénes somos?\n",
       "\n",
       "Somos el IES María de Zayas y Sotomayor, ¡tu centro público de Formación Profesional! Y no, no nos hemos inventado el nombre con un generador aleatorio, ¡tenemos historia! (aunque no te vamos a aburrir con ella ahora mismo).\n",
       "\n",
       "### ¿Qué ofrecemos?\n",
       "\n",
       "Más ciclos formativos que excusas tienes para no ir al gimnasio. Desde Marketing y Publicidad hasta Cocina y Restauración, pasando por Desarrollo de Aplicaciones. ¡Tenemos algo para ti, a menos que quieras ser astronauta! (Para eso, mejor la NASA).\n",
       "\n",
       "*   **FP Grado Superior:** Para los ambiciosos que quieren llegar a lo más alto.\n",
       "*   **FP Grado Medio:** El punto intermedio perfecto para los que quieren aprender un oficio sin complicaciones.\n",
       "*   **FP Grado Básico:** ¡El trampolín ideal para empezar con buen pie!\n",
       "\n",
       "### ¡Nuestras Aulas son la leche!\n",
       "\n",
       "¿Cansado de clases aburridas? ¡Nuestras aulas son como sacadas de una película! Tenemos:\n",
       "\n",
       "*   **Aula de Emprendimiento:** Para que montes tu propio negocio y te hagas rico. ¡O al menos lo intentes!\n",
       "*   **Aula de Gestión Turística:** ¡Conviértete en el próximo Indiana Jones del turismo! (Sin látigo, por favor).\n",
       "*   **Restaurante y Tienda:** ¡Aquí se cocina el éxito! (Literalmente).\n",
       "*   **Y muchas más...** ¡Ven a descubrirlas! (¡Tenemos más aulas que pelos tiene tu profe de mates!)\n",
       "\n",
       "### ¿Buscas empleo? ¡Tenemos una Bolsa de Empleo!\n",
       "\n",
       "Olvida buscar trabajo en los portales de empleo que te hacen sentir viejo. ¡En nuestra bolsa de empleo encontrarás oportunidades más frescas que un aguacate en su punto!\n",
       "\n",
       "### ¿Erasmus? ¡Sí, por favor!\n",
       "\n",
       "¿Quieres irte de fiesta por Europa mientras aprendes algo? ¡Con nuestro programa Erasmus es posible! (No nos hacemos responsables de resacas épicas).\n",
       "\n",
       "### ¿Y la cafetería? ¡Importantísima!\n",
       "\n",
       "¡Atención, amantes del café! Próximamente licitación de la cafetería del centro. ¡Si eres el próximo Starbucks, este es tu momento! (Si haces buen café, ¡ya tienes nuestro voto!).\n",
       "\n",
       "### ¿Te lo estás pensando? ¡No lo dudes más!\n",
       "\n",
       "Ven a nuestras jornadas de puertas abiertas el 15 de mayo. ¡Habrá tres turnos!\n",
       "\n",
       "*   **Primer turno:** 10:00.\n",
       "*   **Segundo turno:** 12:30.\n",
       "*   **Tercer turno:** 17:00.\n",
       "\n",
       "¡Te esperamos con los brazos abiertos y una sonrisa! (Y si traes galletas, ¡serás nuestro nuevo mejor amigo!)\n",
       "\n",
       "### ¡IES María de Zayas y Sotomayor! ¡Aprender nunca fue tan divertido!\n",
       "\n",
       "**(Bueno, quizás sí, pero no te vamos a mentir: ¡lo intentamos!)**\n",
       "\n",
       "[Información de contacto del IES: dirección, teléfono, página web]\n"
      ],
      "text/plain": [
       "<IPython.core.display.Markdown object>"
      ]
     },
     "metadata": {},
     "output_type": "display_data"
    }
   ],
   "source": [
    "stream_brochure(\"IES María de Zayas y Sotomayor\", url_zayas)"
   ]
  }
 ],
 "metadata": {
  "kernelspec": {
   "display_name": ".venv",
   "language": "python",
   "name": "python3"
  },
  "language_info": {
   "codemirror_mode": {
    "name": "ipython",
    "version": 3
   },
   "file_extension": ".py",
   "mimetype": "text/x-python",
   "name": "python",
   "nbconvert_exporter": "python",
   "pygments_lexer": "ipython3",
   "version": "3.12.10"
  }
 },
 "nbformat": 4,
 "nbformat_minor": 5
}
