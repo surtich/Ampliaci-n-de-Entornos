{
 "cells": [
  {
   "cell_type": "markdown",
   "id": "075d32bc",
   "metadata": {},
   "source": [
    "### CrewAI\n",
    "\n",
    "CrewAI es un framework de código abierto basado en Python, diseñado para orquestar y gestionar equipos colaborativos de agentes de IA autónomos. Permite a los desarrolladores construir e implementar flujos de trabajo automatizados donde múltiples agentes de IA, cada uno con roles, metas e historias definidas, trabajan juntos como una \"crew\" (equipo) para lograr tareas complejas.\n",
    "\n",
    "Se compone de tres partes principales que ofrecen distintas funcionalidades y se adaptan a diversos usos:\n",
    "\n",
    "* CrewAI Open Source Framework (Framework de Código Abierto)\n",
    "\n",
    "Es el **corazón de CrewAI**, una librería de Python de código abierto. Permite a los desarrolladores **construir, definir y orquestar equipos de agentes de IA de forma programática**. Es la base sobre la que se construyen las soluciones más complejas.\n",
    "\n",
    "* CrewAI Studio\n",
    "\n",
    "Esta herramienta cuenta con una **interfaz gráfica de usuario (GUI) \"no-code/low-code\"** que simplifica la creación y gestión de \"Crews\" (equipos de agentes de IA) sin necesidad de escribir código. Su objetivo es democratizar el acceso a la construcción de agentes de IA.\n",
    "\n",
    "* CrewAI Enterprise\n",
    "\n",
    "Esta es una **plataforma de nivel empresarial** que amplía las capacidades del framework de código abierto con características diseñadas para el **despliegue en producción, la colaboración, la escalabilidad y la seguridad**.\n",
    "\n",
    "En esta práctica nos centraremos en el **CrewAI Open Source Framework**. Este `framework` se puede usar con dos sabores:\n",
    "\n",
    "* CrewAI Crews\n",
    "\n",
    "Una \"Crew\" en CrewAI se refiere a un **equipo colaborativo de agentes de IA autónomos** que trabajan juntos para lograr un objetivo común. Cada agente tiene un rol, una meta y una \"backstory\" (historia de fondo) definidos, lo que les permite especializarse y contribuir de manera única al equipo. La esencia de una Crew es la **inteligencia colaborativa y la autonomía**.\n",
    "\n",
    "* CrewAI Flows\n",
    "\n",
    "Los \"Flows\" en CrewAI son **flujos de trabajo estructurados y controlados por eventos** que proporcionan un **control granular y preciso** sobre la ejecución de tareas y la interacción entre diferentes componentes de tu sistema de IA. Mientras las \"Crews\" se centran en la autonomía de los agentes, los \"Flows\" se enfocan en la orquestación y el control explícito del proceso.\n",
    "\n",
    "**Diferencia Fundamental**:\n",
    "\n",
    "* Las **Crews** son excelentes para la **resolución autónoma de problemas y la colaboración creativa** donde los agentes tienen libertad para razonar y decidir cómo alcanzar un objetivo. Son los \"cerebros\" que trabajan juntos.\n",
    "* Los **Flows** proporcionan **automatización estructurada y control preciso** sobre la ejecución de tareas, la gestión de estados y la lógica condicional, ideal para escenarios donde la secuencia y la fiabilidad son críticas. Son los \"planos\" o la \"partitura\" que dirige la ejecución.\n",
    "\n",
    "En esta práctica nos centraremos en CrewAI Crews."
   ]
  },
  {
   "cell_type": "markdown",
   "id": "698d6cf2",
   "metadata": {},
   "source": [
    "### Conceptos clave\n",
    "\n",
    "En CrewAI, hay varios conceptos clave que son fundamentales:\n",
    "\n",
    "* **Agent** en CrewAI es una entidad de IA **autónoma y especializada** que forma parte de un equipo. Un agente tiene un rol (`role`), un objetivo (`goal`), una historia de fondo (`backstory`), una memoria (`memory`) y un conjunto de herramientas (`tools`) que le permiten interactuar con el mundo exterior.\n",
    "* **Task** es una **unidad de trabajo específica y con un objetivo claro** que se asigna a uno o más **Agentes** dentro de una **Crew**. Las tareas  tienen una descripción (`description`), un agente asignado (`agent`), expectativas de salida (`expected_output`) y un contexto (`context`).\n",
    "\n",
    "* **Crew** es el **equipo completo de Agentes** que trabajan de manera colaborativa para lograr un **objetivo general y complejo** mediante la ejecución de una serie de **Tareas**. Es el contenedor que une a los agentes y las tareas, orquestando su interacción para alcanzar un fin común. Una `crew` puede ejecutar las tareas de manera secuencial o jerárquica. En la forma jerárquica dependen de un agente \"manager\" que delega y supervisa las tareas, dando más autonomía en la ejecución.     \n",
    "\n",
    "---\n",
    "\n",
    "Vemos que CrewAI es un `framework` de más alto nivel y más prescriptivo que OpenAI SDK Agents. Por otro lado, la definición de **Agents** y **Tasks** se puede hacer en código o en un fichero YAML. Para definir una **Crew** se usa el fichero `crew.py`. Por último, CrewAI exige una estructura de directorios particular no adecuada para ejecutarse en Jupyter. Por ello, en esta práctica usaremos ficheros `.py` enver de ficheros `.ipynb`.\n",
    "\n",
    "Los proyectos de CrewAI son proyectos `uv`. Para instalar `crewAI`:\n",
    "\n",
    "```bash\n",
    "uv tool install crewai\n",
    "```\n",
    "\n",
    "Para comprobar que CrewAI se ha instalado correctamente, ejecutar:\n",
    "\n",
    "```bash\n",
    "uv tool list\n",
    "```\n",
    "\n",
    "Para ejecutar un proyecto CrewAI con el sabor `crew` se debe ejecutar en un terminal::\n",
    "\n",
    "```bash\n",
    "crewai create crew nombre-de-proyecto\n",
    "```\n",
    "\n",
    "\n",
    "Para ejecutar un proyecto, hay que ejecutar:\n",
    "\n",
    "```bash\n",
    "crewai run\n",
    "```\n",
    "\n"
   ]
  },
  {
   "cell_type": "markdown",
   "id": "f20b8dd3",
   "metadata": {},
   "source": [
    "### Proyecto `debate`\n",
    "\n",
    "Comenzamos ejecutando en el directorio donde queremos crear el proyecto CrewAI:\n",
    "\n",
    "```bash\n",
    "crewai create crew debate\n",
    "```\n",
    "\n",
    "Contestamos a las preguntas que nos hace el instalador.\n",
    "\n",
    "En este proyecto hay dos agentes que se configuran en el fichero `agents.yaml`. Para cada agente se define su rol, objetivo e historia de fondo. Observe que hay una variable `motion` que se puede insertar en la plantilla de la definición de cada una de las características de los agentes. En este caso, los agentes son:\n",
    "\n",
    "* **Debater**: Un agente que argumenta a favor o en contra de una posición.\n",
    "* **Judge**: Un agente que evalúa los argumentos presentados por el Debater y decide quién ha ganado el debate.\n",
    "\n",
    "En el fichero `tasks.yaml` se definen las tareas que deben realizar los agentes. Cada tarea tiene una descripción, un agente asignado, expectativas de salida y un fichero de salida. En este caso, las tareas son:\n",
    "\n",
    "* **propose**: El Debater propone un argumento a favor de una posición.\n",
    "* **opose**: El Debater propone un argumento en contra de la posición.\n",
    "* **decide**: El Judge evalúa los argumentos y decide quién ha ganado el debate.\n",
    "\n",
    "En el fichero `crew.py` se define la Crew que orquesta a los agentes y las tareas. En este fichero se ha indicado que las tareas se ejecutarán de manera secuencial, es decir, el Debater primero propone un argumento, luego se opone y finalmente el Judge decide quién ha ganado el debate.\n",
    "\n",
    "Por último, en el fichero `main.py` se crea una instancia de la Crew y se ejecuta, pasándole la variable `motion` para que se sustituya en las plantillas de los agentes y de las tareas.\n",
    "\n",
    "Para ejecutar. Nos situamos en el directorio del proyecto `debate` y ejecutamos:\n",
    "\n",
    "```bash\n",
    "crewai run\n",
    "```"
   ]
  },
  {
   "cell_type": "markdown",
   "id": "5386baa8",
   "metadata": {},
   "source": [
    "### Proyecto `financial_researcher`\n",
    "\n",
    "En este proyecto vamos a aprender a utilizar `tools` y `context` con CrewAI. Vamos a tener que hacer búsquedas con Google. Podríamos hacer lo mismo que en la lección anterior con la API de GenAI, pero en este caso vamos a usar el servicio [Serper](https://serper.dev/), que ofrece 2.500 búsquedas gratis.\n",
    "\n",
    "El proyecto en sí es muy similar al anterior. Vamos a tener un agente que busca información sobre una empresa y otro agente que evalúa la información encontrada y prepara un informe final. Al definir la tarea de análisis (`analysis_task`), se le pasa como contexto la tarea `research_task`. Esto es una indicación que el resultado de la tarea de análisis debe incluir la información obtenida en la tarea de búsqueda. Por otra parte, en el fichero `crew.py`  se indica que el agente debe usar la `tool` `serper`. Esto permite que la búsqueda de la empresa pueda incluir información actualizada."
   ]
  },
  {
   "cell_type": "markdown",
   "id": "4653ca43",
   "metadata": {},
   "source": [
    "### Proyecto `stock_picker`\n",
    "\n",
    "En este proyecto vamos a aprender a usar `Structured Output`, `Custom Tools`, `Hierarchical Process` y `Memory`. El fichero más interesante es `crew.py`. La diferencia de este fichero con los proyectos anteriores son:\n",
    "\n",
    "* Se define una `Structured Output` las tareas `find_trending_companies` y `research_trending_companies`. \n",
    "* El agente `manager` no se crea como atributo de la clase, sino como variable local del método `crew` ya que no sólo lo usamos para indicar que es el manager de la Crew. Este agente tiene el atributo `allow_delegation=True` que permite que delegue tareas entre otros agentes.\n",
    "* La función `Crew` se llama con `process=Process.hierarchical` que indica que las tareas se ejecutan de manera jerárquica. Esto significa que el agente `manager` delega las tareas a otros agentes y supervisa su ejecución. En los procesos jerárquicos damos libertad en el orden de ejecución de las tareas. El agente `manager` indica a cada agente qué tarea debe ejecutar. Incluso puede ocurrir que una tarea sea ejecute repetidas veces en distintos momentos del proceso.\n",
    "* En el fichero `tools/send_email_tool.py` se define una `Custom Tool` que permite al agente enviar un correo electrónico. Hay que implementar el método `_run` que recibirá los parámetros que se hayan definido en el esquema `pydantic` del fichero (`class SendEmail(BaseModel)`). La `tool` se importa y se asigna al agente `stock_picker`.\n",
    "* Finalmente se define el uso de memoria (los tipos de memoria se explican en el siguiente apartado).\n"
   ]
  },
  {
   "cell_type": "markdown",
   "id": "dd86f374",
   "metadata": {},
   "source": [
    "### Tipos de memoria en CrewAI\n",
    "\n",
    "La memoria permite que el `prompt` disponga de más información relevante. CrewAI soporta varios tipos de memoria:\n",
    "\n",
    "* **Short-term memory**: En una memoria temporal de las interacciones recientes y salidas producidas por RAG. Permite a los agentes acceder a información relevante durante la ejecución actual. Está basada en `embeddings`.\n",
    "* **Long-term memory**: En una memoria persistente que almacena información a largo plazo. Está almacenada en bases de datos que ejecutan SQL.\n",
    "* **Entity memory**: En una memoria que almacena información sobre entidades específicas, como personas, lugares o cosas encontradas durante la ejecución de `tasks`. Permite una mejor comprensión de las relaciones. Usa RAG basado en `embeddings`.\n",
    "* **Context memory**: Permite usar las tres anteriores para pasarlas como contexto a una tarea.\n",
    "* **User memory**: Permite almacenar información específica del usuario, como preferencias o historial de interacciones. Es útil para personalizar la experiencia del usuario y se puede incluir en `prompts`."
   ]
  },
  {
   "cell_type": "markdown",
   "id": "a99b31ff",
   "metadata": {},
   "source": [
    "### Proyecto `coder`\n",
    "\n",
    "En este proyecto vamos a crear un agente que será capaz de crear código Python, ejecutarlo en un contenedor de Docker e interpretar el resultado. Aquí lo único a destacar es que es necesario que `Docker Desktop` esté instalado y ejecutándose en el equipo. En el fichero `crew.py`  se configura el agente con esta opción: `allow_code_execution=True`."
   ]
  },
  {
   "cell_type": "markdown",
   "id": "1a3d29b7",
   "metadata": {},
   "source": [
    "### Proyecto `engineering team`\n",
    "\n",
    "En este proyecto vamos a crear un equipo de ingenieros de desarrollo que trabajan juntos para resolver un problema complejo. Habrá un ingeniero líder, uno `backend`, otro `frontend` y  otro para realizar pruebas."
   ]
  }
 ],
 "metadata": {
  "kernelspec": {
   "display_name": ".venv",
   "language": "python",
   "name": "python3"
  },
  "language_info": {
   "name": "python",
   "version": "3.12.10"
  }
 },
 "nbformat": 4,
 "nbformat_minor": 5
}
