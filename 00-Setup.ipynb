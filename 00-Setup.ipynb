{
 "cells": [
  {
   "cell_type": "markdown",
   "id": "0cd383c9",
   "metadata": {},
   "source": [
    "### Instalación de Pyenv\n",
    "\n",
    "* Instala [pyenv](https://github.com/pyenv/pyenv) y sigue las instrucciones de configuración [Set up your shell environment for Pyenv](https://github.com/pyenv/pyenv?tab=readme-ov-file#b-set-up-your-shell-environment-for-pyenv).\n",
    "* Después, [reinicia tu terminal](https://github.com/pyenv/pyenv?tab=readme-ov-file#c-restart-your-shell).\n",
    "* Finalmente, instala las [dependencias de Python](https://github.com/pyenv/pyenv?tab=readme-ov-file#d-install-python-build-dependencies).\n"
   ]
  },
  {
   "cell_type": "markdown",
   "id": "e57d3f45",
   "metadata": {},
   "source": [
    "### Instalación de una versión de Python y de las dependencias\n",
    "\n",
    "Instala la versión de Python 3.12.10:\n",
    "\n",
    "```bash\n",
    "pyenv install 3.12.10\n",
    "```\n",
    "\n",
    "En Windows, instala [pyenv-win](https://github.com/pyenv-win/pyenv-win)\n",
    "\n",
    "Crea un entorno virtual llamado `.venv` con la versión de Python 3.12.10:\n",
    "\n",
    "```bash\n",
    "~/.pyenv/versions/3.12.10/bin/python -m venv .venv\n",
    "```\n",
    "\n",
    "En Windows:\n",
    "    \n",
    "```bash \n",
    " ~\\.pyenv\\pyenv-win\\versions\\3.12.10\\python3.12.exe -m venv .venv\n",
    "```\n",
    "\n",
    "Activa el entorno virtual:\n",
    "\n",
    "```bash\n",
    "source .venv/bin/activate\n",
    "```\n",
    "En Windows:\n",
    "\n",
    "```bash\n",
    ".venv\\Scripts\\activate\n",
    "```\n",
    "\n",
    "Instala las dependencias del proyecto:\n",
    "\n",
    "```bash\n",
    "pip install -r requirements.txt\n",
    "```\n",
    "\n"
   ]
  },
  {
   "cell_type": "markdown",
   "id": "5fbca128",
   "metadata": {},
   "source": [
    "### Arranque del servidor de Jupyter\n",
    "\n",
    "Abre un terminal y asegúrate de que el entorno virtual está activado. Después, ejecuta unos de los siguientes comandos para iniciar el servidor de Jupyter:\n",
    "\n",
    "```bash\n",
    "jupyter notebook # para un entorno simplificado o\n",
    "jupyter lab # para un entorno completo\n",
    "```"
   ]
  },
  {
   "cell_type": "markdown",
   "id": "70386589",
   "metadata": {},
   "source": [
    "### Conexión al servidor de Jupyter en VS Code\n",
    "\n",
    "Para poder ejecutar celdas de es necesario que el servidor de Jupyter esté corriendo. Copia la URL que aparece en la terminal y pulsa el botón \"Seleccionar el kernel\" en la parte superior derecha de la ventana de VS Code. Después, pulsa \"Servidor de Jupyter existente...\". Poner un nombre identificativo al servidor, y después seleccionar, \"⭐ Python 3 (ipykernel)\".\n"
   ]
  },
  {
   "cell_type": "markdown",
   "id": "55f12839",
   "metadata": {},
   "source": [
    "### Probar un código de Python\n",
    "\n",
    "Ejecuta la siguiente celda:"
   ]
  },
  {
   "cell_type": "code",
   "execution_count": 2,
   "id": "a9935431",
   "metadata": {},
   "outputs": [
    {
     "data": {
      "text/plain": [
       "4"
      ]
     },
     "execution_count": 2,
     "metadata": {},
     "output_type": "execute_result"
    }
   ],
   "source": [
    "2+2"
   ]
  }
 ],
 "metadata": {
  "kernelspec": {
   "display_name": ".venv",
   "language": "python",
   "name": "python3"
  },
  "language_info": {
   "name": "python",
   "version": "3.12.10"
  }
 },
 "nbformat": 4,
 "nbformat_minor": 5
}
