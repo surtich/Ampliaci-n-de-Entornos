{
 "cells": [
  {
   "cell_type": "markdown",
   "id": "bea26084",
   "metadata": {},
   "source": [
    "### Uso de Tools en Gemini\n",
    "\n",
    "En esta práctica vamos a aprender a usar directamente la API de Gemini."
   ]
  },
  {
   "cell_type": "code",
   "execution_count": 2,
   "id": "d0cb6948",
   "metadata": {},
   "outputs": [
    {
     "name": "stdout",
     "output_type": "stream",
     "text": [
      "¡Estamos en marcha!\n"
     ]
    }
   ],
   "source": [
    "# Importar las librerías necesarias\n",
    "import os\n",
    "from typing import Any, Dict\n",
    "\n",
    "import google.generativeai as genai\n",
    "import requests\n",
    "from dotenv import load_dotenv\n",
    "\n",
    "print(\"¡Estamos en marcha!\")"
   ]
  },
  {
   "cell_type": "code",
   "execution_count": 3,
   "id": "378dc057",
   "metadata": {},
   "outputs": [
    {
     "name": "stdout",
     "output_type": "stream",
     "text": [
      "Modelo Gemini cargado correctamente: models/gemini-2.0-flash\n"
     ]
    }
   ],
   "source": [
    "# Cargar las variables de entorno\n",
    "load_dotenv()\n",
    "api_key = os.getenv(\"GOOGLE_API_KEY\")\n",
    "if not api_key or api_key.startswith(\"ADD YOUR\"):\n",
    "    raise ValueError(\"GOOGLE_API_KEY no encontrada en el archivo .env\")\n",
    "\n",
    "# Configurar Gemini\n",
    "genai.configure(api_key=api_key)\n",
    "model = genai.GenerativeModel(\"gemini-2.0-flash\")\n",
    "\n",
    "print(f\"Modelo Gemini cargado correctamente: {model.model_name}\")"
   ]
  },
  {
   "cell_type": "markdown",
   "id": "dbad93c7",
   "metadata": {},
   "source": [
    "Comprobamos que no podemos conocer el precio de cotización actual de Bitcoin."
   ]
  },
  {
   "cell_type": "code",
   "execution_count": 7,
   "id": "1dfe59c0",
   "metadata": {},
   "outputs": [
    {
     "name": "stdout",
     "output_type": "stream",
     "text": [
      "El precio de Bitcoin cambia constantemente. Para obtener el precio actual más preciso, te recomiendo consultar alguna de las siguientes fuentes:\n",
      "\n",
      "*   **CoinMarketCap:** [https://coinmarketcap.com/currencies/bitcoin/](https://coinmarketcap.com/currencies/bitcoin/)\n",
      "*   **Coinbase:** [https://www.coinbase.com/price/bitcoin](https://www.coinbase.com/price/bitcoin)\n",
      "*   **Binance:** [https://www.binance.com/en/price/bitcoin](https://www.binance.com/en/price/bitcoin)\n",
      "\n",
      "Estas páginas web te mostrarán el precio en tiempo real, así como gráficos de su evolución y otra información relevante.\n",
      "\n"
     ]
    }
   ],
   "source": [
    "# Definir el mensaje de consulta\n",
    "PROMPT = \"¿Cuál es el precio actual de Bitcoin?\"\n",
    "chat = model.start_chat()\n",
    "response = chat.send_message(PROMPT)\n",
    "print(response.text)"
   ]
  },
  {
   "cell_type": "markdown",
   "id": "7c4ece81",
   "metadata": {},
   "source": [
    "Podemos ver la estructura de la respuesta que nos devuelve Gemini."
   ]
  },
  {
   "cell_type": "code",
   "execution_count": 8,
   "id": "c0d16676",
   "metadata": {},
   "outputs": [
    {
     "name": "stdout",
     "output_type": "stream",
     "text": [
      "response:\n",
      "GenerateContentResponse(\n",
      "    done=True,\n",
      "    iterator=None,\n",
      "    result=protos.GenerateContentResponse({\n",
      "      \"candidates\": [\n",
      "        {\n",
      "          \"content\": {\n",
      "            \"parts\": [\n",
      "              {\n",
      "                \"text\": \"El precio de Bitcoin cambia constantemente. Para obtener el precio actual m\\u00e1s preciso, te recomiendo consultar alguna de las siguientes fuentes:\\n\\n*   **CoinMarketCap:** [https://coinmarketcap.com/currencies/bitcoin/](https://coinmarketcap.com/currencies/bitcoin/)\\n*   **Coinbase:** [https://www.coinbase.com/price/bitcoin](https://www.coinbase.com/price/bitcoin)\\n*   **Binance:** [https://www.binance.com/en/price/bitcoin](https://www.binance.com/en/price/bitcoin)\\n\\nEstas p\\u00e1ginas web te mostrar\\u00e1n el precio en tiempo real, as\\u00ed como gr\\u00e1ficos de su evoluci\\u00f3n y otra informaci\\u00f3n relevante.\\n\"\n",
      "              }\n",
      "            ],\n",
      "            \"role\": \"model\"\n",
      "          },\n",
      "          \"finish_reason\": \"STOP\",\n",
      "          \"avg_logprobs\": -0.11853671853059257\n",
      "        }\n",
      "      ],\n",
      "      \"usage_metadata\": {\n",
      "        \"prompt_token_count\": 9,\n",
      "        \"candidates_token_count\": 153,\n",
      "        \"total_token_count\": 162\n",
      "      },\n",
      "      \"model_version\": \"gemini-2.0-flash\"\n",
      "    }),\n",
      ")\n"
     ]
    }
   ],
   "source": [
    "print(response)"
   ]
  },
  {
   "cell_type": "markdown",
   "id": "08651795",
   "metadata": {},
   "source": [
    "Usamos una de las recomensaciones de Gemini para obtener el precio de cotización actual de Bitcoin."
   ]
  },
  {
   "cell_type": "code",
   "execution_count": 5,
   "id": "1a5795ae",
   "metadata": {},
   "outputs": [
    {
     "name": "stdout",
     "output_type": "stream",
     "text": [
      "{'symbol': 'BTCUSDT', 'price': '109177.23000000'}\n"
     ]
    }
   ],
   "source": [
    "url = f\"https://api.binance.com/api/v3/ticker/price?symbol=BTCUSDT\"\n",
    "response = requests.get(url)\n",
    "data = response.json()\n",
    "print(data)"
   ]
  },
  {
   "cell_type": "markdown",
   "id": "4de58bfc",
   "metadata": {},
   "source": [
    "Creamos una función que nos devuelve el precio de cotización actual de Bitcoin."
   ]
  },
  {
   "cell_type": "code",
   "execution_count": null,
   "id": "38f9b271",
   "metadata": {},
   "outputs": [],
   "source": [
    "# Definir la función\n",
    "def get_crypto_price(symbol: str) -> float:\n",
    "    \"\"\"\n",
    "    Obtener el precio actual de una criptomoneda desde la API de Binance\n",
    "    \"\"\"\n",
    "    url = f\"https://api.binance.com/api/v3/ticker/price?symbol={symbol}\"\n",
    "    response = requests.get(url)\n",
    "    data = response.json()\n",
    "    return float(data[\"price\"])"
   ]
  },
  {
   "cell_type": "code",
   "execution_count": 10,
   "id": "fbc0c094",
   "metadata": {},
   "outputs": [
    {
     "name": "stdout",
     "output_type": "stream",
     "text": [
      "Precio de BTC en USDT: 109303.19\n"
     ]
    }
   ],
   "source": [
    "precio = get_crypto_price(\"BTCUSDT\")\n",
    "print(f\"Precio de BTC en USDT: {precio}\")"
   ]
  },
  {
   "cell_type": "markdown",
   "id": "6acf687f",
   "metadata": {},
   "source": [
    "Creamos una `tool` que llame a la función anterior. Los comentarios son importantes ya que no podemos suponer que Gemini conoce la API de Binance."
   ]
  },
  {
   "cell_type": "code",
   "execution_count": 12,
   "id": "bd852e2a",
   "metadata": {},
   "outputs": [],
   "source": [
    "tools = [\n",
    "    {\n",
    "        \"function_declarations\": [\n",
    "            {\n",
    "                \"name\": \"get_crypto_price\",\n",
    "                \"description\": \"Obtener el precio de una criptomoneda en USDT desde Binance\",\n",
    "                \"parameters\": {\n",
    "                    \"type\": \"object\", \n",
    "                    \"properties\": {\n",
    "                        \"symbol\": {\n",
    "                            \"type\": \"string\",\n",
    "                            \"description\": \"El símbolo del par de trading de la criptomoneda (por ejemplo, BTCUSDT, ETHUSDT). \\\n",
    "                                            El símbolo para Bitcoin es BTCUSDT. \\\n",
    "                                            El símbolo para Ethereum es ETHUSDT.\"\n",
    "                        }\n",
    "                    },\n",
    "                    \"required\": [\"symbol\"]\n",
    "                }\n",
    "            }\n",
    "        ]\n",
    "    }\n",
    "]"
   ]
  },
  {
   "cell_type": "markdown",
   "id": "5405189d",
   "metadata": {},
   "source": [
    "Hacemos la misma pregunta pero pasando a Gemini la tool que acabamos de crear. Observamos que ahora Gemini no responde con un campo `text` sino con un campo `parts`. Con esto Gemini nos está indicando que quiere usar la `tool` para obtener el precio de cotización actual de Bitcoin. Los LLMs nunca llaman directamente a las `tools`, sino que nos piden que las llamemos nosotros."
   ]
  },
  {
   "cell_type": "code",
   "execution_count": 15,
   "id": "21b82a48",
   "metadata": {},
   "outputs": [
    {
     "name": "stdout",
     "output_type": "stream",
     "text": [
      "response:\n",
      "GenerateContentResponse(\n",
      "    done=True,\n",
      "    iterator=None,\n",
      "    result=protos.GenerateContentResponse({\n",
      "      \"candidates\": [\n",
      "        {\n",
      "          \"content\": {\n",
      "            \"parts\": [\n",
      "              {\n",
      "                \"function_call\": {\n",
      "                  \"name\": \"get_crypto_price\",\n",
      "                  \"args\": {\n",
      "                    \"symbol\": \"BTCUSDT\"\n",
      "                  }\n",
      "                }\n",
      "              }\n",
      "            ],\n",
      "            \"role\": \"model\"\n",
      "          },\n",
      "          \"finish_reason\": \"STOP\",\n",
      "          \"avg_logprobs\": -0.0027632578276097775\n",
      "        }\n",
      "      ],\n",
      "      \"usage_metadata\": {\n",
      "        \"prompt_token_count\": 72,\n",
      "        \"candidates_token_count\": 8,\n",
      "        \"total_token_count\": 80\n",
      "      },\n",
      "      \"model_version\": \"gemini-2.0-flash\"\n",
      "    }),\n",
      ")\n"
     ]
    }
   ],
   "source": [
    "PROMPT = \"¿Cuál es el precio actual de Bitcoin (BTCUSDT)?\"\n",
    "chat = model.start_chat()\n",
    "response = chat.send_message(PROMPT, tools=tools)\n",
    "print(response)"
   ]
  },
  {
   "cell_type": "markdown",
   "id": "ba31c212",
   "metadata": {},
   "source": [
    "Hacemos lo que nos pide Gemini."
   ]
  },
  {
   "cell_type": "code",
   "execution_count": 16,
   "id": "ca690852",
   "metadata": {},
   "outputs": [],
   "source": [
    "price = get_crypto_price(\"BTCUSDT\")"
   ]
  },
  {
   "cell_type": "markdown",
   "id": "bc0996aa",
   "metadata": {},
   "source": [
    "Y le enviamos la respuesta de la `tool` a Gemini."
   ]
  },
  {
   "cell_type": "code",
   "execution_count": 17,
   "id": "3b0d89c8",
   "metadata": {},
   "outputs": [
    {
     "name": "stdout",
     "output_type": "stream",
     "text": [
      "response:\n",
      "GenerateContentResponse(\n",
      "    done=True,\n",
      "    iterator=None,\n",
      "    result=protos.GenerateContentResponse({\n",
      "      \"candidates\": [\n",
      "        {\n",
      "          \"content\": {\n",
      "            \"parts\": [\n",
      "              {\n",
      "                \"text\": \"El precio actual de Bitcoin (BTCUSDT) es 109027.72.\\n\"\n",
      "              }\n",
      "            ],\n",
      "            \"role\": \"model\"\n",
      "          },\n",
      "          \"finish_reason\": \"STOP\",\n",
      "          \"avg_logprobs\": -0.002813226797363975\n",
      "        }\n",
      "      ],\n",
      "      \"usage_metadata\": {\n",
      "        \"prompt_token_count\": 29,\n",
      "        \"candidates_token_count\": 22,\n",
      "        \"total_token_count\": 51\n",
      "      },\n",
      "      \"model_version\": \"gemini-2.0-flash\"\n",
      "    }),\n",
      ")\n"
     ]
    }
   ],
   "source": [
    "final_response = chat.send_message(str(price))\n",
    "print(final_response)"
   ]
  },
  {
   "cell_type": "code",
   "execution_count": 18,
   "id": "6858884a",
   "metadata": {},
   "outputs": [
    {
     "name": "stdout",
     "output_type": "stream",
     "text": [
      "El precio actual de Bitcoin (BTCUSDT) es 109027.72.\n",
      "\n"
     ]
    }
   ],
   "source": [
    "print(final_response.text)"
   ]
  },
  {
   "cell_type": "code",
   "execution_count": null,
   "id": "fa8eb0a6",
   "metadata": {},
   "outputs": [],
   "source": []
  }
 ],
 "metadata": {
  "kernelspec": {
   "display_name": ".venv",
   "language": "python",
   "name": "python3"
  },
  "language_info": {
   "codemirror_mode": {
    "name": "ipython",
    "version": 3
   },
   "file_extension": ".py",
   "mimetype": "text/x-python",
   "name": "python",
   "nbconvert_exporter": "python",
   "pygments_lexer": "ipython3",
   "version": "3.13.3"
  }
 },
 "nbformat": 4,
 "nbformat_minor": 5
}
